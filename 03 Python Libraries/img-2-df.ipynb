{
 "cells": [
  {
   "cell_type": "code",
   "execution_count": 2,
   "metadata": {},
   "outputs": [],
   "source": [
    "import cv2\n",
    "import csv\n",
    "import pytesseract\n",
    "\n",
    "# Read the image file\n",
    "image = cv2.imread(\".\\\\res\\\\Screenshot_2022-03-04_at_7.43.02_PM.png\")\n",
    "\n",
    "# Convert the image to grayscale\n",
    "grayscale_image = cv2.cvtColor(image, cv2.COLOR_BGR2GRAY)\n",
    "\n",
    "# Find the table in the image\n",
    "table_contours = cv2.findContours(grayscale_image, cv2.RETR_EXTERNAL, cv2.CHAIN_APPROX_SIMPLE)\n",
    "table_contour = table_contours[0][0]\n",
    "\n",
    "# Extract the table text\n",
    "table_text = pytesseract.image_to_string(grayscale_image, lang=\"eng\", config=\"--oem 3 --psm 6\")\n",
    "\n",
    "# Split the table text into rows\n",
    "table_rows = table_text.split(\"\\n\")\n",
    "\n",
    "# Create a CSV file\n",
    "# with open(\"table.csv\", \"w\") as csvfile:\n",
    "#     writer = csv.writer(csvfile, delimiter=\",\")\n",
    "#     for row in table_rows:\n",
    "#         writer.writerow(row.split())\n",
    "\n",
    "# Create Dataframe Program syntax\n",
    "strProgramSyntax = \"import pandas as pd\\n\\ndf = pd.\""
   ]
  },
  {
   "cell_type": "code",
   "execution_count": 3,
   "metadata": {},
   "outputs": [],
   "source": [
    "## Read this... !!! important !!!\n",
    "\n",
    "# https://nanonets.com/blog/ocr-with-tesseract/"
   ]
  },
  {
   "cell_type": "code",
   "execution_count": null,
   "metadata": {},
   "outputs": [],
   "source": [
    "#       \"school_code\"\t\"class\" \"name\"\t        \"age\"\t\"height\"\t\"weight\"\n",
    "# S1    s001\t        V\t    Alberto Franco\t12\t    173\t        35\n",
    "# S2    s002\t        V\t    Gino Mcneill\t12\t    192\t        32\n",
    "# S3    s003\t        VI\t    Ryan Parkes\t    13\t    186\t        33\n",
    "# S4    s001\t        VI\t    Eesha Hinton\t13\t    167\t        30\n",
    "# S5    s002\t        V\t    Gino Mcneill\t14\t    151\t        31\n",
    "# S6    s004\t        VI\t    David Parkes\t12\t    159\t        32\n",
    "# S7    s001\t        IX\t    Jane\t        15\t    140\t        40\n",
    "# S8    s003\t        \t    Martin\t        20\t    160\t        50"
   ]
  },
  {
   "cell_type": "code",
   "execution_count": null,
   "metadata": {},
   "outputs": [],
   "source": []
  }
 ],
 "metadata": {
  "kernelspec": {
   "display_name": "base",
   "language": "python",
   "name": "python3"
  },
  "language_info": {
   "codemirror_mode": {
    "name": "ipython",
    "version": 3
   },
   "file_extension": ".py",
   "mimetype": "text/x-python",
   "name": "python",
   "nbconvert_exporter": "python",
   "pygments_lexer": "ipython3",
   "version": "3.9.13"
  },
  "orig_nbformat": 4
 },
 "nbformat": 4,
 "nbformat_minor": 2
}
