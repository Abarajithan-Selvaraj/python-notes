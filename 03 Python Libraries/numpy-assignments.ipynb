{
 "cells": [
  {
   "cell_type": "code",
   "execution_count": 2,
   "metadata": {},
   "outputs": [],
   "source": [
    "import numpy as np"
   ]
  },
  {
   "cell_type": "code",
   "execution_count": 5,
   "metadata": {},
   "outputs": [
    {
     "name": "stdout",
     "output_type": "stream",
     "text": [
      "[ 3  1  2 10  2  2  2  1  4  6]\n",
      "[3, 1, 2, 10, 2, 2, 2, 1, 4, 6]\n",
      "[3, 1, 2, 10, 2, 2, 2, 1, 4, 6]\n"
     ]
    }
   ],
   "source": [
    "# D28 - Q1: Which of the following option(s) can add 1 to each element of array A?\n",
    "\n",
    "A = np.array([2, 0, 1, 9, 1, 1, 1, 0, 3, 5])\n",
    "\n",
    "print(A + 1)\n",
    "print(list(map(lambda x:x+1, A)))\n",
    "print([x+1 for x in A])"
   ]
  },
  {
   "cell_type": "code",
   "execution_count": 6,
   "metadata": {},
   "outputs": [],
   "source": [
    "# D28 - Q2: Given an array, return the shape and dimension of the array.\n",
    "\n",
    "import numpy as np\n",
    "\n",
    "def get_array_properties(arr):\n",
    "    '''\n",
    "    INPUT: arr -> A nD array\n",
    "    OUTPUT: result -> tuple consisting of shape and dimension\n",
    "    '''\n",
    "    \n",
    "    ## STEP 1. Get the shape of array\n",
    "    shape = arr.shape\n",
    "    \n",
    "    ## STEP 2. Get the dimension of array\n",
    "    dim = arr.ndim\n",
    "    \n",
    "    return shape,dim"
   ]
  },
  {
   "cell_type": "code",
   "execution_count": 7,
   "metadata": {},
   "outputs": [
    {
     "name": "stdout",
     "output_type": "stream",
     "text": [
      "[22 24 26 28 30 32 34 36 38 40 42 44 46 48 50 52 54 56 58 60 62 64 66 68\n",
      " 70]\n",
      "[21 23 25 27 29 31 33 35 37 39 41 43 45 47 49 51 53 55 57 59 61 63 65 67\n",
      " 69 71]\n"
     ]
    }
   ],
   "source": [
    "# D28 - Q3: Which options correctly answer questions a and b?\n",
    "# a. Write the code using np.arange() to get all even numbers between 21 and 70, (70 inclusive)\n",
    "# b. Write the code using np.arange() to get all odd numbers between 20 and 71. (71 inclusive)\n",
    "\n",
    "# a =>\n",
    "print(np.arange(22, 71, 2))\n",
    "\n",
    "# b =>\n",
    "print(np.arange(21, 72, 2))"
   ]
  },
  {
   "cell_type": "code",
   "execution_count": 8,
   "metadata": {},
   "outputs": [
    {
     "data": {
      "text/plain": [
       "array([5. , 5.5, 6. , 6.5])"
      ]
     },
     "execution_count": 8,
     "metadata": {},
     "output_type": "execute_result"
    }
   ],
   "source": [
    "# D28 - Q4: Given the start, end, and the stepsize return a numpy array sequence in given range with the specified stepsize.\n",
    "\n",
    "def create_seq(start, end, step):\n",
    "    '''\n",
    "    INPUT: start, end, step \n",
    "    OUTPUT: arr -> 1D numpy array\n",
    "    '''\n",
    "    \n",
    "    arr = np.round(np.arange(start, end, step), 2)\n",
    "\n",
    "    return arr\n",
    "\n",
    "create_seq(5, 7, 0.5)"
   ]
  },
  {
   "cell_type": "code",
   "execution_count": 9,
   "metadata": {},
   "outputs": [
    {
     "data": {
      "text/plain": [
       "array([ 5,  8, 11, 14, 17, 20, 23, 26, 29, 32])"
      ]
     },
     "execution_count": 9,
     "metadata": {},
     "output_type": "execute_result"
    }
   ],
   "source": [
    "# D28 - Q5: Create a sequence of a given length from a given start point, where the difference between 2 consecutive elements of the expected sequence is also given as step.\n",
    "\n",
    "def seq(start, length, step):\n",
    "    ''' start, length and step are in form of integers all representing the attributes as their names suggest\n",
    "        output -> A numpy array is expected to be returned'''\n",
    "\n",
    "    # YOUR CODE GOES HERE \n",
    "    sequence = np.array([start + (i * step) for i in range(length)])\n",
    "    \n",
    "    return sequence\n",
    "\n",
    "seq(5, 10, 3)"
   ]
  },
  {
   "cell_type": "code",
   "execution_count": 10,
   "metadata": {},
   "outputs": [],
   "source": [
    "# D29 - Q1: Given a 1D array, return the first and last elements from the array.\n",
    "\n",
    "def get_elements(arr):\n",
    "    '''\n",
    "    INPUT: arr -> 1D numpy array\n",
    "    OUTPUT elements -> tuple of first and last element.\n",
    "    '''\n",
    "    \n",
    "    first_element = arr[0]\n",
    "    last_element = arr[-1]\n",
    "    \n",
    "    return (first_element, last_element)"
   ]
  },
  {
   "cell_type": "code",
   "execution_count": 11,
   "metadata": {},
   "outputs": [],
   "source": [
    "# D29 - Q2: Given an array of marks, return the array only containing elements with marks > 40\n",
    "\n",
    "def filter_marks(marks):\n",
    "    '''\n",
    "    INPUT: marks -> 1D array\n",
    "    OUTPUT: filtered_marks -> 1D array\n",
    "    '''\n",
    "    \n",
    "    ### Step 1 Get the mask for marks > 40\n",
    "    mask = marks > 40\n",
    "    \n",
    "    ### STEP 2 use the mask to filter the array\n",
    "    filtered_array = marks[mask]\n",
    "    \n",
    "    return filtered_array"
   ]
  },
  {
   "cell_type": "code",
   "execution_count": 15,
   "metadata": {},
   "outputs": [
    {
     "data": {
      "text/plain": [
       "array([  5,  -9,  20,  25,   3,  -5,  16, -10,  -8])"
      ]
     },
     "execution_count": 15,
     "metadata": {},
     "output_type": "execute_result"
    }
   ],
   "source": [
    "# D29 - Q3: Which option is right about the output of the following code snippet?\n",
    "\n",
    "x = np.array([-5, 9 , 20 , 25, -3, 5, 16, 10,-8])\n",
    "x[(x >= -5) & (x <= 15)] *= -1 \n",
    "x"
   ]
  },
  {
   "cell_type": "code",
   "execution_count": 22,
   "metadata": {},
   "outputs": [
    {
     "data": {
      "text/plain": [
       "array([0.12, 0.27, 0.5 , 0.73, 0.88])"
      ]
     },
     "execution_count": 22,
     "metadata": {},
     "output_type": "execute_result"
    }
   ],
   "source": [
    "# D29 - Q4: Given a NumPy array of integer elements, write a program that calculates the sigmoid value of each of those elements and returns these sigmoid values rounded up to 2 decimal places in a NumPy array.\n",
    "# The value of sigmoid function for an element x is:\n",
    "\n",
    "arr = np.array([-2, -1, 0, 1, 2])\n",
    "z = np.exp(-arr)\n",
    "denom = 1 + z    \n",
    "result = 1 / denom\n",
    "result = np.round_(result, 2)\n",
    "result\n",
    " "
   ]
  },
  {
   "attachments": {
    "image.png": {
     "image/png": "[encoded data removed]"
    }
   },
   "cell_type": "markdown",
   "metadata": {},
   "source": [
    "![image.png](attachment:image.png)"
   ]
  },
  {
   "cell_type": "code",
   "execution_count": 29,
   "metadata": {},
   "outputs": [],
   "source": [
    "# D29 - Q5: Gunjan is working on a swap of drones that can perform light shows.\n",
    "# For that, she is maintaining a list of the height of each drone and is updating that for each step.\n",
    "# Height = [h1,h2,h3………hn] # height of each drone\n",
    "# Delta_h = [d1,d2,d3……dn] # change in height of each drone\n",
    "# For each second she updates the Height array by adding the corresponding change to the height.\n",
    "# For that, she tried out 2 methods as listed below. Help her in arranging them in ascending order of time.\n",
    "\n",
    "# numpy method\n",
    "def update_height_np(height,delta):\n",
    "    height = np.array(height)\n",
    "    delta = np.array(delta)\n",
    "    new_height = height+delta\n",
    "    return new_height\n",
    "\n",
    "# python method\n",
    "def update_height_py(height, delta):\n",
    "    new_height=[]\n",
    "\n",
    "    for i in range(len(height)):\n",
    "        new_height.append(height[i]+delta[i])\n",
    "\n",
    "    return new_height"
   ]
  },
  {
   "cell_type": "code",
   "execution_count": 30,
   "metadata": {},
   "outputs": [
    {
     "name": "stdout",
     "output_type": "stream",
     "text": [
      "1.54 µs ± 22.6 ns per loop (mean ± std. dev. of 7 runs, 1000000 loops each)\n",
      "562 ns ± 2.05 ns per loop (mean ± std. dev. of 7 runs, 1000000 loops each)\n"
     ]
    }
   ],
   "source": [
    "%timeit update_height_np([1, 2, 3, 4], [2, 3, 4, 5])\n",
    "%timeit update_height_py([1, 2, 3, 4], [2, 3, 4, 5])"
   ]
  },
  {
   "cell_type": "code",
   "execution_count": 32,
   "metadata": {},
   "outputs": [],
   "source": [
    "# D29 - Q6: Given two NumPy arrays 'A' and 'B', calculate the Mean Squared Error for these arrays up to 2 decimal places.\n",
    "# MSE is defined as follows:\n",
    "\n",
    "def mse(A,B):\n",
    "    '''A,B -> Numpy arrays\n",
    "       output -> A float rounded up to 2 decimal points should be returned'''\n",
    "    \n",
    "    ### STEP 1. Calculate difference between elements of A and B\n",
    "    diff = A - B\n",
    "    \n",
    "    ## STEP 2: Take square of difference\n",
    "    sq_diff = diff**2\n",
    "    \n",
    "    ## STEP3 : Take mean of squared difference\n",
    "    mean_sq_diff = np.mean(sq_diff)\n",
    "    \n",
    "    ## STEP 4 : Round off values to 2 decimal places.\n",
    "    mean_sq_diff = np.round_(mean_sq_diff, 2)\n",
    "    \n",
    "    return mean_sq_diff\n"
   ]
  },
  {
   "attachments": {
    "image.png": {
     "image/png": "[encoded data removed]"
    }
   },
   "cell_type": "markdown",
   "metadata": {},
   "source": [
    "![image.png](attachment:image.png)"
   ]
  },
  {
   "cell_type": "code",
   "execution_count": 34,
   "metadata": {},
   "outputs": [
    {
     "name": "stdout",
     "output_type": "stream",
     "text": [
      "Ram\n"
     ]
    },
    {
     "data": {
      "text/plain": [
       "array([False, False, False])"
      ]
     },
     "execution_count": 34,
     "metadata": {},
     "output_type": "execute_result"
    }
   ],
   "source": [
    "# D29 - Q7: \n",
    "# A. What is the last element of the output?\n",
    "import numpy as np\n",
    "print(np.sort(np.array(['Ram','Astha','Raghavendra']))[-1])\n",
    "# B. What is the output of the code snippet given below?\n",
    "arr1 = np.array(['Ram','Astha','Brahat'])\n",
    "arr2 = np.array(['Shyam','Kalyan','Naveen'])\n",
    "arr1 > arr2"
   ]
  },
  {
   "cell_type": "code",
   "execution_count": 35,
   "metadata": {},
   "outputs": [
    {
     "name": "stdout",
     "output_type": "stream",
     "text": [
      "[False  True False  True]\n"
     ]
    }
   ],
   "source": [
    "# D29 - Q8: What will be the output of the following code?\n",
    "\n",
    "a = np.array([100, 200, 300, 400])\n",
    "b = np.array([300, 200, 100, 400])\n",
    "\n",
    "print(a == b)"
   ]
  },
  {
   "cell_type": "code",
   "execution_count": 53,
   "metadata": {},
   "outputs": [],
   "source": [
    "# D29 - Q9: Given a list of birds and their corresponding age, calculate the mean age of the Crane bird (rounded off to 2 decimal points)\n",
    "\n",
    "birds = np.array(['spoonbills',  'plovers',  'plovers',  'plovers',  'plovers',  'Cranes',  'plovers',  'plovers',  'Cranes',  'spoonbills'])\n",
    "age = np.array([5.5, 6.0, 3.5, 1.5, 3.0, 4.0, 3.5, 2.0, 5.5, 6.0])\n",
    "\n",
    "def calculate_mean_age(birds, age):\n",
    "    '''\n",
    "    INPUT: birds, age -> 1D array\n",
    "    OUPUT: mean_age -> float variable\n",
    "    '''\n",
    "    \n",
    "    mean_age = None\n",
    "    \n",
    "    ## STEP1. Create mask to get Crane birds from birds array\n",
    "    mask = birds == 'Cranes'\n",
    "    \n",
    "    ## STEP2. Get the age of crane birds\n",
    "    crane_ages = age[mask]\n",
    "    \n",
    "    ## STEP 3. Calculate mean age of crane birds\n",
    "    mean_age = np.mean(crane_ages)\n",
    "    \n",
    "    ## STEP 4. Round off the mean age to 2 decimal points\n",
    "    mean_age = np.round_(mean_age, 2)\n",
    "    \n",
    "    return mean_age"
   ]
  },
  {
   "cell_type": "code",
   "execution_count": 16,
   "metadata": {},
   "outputs": [
    {
     "data": {
      "text/plain": [
       "array([[7, 4, 1],\n",
       "       [8, 5, 2],\n",
       "       [9, 6, 3]])"
      ]
     },
     "execution_count": 16,
     "metadata": {},
     "output_type": "execute_result"
    }
   ],
   "source": [
    "# D30 - Q1: Given an array in form of a matrix of size (n, n), rotate the matrix clockwise by 90º.\n",
    "\n",
    "a = np.array([[1, 2, 3], [4, 5, 6], [7, 8, 9]])\n",
    "\n",
    "a.T[::, ::-1]"
   ]
  },
  {
   "cell_type": "code",
   "execution_count": 20,
   "metadata": {},
   "outputs": [
    {
     "data": {
      "text/plain": [
       "array([1, 2, 3, 7, 8, 9])"
      ]
     },
     "execution_count": 20,
     "metadata": {},
     "output_type": "execute_result"
    }
   ],
   "source": [
    "# D30 - Q2: Given a M x N array, Perform the following operations:\n",
    "# 1. Get the odd rows from the array i.e. 1st, 3rd, 5th etc..\n",
    "# 2. Convert the above result into 1D array and return it.\n",
    "\n",
    "a = np.array([[1, 2, 3], [4, 5, 6], [7, 8, 9]])\n",
    "a[::2, ::].flatten()"
   ]
  },
  {
   "cell_type": "code",
   "execution_count": 22,
   "metadata": {},
   "outputs": [
    {
     "data": {
      "text/plain": [
       "array([[3, 2, 1],\n",
       "       [6, 5, 4],\n",
       "       [9, 8, 7]])"
      ]
     },
     "execution_count": 22,
     "metadata": {},
     "output_type": "execute_result"
    }
   ],
   "source": [
    "# D30 - Q3: Given a 2D numpy array, return array with its values in the column reversed.\n",
    "\n",
    "a = np.array([[1, 2, 3], [4, 5, 6], [7, 8, 9]])\n",
    "a[::, ::-1]"
   ]
  },
  {
   "cell_type": "code",
   "execution_count": 33,
   "metadata": {},
   "outputs": [
    {
     "data": {
      "text/plain": [
       "array(['plovers', 'plovers', 'plovers', 'plovers', 'plovers', 'Cranes',\n",
       "       'spoonbills', 'Cranes', 'plovers', 'spoonbills'], dtype='<U10')"
      ]
     },
     "execution_count": 33,
     "metadata": {},
     "output_type": "execute_result"
    }
   ],
   "source": [
    "# D31 - Q1: Given a list of birds and their corresponding age, return the name of birds sorted according to age (ascending)\n",
    "\n",
    "birds = np.array(['spoonbills',  'plovers',  'plovers',  'plovers',  'plovers',  'Cranes',  'plovers',  'plovers',  'Cranes',  'spoonbills'])\n",
    "age = np.array([5.5, 6.0, 3.5, 1.5, 3.0, 4.0, 3.5, 2.0, 5.5, 6.0])\n",
    "\n",
    "birds[np.argsort(age)]\n"
   ]
  },
  {
   "cell_type": "code",
   "execution_count": 50,
   "metadata": {},
   "outputs": [
    {
     "data": {
      "text/plain": [
       "array([[13, 14, 15],\n",
       "       [ 9, 10, 11],\n",
       "       [ 5,  6,  7]])"
      ]
     },
     "execution_count": 50,
     "metadata": {},
     "output_type": "execute_result"
    }
   ],
   "source": [
    "# D31 - Q2: Given a 2d array, write a program to return a subarray such that the subarray consists of the elements from:\n",
    "# 1. the second to the fourth row of the original array,\n",
    "# 2. the elements in these rows should be from the last three columns of the corresponding rows of the original array,\n",
    "# 3. the rows should be in reversed order.\n",
    "\n",
    "a = np.array([[ 0,  1,  2,  3], [ 4,  5,  6,  7],    [ 8,  9, 10, 11],    [12, 13, 14, 15],    [16, 17, 18, 19]])\n",
    "\n",
    "b = a[1:4:1, -3::]\n",
    "b[::-1]"
   ]
  },
  {
   "cell_type": "code",
   "execution_count": 64,
   "metadata": {},
   "outputs": [
    {
     "data": {
      "text/plain": [
       "array([[4, 8, 8],\n",
       "       [0, 6, 0],\n",
       "       [2, 4, 2]])"
      ]
     },
     "execution_count": 64,
     "metadata": {},
     "output_type": "execute_result"
    }
   ],
   "source": [
    "# D31 - Q3: Given a NumPy matrix of shape (n, n), remove all the odd elements from the matrix and return a new matrix of shape (k, k) consisting of all the remaining even elements from the original matrix.\n",
    "\n",
    "a = np.array([[ 7, 4, 8, 5, 1], [ 8, 0, 11, 3, 5], [ 9, 6, 3, 5, 0], [ 1, 5, 7, 3, 2], [ 4, 7, 2, 9, 1]])\n",
    "new_mat = a[a % 2 == 0]\n",
    "new_len = new_mat.size\n",
    "\n",
    "new_mat.reshape((int(np.sqrt(new_len)), int(np.sqrt(new_len))))"
   ]
  },
  {
   "cell_type": "code",
   "execution_count": 71,
   "metadata": {},
   "outputs": [
    {
     "data": {
      "text/plain": [
       "[0, 4, 8]"
      ]
     },
     "execution_count": 71,
     "metadata": {},
     "output_type": "execute_result"
    }
   ],
   "source": [
    "# D31 - Q4: Given the 2-D array X,\n",
    "\n",
    "X = np.arange(12).reshape(3,4)\n",
    "\n",
    "X.max(axis=1)\n",
    "X.sum()\n",
    "X.T.max(axis=0)\n",
    "[i.min() for i in X]"
   ]
  },
  {
   "cell_type": "code",
   "execution_count": 5,
   "metadata": {},
   "outputs": [
    {
     "data": {
      "text/plain": [
       "True"
      ]
     },
     "execution_count": 5,
     "metadata": {},
     "output_type": "execute_result"
    }
   ],
   "source": [
    "# D31 - Q5: In the below code, 'condition' implies the situation that arr has at least one value smaller than or equal to 0.6. Which option is true wrt the code and condition?\n",
    "\n",
    "arr = 2*np.arange(0,2,0.5)\n",
    "np.any(arr <= 0.6)"
   ]
  },
  {
   "cell_type": "code",
   "execution_count": 18,
   "metadata": {},
   "outputs": [
    {
     "data": {
      "text/plain": [
       "array([4], dtype=int64)"
      ]
     },
     "execution_count": 18,
     "metadata": {},
     "output_type": "execute_result"
    }
   ],
   "source": [
    "# D31 - Q6: Given a NumPy array, return the index of the first element that is greater than the target passed as an argument.\n",
    "# Return -1, if there isn't any element greater than the target.\n",
    "\n",
    "arr = np.array([-1,2,3,-4,5,6])\n",
    "target = 3\n",
    "\n",
    "-1 if np.all(arr[arr > target] == False) else np.argwhere(arr > target)[0]"
   ]
  },
  {
   "cell_type": "code",
   "execution_count": 5,
   "metadata": {},
   "outputs": [
    {
     "data": {
      "text/plain": [
       "array([[2, 1, 4],\n",
       "       [5, 3, 9],\n",
       "       [7, 6, 8]])"
      ]
     },
     "execution_count": 5,
     "metadata": {},
     "output_type": "execute_result"
    }
   ],
   "source": [
    "# D31 - Q7: You are a Teaching Assistant of the DSML course. You have access to every student’s marks in every quiz. The marks are stored in a matrix where matrix[i][j] represents the marks of the ith student in the jth quiz.\n",
    "# The course instructor wants you to sort the marks of students according to jth quiz in increasing order so that he can evaluate the performance of students in that particular quiz.\n",
    "# Here, you have to create a python program using which the instructor can sort the data on the basis of a given column(quiz). The program will return the matrix with the marks sorted in jth quiz.\n",
    "# The dimension of the input matrix is m× n, the output is expected to be a 2d numpy matrix of dimension mxn, but in the output the jth column must be arranged in the ascending order.\n",
    "# Note: The input will be 2D list not array. First convert it to array.\n",
    "\n",
    "a = np.array([[5, 3, 9], [2, 1, 4], [7, 6, 8]])\n",
    "a[a[:, 1].argsort()]"
   ]
  },
  {
   "cell_type": "code",
   "execution_count": 8,
   "metadata": {},
   "outputs": [
    {
     "data": {
      "text/plain": [
       "'parrot'"
      ]
     },
     "execution_count": 8,
     "metadata": {},
     "output_type": "execute_result"
    }
   ],
   "source": [
    "# D32 - Q1: Given a array of bird names and another array with corresponding ages of the birds, find the name of the oldest bird in the list.\n",
    "\n",
    "b = np.array(['sparrow', 'peacock', 'parrot', 'owl', 'peacock', 'macaw', 'macaw', 'parrot', 'macaw', 'peacock'])  \n",
    "a = np.array([6, 1, 6, 5, 7, 6, 0, 9, 0, 7])\n",
    "\n",
    "b[np.argmax(a)]\n"
   ]
  },
  {
   "cell_type": "code",
   "execution_count": 10,
   "metadata": {},
   "outputs": [
    {
     "data": {
      "text/plain": [
       "array([[ 9, 10, 11],\n",
       "       [12, 13, 14],\n",
       "       [15, 16, 17]])"
      ]
     },
     "execution_count": 10,
     "metadata": {},
     "output_type": "execute_result"
    }
   ],
   "source": [
    "# D32 - Q2: Given a 3D array of shape (2, 3, 3)\n",
    "\n",
    "a = np.array([[[ 0, 1, 2], [ 3, 4, 5], [ 6, 7, 8]], [[ 9, 10, 11], [12, 13, 14], [15, 16, 17]]])\n",
    "a[1,:,:]"
   ]
  },
  {
   "cell_type": "code",
   "execution_count": 12,
   "metadata": {},
   "outputs": [
    {
     "data": {
      "text/plain": [
       "array([[[0],\n",
       "        [2]],\n",
       "\n",
       "       [[4],\n",
       "        [6]]])"
      ]
     },
     "execution_count": 12,
     "metadata": {},
     "output_type": "execute_result"
    }
   ],
   "source": [
    "# D32 - Q3: Given a 3D of shape (2,2,2)\n",
    "\n",
    "arr = np.array([[[0, 1], [2, 3]], [[4, 5], [6, 7]]])\n",
    "arr[:, 0:, :1]"
   ]
  },
  {
   "cell_type": "code",
   "execution_count": 19,
   "metadata": {},
   "outputs": [
    {
     "name": "stdout",
     "output_type": "stream",
     "text": [
      "(4, 5) (5, 5)\n"
     ]
    },
    {
     "data": {
      "text/plain": [
       "array([[83, 82],\n",
       "       [85, 96]])"
      ]
     },
     "execution_count": 19,
     "metadata": {},
     "output_type": "execute_result"
    }
   ],
   "source": [
    "# D33 - Q1: Given two 2D arrays, row and column ranges,\n",
    "# Perform the following operations:\n",
    "# Find the matrix multiplication of the given two matrices and\n",
    "# Extract the elements from the output of above step using the given ranges\n",
    "# If matrix multiplication is not possible, return -1\n",
    "# Note: The end points (upper range) of both rows and columns are excluded.\n",
    "\n",
    "mat1 = np.array([[6, 6, 4, 7, 9], [0, 2, 2, 9, 3], [6, 0, 2, 5, 2], [2, 4, 3, 5, 5]])\n",
    "mat2 = np.array([[8, 6, 6, 8, 3], [2, 7, 0, 3, 1], [3, 2, 1, 5, 2], [7, 0, 7, 6, 8], [1, 5, 6, 4, 5]])\n",
    "\n",
    "s1 = np.shape(mat1)\n",
    "s2 = np.shape(mat2)\n",
    "\n",
    "mul = np.array([])\n",
    "\n",
    "if s1[1] == s2[0]:\n",
    "    mul = np.matmul(mat1, mat2)\n",
    "    print(s1, s2)\n",
    "\n",
    "mul[1:3:, 2:4:]\n"
   ]
  },
  {
   "cell_type": "code",
   "execution_count": 24,
   "metadata": {},
   "outputs": [
    {
     "data": {
      "text/plain": [
       "array([3, 7])"
      ]
     },
     "execution_count": 24,
     "metadata": {},
     "output_type": "execute_result"
    }
   ],
   "source": [
    "# D33: Q2 - Which of the following code will NOT throw an error ?\n",
    "\n",
    "# A\n",
    "arr1 = np.array([1,2,3])\n",
    "arr2 = np.array([9,8,7])\n",
    "np.dot(arr1, arr2)\n",
    "\n",
    "# B\n",
    "arr1 = np.array([[1,2], [3,4]])\n",
    "arr2 = np.array([[1], [2]])\n",
    "np.dot(arr1, arr2)\n",
    "\n",
    "# C\n",
    "arr1 = np.array([1,2,3])\n",
    "k = 3\n",
    "np.dot(arr1, k)\n",
    "\n",
    "# D\n",
    "arr1 = np.array([[1,2], [3,4]])\n",
    "arr2 = np.array([1,1])\n",
    "np.dot(arr1, arr2)"
   ]
  },
  {
   "cell_type": "code",
   "execution_count": 30,
   "metadata": {},
   "outputs": [
    {
     "data": {
      "text/plain": [
       "array([ 4,  4,  3, 18,  9,  4])"
      ]
     },
     "execution_count": 30,
     "metadata": {},
     "output_type": "execute_result"
    }
   ],
   "source": [
    "# D33 - Q3: Given 3 arrays, Which of the following are vectorized code(s) for array operations?\n",
    "\n",
    "arr1 = np.array([1,2,3,6,3,2])\n",
    "arr2 = np.array([4,2,1,3,3,2])\n",
    "arr3 = np.zeros(len(arr1))\n",
    "\n",
    "# A\n",
    "for i in range(len(arr1)): \n",
    "    arr3[i] = arr1[i] * arr2[i]\n",
    "\n",
    "# B\n",
    "arr3 = arr1*arr2 \n",
    "\n",
    "arr3"
   ]
  },
  {
   "cell_type": "code",
   "execution_count": 40,
   "metadata": {},
   "outputs": [
    {
     "data": {
      "text/plain": [
       "(3, 3, 1)"
      ]
     },
     "execution_count": 40,
     "metadata": {},
     "output_type": "execute_result"
    }
   ],
   "source": [
    "# D34 - Q1: Given two Numpy array A and B such that, A.shape = (3,3,1) and B.shape =(3,3)\n",
    "# a) A = A.squeeze(axis=2) \n",
    "# b) B = np.expand_dims( B, axis=2)\n",
    "# After performing the above lines of code, the shape of arrays A and B will be?\n",
    "\n",
    "arr = np.arange(1, 10)\n",
    "A = arr.reshape(3, 3, 1)\n",
    "B = arr.reshape(3, 3)\n",
    "\n",
    "A.squeeze(axis=2).shape\n",
    "np.expand_dims(B, axis=2).shape"
   ]
  },
  {
   "attachments": {
    "image.png": {
     "image/png": "[encoded data removed]"
    }
   },
   "cell_type": "markdown",
   "metadata": {},
   "source": [
    "![image.png](attachment:image.png)"
   ]
  },
  {
   "cell_type": "code",
   "execution_count": 44,
   "metadata": {},
   "outputs": [],
   "source": [
    "# D34 - Q2: According to the above code snippet, which two options are correct?\n",
    "\n",
    "arr = np.array([2, 4, 6, 8, 10])\n",
    "c0 = arr\n",
    "c0[0] = 12\n",
    "arr = np.array([2, 4, 6, 8, 10])\n",
    "c1 = arr.view()\n",
    "arr[0] = 12\n",
    "arr = np.array([2, 4, 6, 8, 10])\n",
    "c2 = arr.copy()\n",
    "arr[0] = 12\n",
    "\n",
    "# ANS: \n",
    "# c1 represents shallow copy and c2 represents deep copy\n",
    "# If arr and c1 are printed after line 4 and 7 respectively, they would have printed 12 as first element.\n"
   ]
  },
  {
   "cell_type": "code",
   "execution_count": 47,
   "metadata": {},
   "outputs": [
    {
     "name": "stdout",
     "output_type": "stream",
     "text": [
      "False\n",
      "True\n",
      "False\n",
      "True\n"
     ]
    }
   ],
   "source": [
    "# D34 - Q3: Which of the following will return a deep copy of array?\n",
    "\n",
    "arr = np.array([1,2,3,0,-2,4])\n",
    "\n",
    "# A\n",
    "arr1 = arr*1\n",
    "print(np.shares_memory(arr, arr1))\n",
    "\n",
    "# B\n",
    "arr1 = arr[:]\n",
    "print(np.shares_memory(arr, arr1))\n",
    "\n",
    "# C\n",
    "arr1 = arr[arr > 0]\n",
    "print(np.shares_memory(arr, arr1))\n",
    "\n",
    "# D\n",
    "arr1 = arr.reshape(2,3)\n",
    "print(np.shares_memory(arr, arr1))\n"
   ]
  },
  {
   "cell_type": "code",
   "execution_count": 3,
   "metadata": {},
   "outputs": [
    {
     "name": "stdout",
     "output_type": "stream",
     "text": [
      "[array([[0, 1, 2, 3]]), array([[4, 5, 6, 7]]), array([[ 8,  9, 10, 11]]), array([[12, 13, 14, 15]])]\n"
     ]
    }
   ],
   "source": [
    "# D35 - Q1: What will be the output of following code?\n",
    "\n",
    "arr = np.arange(16).reshape(4,4)  \n",
    "print(np.split(arr, 4))"
   ]
  },
  {
   "cell_type": "code",
   "execution_count": 8,
   "metadata": {},
   "outputs": [
    {
     "ename": "ValueError",
     "evalue": "array split does not result in an equal division",
     "output_type": "error",
     "traceback": [
      "\u001b[1;31m---------------------------------------------------------------------------\u001b[0m",
      "\u001b[1;31mValueError\u001b[0m                                Traceback (most recent call last)",
      "\u001b[1;32m~\\AppData\\Local\\Temp\\ipykernel_19840\\2888452322.py\u001b[0m in \u001b[0;36m<module>\u001b[1;34m\u001b[0m\n\u001b[0;32m      3\u001b[0m \u001b[1;31m# A\u001b[0m\u001b[1;33m\u001b[0m\u001b[1;33m\u001b[0m\u001b[0m\n\u001b[0;32m      4\u001b[0m \u001b[0marr\u001b[0m \u001b[1;33m=\u001b[0m \u001b[0mnp\u001b[0m\u001b[1;33m.\u001b[0m\u001b[0marange\u001b[0m\u001b[1;33m(\u001b[0m\u001b[1;36m10\u001b[0m\u001b[1;33m)\u001b[0m\u001b[1;33m\u001b[0m\u001b[1;33m\u001b[0m\u001b[0m\n\u001b[1;32m----> 5\u001b[1;33m \u001b[0mnp\u001b[0m\u001b[1;33m.\u001b[0m\u001b[0msplit\u001b[0m\u001b[1;33m(\u001b[0m\u001b[0marr\u001b[0m\u001b[1;33m,\u001b[0m \u001b[1;36m3\u001b[0m\u001b[1;33m)\u001b[0m\u001b[1;33m\u001b[0m\u001b[1;33m\u001b[0m\u001b[0m\n\u001b[0m\u001b[0;32m      6\u001b[0m \u001b[1;33m\u001b[0m\u001b[0m\n\u001b[0;32m      7\u001b[0m \u001b[1;31m# B\u001b[0m\u001b[1;33m\u001b[0m\u001b[1;33m\u001b[0m\u001b[0m\n",
      "\u001b[1;32m<__array_function__ internals>\u001b[0m in \u001b[0;36msplit\u001b[1;34m(*args, **kwargs)\u001b[0m\n",
      "\u001b[1;32mc:\\Users\\ABASL\\Anaconda3\\lib\\site-packages\\numpy\\lib\\shape_base.py\u001b[0m in \u001b[0;36msplit\u001b[1;34m(ary, indices_or_sections, axis)\u001b[0m\n\u001b[0;32m    870\u001b[0m         \u001b[0mN\u001b[0m \u001b[1;33m=\u001b[0m \u001b[0mary\u001b[0m\u001b[1;33m.\u001b[0m\u001b[0mshape\u001b[0m\u001b[1;33m[\u001b[0m\u001b[0maxis\u001b[0m\u001b[1;33m]\u001b[0m\u001b[1;33m\u001b[0m\u001b[1;33m\u001b[0m\u001b[0m\n\u001b[0;32m    871\u001b[0m         \u001b[1;32mif\u001b[0m \u001b[0mN\u001b[0m \u001b[1;33m%\u001b[0m \u001b[0msections\u001b[0m\u001b[1;33m:\u001b[0m\u001b[1;33m\u001b[0m\u001b[1;33m\u001b[0m\u001b[0m\n\u001b[1;32m--> 872\u001b[1;33m             raise ValueError(\n\u001b[0m\u001b[0;32m    873\u001b[0m                 'array split does not result in an equal division') from None\n\u001b[0;32m    874\u001b[0m     \u001b[1;32mreturn\u001b[0m \u001b[0marray_split\u001b[0m\u001b[1;33m(\u001b[0m\u001b[0mary\u001b[0m\u001b[1;33m,\u001b[0m \u001b[0mindices_or_sections\u001b[0m\u001b[1;33m,\u001b[0m \u001b[0maxis\u001b[0m\u001b[1;33m)\u001b[0m\u001b[1;33m\u001b[0m\u001b[1;33m\u001b[0m\u001b[0m\n",
      "\u001b[1;31mValueError\u001b[0m: array split does not result in an equal division"
     ]
    }
   ],
   "source": [
    "# D35 - Q2: Which of the following code snippet will raise an error?\n",
    "\n",
    "# A\n",
    "arr = np.arange(10)\n",
    "np.split(arr, 3)\n",
    "\n",
    "# B\n",
    "arr = np.arange(10)\n",
    "np.split(arr, 5)\n",
    "\n",
    "# C\n",
    "arr = np.arange(10)\n",
    "np.split(arr, [2,5])\n",
    "\n",
    "# D\n",
    "arr = np.arange(10)\n",
    "np.split(arr, [5, 12])"
   ]
  },
  {
   "cell_type": "code",
   "execution_count": 11,
   "metadata": {},
   "outputs": [
    {
     "data": {
      "text/plain": [
       "[array([0, 1, 2]), array([3, 4, 5]), array([6, 7, 8])]"
      ]
     },
     "execution_count": 11,
     "metadata": {},
     "output_type": "execute_result"
    }
   ],
   "source": [
    "# D35 - Q3: Given an 1D array and an integer k that specifies the number of equal parts to split the array into,\n",
    "# Perform the following operations:\n",
    "# Split the array into k number of equal parts.\n",
    "# Return the list of splitted arrays.\n",
    "# Assumption: Array can be splitted into k equal parts\n",
    "# Note: Recall how to split an array into equal parts.\n",
    "\n",
    "arr = np.array([0,1,2,3,4,5,6,7,8])\n",
    "k = 3\n",
    "\n",
    "np.split(arr, k)"
   ]
  },
  {
   "cell_type": "code",
   "execution_count": 15,
   "metadata": {},
   "outputs": [
    {
     "data": {
      "text/plain": [
       "[array([[ 0,  1],\n",
       "        [ 4,  5],\n",
       "        [ 8,  9],\n",
       "        [12, 13],\n",
       "        [16, 17],\n",
       "        [20, 21]]),\n",
       " array([[ 2],\n",
       "        [ 6],\n",
       "        [10],\n",
       "        [14],\n",
       "        [18],\n",
       "        [22]]),\n",
       " array([[ 3,  0],\n",
       "        [ 7,  0],\n",
       "        [11,  0],\n",
       "        [15,  0],\n",
       "        [19,  0],\n",
       "        [23,  0]])]"
      ]
     },
     "execution_count": 15,
     "metadata": {},
     "output_type": "execute_result"
    }
   ],
   "source": [
    "# D35 - Q4: Given an MxN 2D array (M >= 4),\n",
    "# Split the array column wise such that,\n",
    "# 1st sub array contains the first 2 columns\n",
    "# 2nd sub array contains the 3rd column\n",
    "# 3rd sub array contains the rest of the columns\n",
    "\n",
    "arr = np.array([[0, 1, 2, 3, 0], [4, 5, 6, 7, 0], [8, 9, 10, 11, 0], [12, 13, 14, 15, 0], [16, 17, 18, 19, 0], [20, 21, 22, 23, 0]])\n",
    "\n",
    "np.split(arr, (2, 3), axis=1)"
   ]
  },
  {
   "cell_type": "code",
   "execution_count": 16,
   "metadata": {},
   "outputs": [],
   "source": [
    "# D35 - Q5: Given a 2D array, which of the following will split the array row-wise?\n",
    "\n",
    "# ANS: vsplit()"
   ]
  },
  {
   "cell_type": "code",
   "execution_count": 25,
   "metadata": {},
   "outputs": [
    {
     "data": {
      "text/plain": [
       "False"
      ]
     },
     "execution_count": 25,
     "metadata": {},
     "output_type": "execute_result"
    }
   ],
   "source": [
    "# D35 - Q6: Given the following array, Which options are correct?\n",
    "\n",
    "arr = np.array([[1,2,3], [4,5,6], [7,8,9]])\n",
    "\n",
    "# A\n",
    "# np.hstack((arr, arr[:, 0])).shape == (3, 4)\n",
    "\n",
    "# B\n",
    "np.hstack((arr, arr[:, [0]])).shape == (3, 4)\n",
    "\n",
    "# C\n",
    "np.hstack((arr, arr[:, [0]])).shape == (4, 3)\n",
    "\n",
    "# D\n",
    "# np.hstack((arr,arr[:, 0]))        #--> Throws Error"
   ]
  },
  {
   "cell_type": "code",
   "execution_count": 26,
   "metadata": {},
   "outputs": [],
   "source": [
    "# D35 - Q7: Which of the following is used to stack arrays column wise?\n",
    "\n",
    "# ANS: hstack()"
   ]
  },
  {
   "cell_type": "code",
   "execution_count": 39,
   "metadata": {},
   "outputs": [
    {
     "name": "stdout",
     "output_type": "stream",
     "text": [
      "[0 1 2] [[0]\n",
      " [1]] [[0 1 2]\n",
      " [3 4 5]]\n"
     ]
    },
    {
     "data": {
      "text/plain": [
       "array([[0, 3, 0],\n",
       "       [1, 4, 1],\n",
       "       [2, 5, 2]])"
      ]
     },
     "execution_count": 39,
     "metadata": {},
     "output_type": "execute_result"
    }
   ],
   "source": [
    "# D35 - Q8: You are given NumPy arrays A, B, and C, where:\n",
    "# Which of the following operations can be performed on A, B, and C?\n",
    "# Note: np is the alias for NumPy in the options.\n",
    "\n",
    "# A.shape = (m,)\n",
    "# B.shape = (n, 1)\n",
    "# C.shape = (n, m)\n",
    "\n",
    "A = np.arange(3)\n",
    "B = np.arange(2).reshape(2, 1)\n",
    "C = np.arange(6).reshape(2, 3)\n",
    "\n",
    "print(A, B, C)\n",
    "\n",
    "# ANS:\n",
    "np.concatenate((C.T, A.reshape(3,1)), axis = 1)"
   ]
  },
  {
   "cell_type": "code",
   "execution_count": 90,
   "metadata": {},
   "outputs": [
    {
     "name": "stdout",
     "output_type": "stream",
     "text": [
      "(3,)\n"
     ]
    },
    {
     "data": {
      "text/plain": [
       "array([[0, 0, 0, 0, 0],\n",
       "       [0, 1, 2, 7, 0],\n",
       "       [0, 3, 4, 8, 0],\n",
       "       [0, 5, 6, 9, 0],\n",
       "       [0, 0, 0, 0, 0]])"
      ]
     },
     "execution_count": 90,
     "metadata": {},
     "output_type": "execute_result"
    }
   ],
   "source": [
    "# D35 - Q9: Given a NumPy array of shape (n,m). Add padding of a layer of 0’s on all 4 boundaries of the matrix.\n",
    "\n",
    "mat = np.array([[1, 2], [3, 4], [5, 6]])\n",
    "mat = np.array([[1, 2, 7], [3, 4, 8], [5, 6, 9]])\n",
    "# print(mat.shape)\n",
    "\n",
    "a = np.zeros(mat.shape[0], dtype=\"int\")\n",
    "print(a.shape)\n",
    "res = np.hstack((a.reshape(a.shape[0], 1), mat, (a.reshape(a.shape[0], 1))))\n",
    "\n",
    "b = np.zeros(res.shape[1], dtype=\"int\")\n",
    "\n",
    "res = np.vstack((b, res, b))\n",
    "res"
   ]
  },
  {
   "cell_type": "code",
   "execution_count": null,
   "metadata": {},
   "outputs": [],
   "source": []
  }
 ],
 "metadata": {
  "kernelspec": {
   "display_name": "base",
   "language": "python",
   "name": "python3"
  },
  "language_info": {
   "codemirror_mode": {
    "name": "ipython",
    "version": 3
   },
   "file_extension": ".py",
   "mimetype": "text/x-python",
   "name": "python",
   "nbconvert_exporter": "python",
   "pygments_lexer": "ipython3",
   "version": "3.9.13"
  },
  "orig_nbformat": 4
 },
 "nbformat": 4,
 "nbformat_minor": 2
}
