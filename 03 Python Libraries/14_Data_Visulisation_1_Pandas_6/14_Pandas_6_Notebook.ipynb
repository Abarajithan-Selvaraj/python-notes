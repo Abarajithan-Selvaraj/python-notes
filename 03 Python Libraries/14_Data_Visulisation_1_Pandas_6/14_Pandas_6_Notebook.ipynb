{
 "cells": [
  {
   "cell_type": "code",
   "execution_count": 1,
   "id": "068c449e",
   "metadata": {},
   "outputs": [
    {
     "name": "stdout",
     "output_type": "stream",
     "text": [
      "Welcome to Pandas-6\n"
     ]
    }
   ],
   "source": [
    "print(\"Welcome to Pandas-6\")"
   ]
  },
  {
   "cell_type": "markdown",
   "id": "a70145a0",
   "metadata": {},
   "source": [
    "# Agenda\n",
    "\n",
    "  - **Restructuring data** ✅\n",
    "    - `pd.cut()`✅\n",
    "    \n",
    "    \n",
    "  - **Handling Missing Values**✅\n",
    "  \n",
    "  \n",
    "  - **String method in pandas**✅\n",
    "  \n",
    "    \n",
    "  - **Handling datetime** ✅\n",
    "\n",
    "\n",
    "  - **Writing to a file** ✅"
   ]
  },
  {
   "cell_type": "code",
   "execution_count": 3,
   "id": "5655b2ef",
   "metadata": {},
   "outputs": [],
   "source": [
    "import pandas as pd \n",
    "import numpy as np\n"
   ]
  },
  {
   "cell_type": "code",
   "execution_count": 4,
   "id": "7a125d1b",
   "metadata": {},
   "outputs": [
    {
     "name": "stdout",
     "output_type": "stream",
     "text": [
      "Downloading...\n",
      "From: https://drive.google.com/uc?id=173A59xh2mnpmljCCB9bhC4C5eP2IS6qZ\n",
      "To: /Users/nikhilsanghi/Downloads/01_dsml-course-main-live/batches/1_Aug_Beg_Mon/14_Data_Visulisation_1_Pandas_6/Pfizer_1.csv\n",
      "100%|██████████████████████████████████████| 1.51k/1.51k [00:00<00:00, 1.79MB/s]\n"
     ]
    }
   ],
   "source": [
    "!gdown 173A59xh2mnpmljCCB9bhC4C5eP2IS6qZ"
   ]
  },
  {
   "cell_type": "code",
   "execution_count": 127,
   "id": "5f1a037d",
   "metadata": {},
   "outputs": [
    {
     "data": {
      "text/html": [
       "<div>\n",
       "<style scoped>\n",
       "    .dataframe tbody tr th:only-of-type {\n",
       "        vertical-align: middle;\n",
       "    }\n",
       "\n",
       "    .dataframe tbody tr th {\n",
       "        vertical-align: top;\n",
       "    }\n",
       "\n",
       "    .dataframe thead th {\n",
       "        text-align: right;\n",
       "    }\n",
       "</style>\n",
       "<table border=\"1\" class=\"dataframe\">\n",
       "  <thead>\n",
       "    <tr style=\"text-align: right;\">\n",
       "      <th></th>\n",
       "      <th>Date</th>\n",
       "      <th>Drug_Name</th>\n",
       "      <th>Parameter</th>\n",
       "      <th>1:30:00</th>\n",
       "      <th>2:30:00</th>\n",
       "      <th>3:30:00</th>\n",
       "      <th>4:30:00</th>\n",
       "      <th>5:30:00</th>\n",
       "      <th>6:30:00</th>\n",
       "      <th>7:30:00</th>\n",
       "      <th>8:30:00</th>\n",
       "      <th>9:30:00</th>\n",
       "      <th>10:30:00</th>\n",
       "      <th>11:30:00</th>\n",
       "      <th>12:30:00</th>\n",
       "    </tr>\n",
       "  </thead>\n",
       "  <tbody>\n",
       "    <tr>\n",
       "      <th>0</th>\n",
       "      <td>15-10-2020</td>\n",
       "      <td>diltiazem hydrochloride</td>\n",
       "      <td>Temperature</td>\n",
       "      <td>23.0</td>\n",
       "      <td>22.0</td>\n",
       "      <td>NaN</td>\n",
       "      <td>21.0</td>\n",
       "      <td>21.0</td>\n",
       "      <td>22</td>\n",
       "      <td>23.0</td>\n",
       "      <td>21.0</td>\n",
       "      <td>22.0</td>\n",
       "      <td>20</td>\n",
       "      <td>20.0</td>\n",
       "      <td>21</td>\n",
       "    </tr>\n",
       "    <tr>\n",
       "      <th>1</th>\n",
       "      <td>15-10-2020</td>\n",
       "      <td>diltiazem hydrochloride</td>\n",
       "      <td>Pressure</td>\n",
       "      <td>12.0</td>\n",
       "      <td>13.0</td>\n",
       "      <td>NaN</td>\n",
       "      <td>11.0</td>\n",
       "      <td>13.0</td>\n",
       "      <td>14</td>\n",
       "      <td>16.0</td>\n",
       "      <td>16.0</td>\n",
       "      <td>24.0</td>\n",
       "      <td>18</td>\n",
       "      <td>19.0</td>\n",
       "      <td>20</td>\n",
       "    </tr>\n",
       "    <tr>\n",
       "      <th>2</th>\n",
       "      <td>15-10-2020</td>\n",
       "      <td>docetaxel injection</td>\n",
       "      <td>Temperature</td>\n",
       "      <td>NaN</td>\n",
       "      <td>17.0</td>\n",
       "      <td>18.0</td>\n",
       "      <td>NaN</td>\n",
       "      <td>17.0</td>\n",
       "      <td>18</td>\n",
       "      <td>NaN</td>\n",
       "      <td>NaN</td>\n",
       "      <td>23.0</td>\n",
       "      <td>23</td>\n",
       "      <td>25.0</td>\n",
       "      <td>25</td>\n",
       "    </tr>\n",
       "    <tr>\n",
       "      <th>3</th>\n",
       "      <td>15-10-2020</td>\n",
       "      <td>docetaxel injection</td>\n",
       "      <td>Pressure</td>\n",
       "      <td>NaN</td>\n",
       "      <td>22.0</td>\n",
       "      <td>22.0</td>\n",
       "      <td>NaN</td>\n",
       "      <td>22.0</td>\n",
       "      <td>23</td>\n",
       "      <td>NaN</td>\n",
       "      <td>NaN</td>\n",
       "      <td>27.0</td>\n",
       "      <td>26</td>\n",
       "      <td>29.0</td>\n",
       "      <td>28</td>\n",
       "    </tr>\n",
       "    <tr>\n",
       "      <th>4</th>\n",
       "      <td>15-10-2020</td>\n",
       "      <td>ketamine hydrochloride</td>\n",
       "      <td>Temperature</td>\n",
       "      <td>24.0</td>\n",
       "      <td>NaN</td>\n",
       "      <td>NaN</td>\n",
       "      <td>27.0</td>\n",
       "      <td>NaN</td>\n",
       "      <td>26</td>\n",
       "      <td>25.0</td>\n",
       "      <td>24.0</td>\n",
       "      <td>23.0</td>\n",
       "      <td>22</td>\n",
       "      <td>21.0</td>\n",
       "      <td>20</td>\n",
       "    </tr>\n",
       "  </tbody>\n",
       "</table>\n",
       "</div>"
      ],
      "text/plain": [
       "         Date                Drug_Name    Parameter  1:30:00  2:30:00  \\\n",
       "0  15-10-2020  diltiazem hydrochloride  Temperature     23.0     22.0   \n",
       "1  15-10-2020  diltiazem hydrochloride     Pressure     12.0     13.0   \n",
       "2  15-10-2020      docetaxel injection  Temperature      NaN     17.0   \n",
       "3  15-10-2020      docetaxel injection     Pressure      NaN     22.0   \n",
       "4  15-10-2020   ketamine hydrochloride  Temperature     24.0      NaN   \n",
       "\n",
       "   3:30:00  4:30:00  5:30:00  6:30:00  7:30:00  8:30:00  9:30:00  10:30:00  \\\n",
       "0      NaN     21.0     21.0       22     23.0     21.0     22.0        20   \n",
       "1      NaN     11.0     13.0       14     16.0     16.0     24.0        18   \n",
       "2     18.0      NaN     17.0       18      NaN      NaN     23.0        23   \n",
       "3     22.0      NaN     22.0       23      NaN      NaN     27.0        26   \n",
       "4      NaN     27.0      NaN       26     25.0     24.0     23.0        22   \n",
       "\n",
       "   11:30:00  12:30:00  \n",
       "0      20.0        21  \n",
       "1      19.0        20  \n",
       "2      25.0        25  \n",
       "3      29.0        28  \n",
       "4      21.0        20  "
      ]
     },
     "execution_count": 127,
     "metadata": {},
     "output_type": "execute_result"
    }
   ],
   "source": [
    "df=pd.read_csv(\"Pfizer_1.csv\")\n",
    "df.head()"
   ]
  },
  {
   "cell_type": "code",
   "execution_count": 128,
   "id": "8a133273",
   "metadata": {},
   "outputs": [
    {
     "data": {
      "text/html": [
       "<div>\n",
       "<style scoped>\n",
       "    .dataframe tbody tr th:only-of-type {\n",
       "        vertical-align: middle;\n",
       "    }\n",
       "\n",
       "    .dataframe tbody tr th {\n",
       "        vertical-align: top;\n",
       "    }\n",
       "\n",
       "    .dataframe thead th {\n",
       "        text-align: right;\n",
       "    }\n",
       "</style>\n",
       "<table border=\"1\" class=\"dataframe\">\n",
       "  <thead>\n",
       "    <tr style=\"text-align: right;\">\n",
       "      <th></th>\n",
       "      <th>Date</th>\n",
       "      <th>Drug_Name</th>\n",
       "      <th>Parameter</th>\n",
       "      <th>Time</th>\n",
       "      <th>Reading</th>\n",
       "    </tr>\n",
       "  </thead>\n",
       "  <tbody>\n",
       "    <tr>\n",
       "      <th>0</th>\n",
       "      <td>15-10-2020</td>\n",
       "      <td>diltiazem hydrochloride</td>\n",
       "      <td>Temperature</td>\n",
       "      <td>1:30:00</td>\n",
       "      <td>23.0</td>\n",
       "    </tr>\n",
       "    <tr>\n",
       "      <th>1</th>\n",
       "      <td>15-10-2020</td>\n",
       "      <td>diltiazem hydrochloride</td>\n",
       "      <td>Pressure</td>\n",
       "      <td>1:30:00</td>\n",
       "      <td>12.0</td>\n",
       "    </tr>\n",
       "    <tr>\n",
       "      <th>2</th>\n",
       "      <td>15-10-2020</td>\n",
       "      <td>docetaxel injection</td>\n",
       "      <td>Temperature</td>\n",
       "      <td>1:30:00</td>\n",
       "      <td>NaN</td>\n",
       "    </tr>\n",
       "    <tr>\n",
       "      <th>3</th>\n",
       "      <td>15-10-2020</td>\n",
       "      <td>docetaxel injection</td>\n",
       "      <td>Pressure</td>\n",
       "      <td>1:30:00</td>\n",
       "      <td>NaN</td>\n",
       "    </tr>\n",
       "    <tr>\n",
       "      <th>4</th>\n",
       "      <td>15-10-2020</td>\n",
       "      <td>ketamine hydrochloride</td>\n",
       "      <td>Temperature</td>\n",
       "      <td>1:30:00</td>\n",
       "      <td>24.0</td>\n",
       "    </tr>\n",
       "  </tbody>\n",
       "</table>\n",
       "</div>"
      ],
      "text/plain": [
       "         Date                Drug_Name    Parameter     Time  Reading\n",
       "0  15-10-2020  diltiazem hydrochloride  Temperature  1:30:00     23.0\n",
       "1  15-10-2020  diltiazem hydrochloride     Pressure  1:30:00     12.0\n",
       "2  15-10-2020      docetaxel injection  Temperature  1:30:00      NaN\n",
       "3  15-10-2020      docetaxel injection     Pressure  1:30:00      NaN\n",
       "4  15-10-2020   ketamine hydrochloride  Temperature  1:30:00     24.0"
      ]
     },
     "execution_count": 128,
     "metadata": {},
     "output_type": "execute_result"
    }
   ],
   "source": [
    "df_melt=pd.melt(df,\n",
    "                id_vars=[\"Date\",\"Drug_Name\",\"Parameter\"],\n",
    "                var_name=\"Time\",\n",
    "                value_name=\"Reading\")\n",
    "df_melt.head()"
   ]
  },
  {
   "cell_type": "code",
   "execution_count": 129,
   "id": "cad23e5c",
   "metadata": {},
   "outputs": [
    {
     "data": {
      "text/html": [
       "<div>\n",
       "<style scoped>\n",
       "    .dataframe tbody tr th:only-of-type {\n",
       "        vertical-align: middle;\n",
       "    }\n",
       "\n",
       "    .dataframe tbody tr th {\n",
       "        vertical-align: top;\n",
       "    }\n",
       "\n",
       "    .dataframe thead th {\n",
       "        text-align: right;\n",
       "    }\n",
       "</style>\n",
       "<table border=\"1\" class=\"dataframe\">\n",
       "  <thead>\n",
       "    <tr style=\"text-align: right;\">\n",
       "      <th>Parameter</th>\n",
       "      <th>Date</th>\n",
       "      <th>Drug_Name</th>\n",
       "      <th>Time</th>\n",
       "      <th>Pressure</th>\n",
       "      <th>Temperature</th>\n",
       "    </tr>\n",
       "  </thead>\n",
       "  <tbody>\n",
       "    <tr>\n",
       "      <th>0</th>\n",
       "      <td>15-10-2020</td>\n",
       "      <td>diltiazem hydrochloride</td>\n",
       "      <td>10:30:00</td>\n",
       "      <td>18.0</td>\n",
       "      <td>20.0</td>\n",
       "    </tr>\n",
       "    <tr>\n",
       "      <th>1</th>\n",
       "      <td>15-10-2020</td>\n",
       "      <td>diltiazem hydrochloride</td>\n",
       "      <td>11:30:00</td>\n",
       "      <td>19.0</td>\n",
       "      <td>20.0</td>\n",
       "    </tr>\n",
       "    <tr>\n",
       "      <th>2</th>\n",
       "      <td>15-10-2020</td>\n",
       "      <td>diltiazem hydrochloride</td>\n",
       "      <td>12:30:00</td>\n",
       "      <td>20.0</td>\n",
       "      <td>21.0</td>\n",
       "    </tr>\n",
       "    <tr>\n",
       "      <th>3</th>\n",
       "      <td>15-10-2020</td>\n",
       "      <td>diltiazem hydrochloride</td>\n",
       "      <td>1:30:00</td>\n",
       "      <td>12.0</td>\n",
       "      <td>23.0</td>\n",
       "    </tr>\n",
       "    <tr>\n",
       "      <th>4</th>\n",
       "      <td>15-10-2020</td>\n",
       "      <td>diltiazem hydrochloride</td>\n",
       "      <td>2:30:00</td>\n",
       "      <td>13.0</td>\n",
       "      <td>22.0</td>\n",
       "    </tr>\n",
       "  </tbody>\n",
       "</table>\n",
       "</div>"
      ],
      "text/plain": [
       "Parameter        Date                Drug_Name      Time  Pressure  \\\n",
       "0          15-10-2020  diltiazem hydrochloride  10:30:00      18.0   \n",
       "1          15-10-2020  diltiazem hydrochloride  11:30:00      19.0   \n",
       "2          15-10-2020  diltiazem hydrochloride  12:30:00      20.0   \n",
       "3          15-10-2020  diltiazem hydrochloride   1:30:00      12.0   \n",
       "4          15-10-2020  diltiazem hydrochloride   2:30:00      13.0   \n",
       "\n",
       "Parameter  Temperature  \n",
       "0                 20.0  \n",
       "1                 20.0  \n",
       "2                 21.0  \n",
       "3                 23.0  \n",
       "4                 22.0  "
      ]
     },
     "execution_count": 129,
     "metadata": {},
     "output_type": "execute_result"
    }
   ],
   "source": [
    "df_final=df_melt.pivot(index=[\"Date\",\"Drug_Name\",\"Time\"],\n",
    "       columns=\"Parameter\",\n",
    "       values=\"Reading\").reset_index()\n",
    "df_final.head()"
   ]
  },
  {
   "cell_type": "code",
   "execution_count": 130,
   "id": "7f4eb261",
   "metadata": {},
   "outputs": [
    {
     "data": {
      "text/html": [
       "<div>\n",
       "<style scoped>\n",
       "    .dataframe tbody tr th:only-of-type {\n",
       "        vertical-align: middle;\n",
       "    }\n",
       "\n",
       "    .dataframe tbody tr th {\n",
       "        vertical-align: top;\n",
       "    }\n",
       "\n",
       "    .dataframe thead th {\n",
       "        text-align: right;\n",
       "    }\n",
       "</style>\n",
       "<table border=\"1\" class=\"dataframe\">\n",
       "  <thead>\n",
       "    <tr style=\"text-align: right;\">\n",
       "      <th>Parameter</th>\n",
       "      <th>Date</th>\n",
       "      <th>Drug_Name</th>\n",
       "      <th>Time</th>\n",
       "      <th>Pressure</th>\n",
       "      <th>Temperature</th>\n",
       "    </tr>\n",
       "  </thead>\n",
       "  <tbody>\n",
       "    <tr>\n",
       "      <th>0</th>\n",
       "      <td>15-10-2020</td>\n",
       "      <td>diltiazem hydrochloride</td>\n",
       "      <td>10:30:00</td>\n",
       "      <td>18.0</td>\n",
       "      <td>20.0</td>\n",
       "    </tr>\n",
       "    <tr>\n",
       "      <th>1</th>\n",
       "      <td>15-10-2020</td>\n",
       "      <td>diltiazem hydrochloride</td>\n",
       "      <td>11:30:00</td>\n",
       "      <td>19.0</td>\n",
       "      <td>20.0</td>\n",
       "    </tr>\n",
       "    <tr>\n",
       "      <th>2</th>\n",
       "      <td>15-10-2020</td>\n",
       "      <td>diltiazem hydrochloride</td>\n",
       "      <td>12:30:00</td>\n",
       "      <td>20.0</td>\n",
       "      <td>21.0</td>\n",
       "    </tr>\n",
       "    <tr>\n",
       "      <th>3</th>\n",
       "      <td>15-10-2020</td>\n",
       "      <td>diltiazem hydrochloride</td>\n",
       "      <td>1:30:00</td>\n",
       "      <td>12.0</td>\n",
       "      <td>23.0</td>\n",
       "    </tr>\n",
       "    <tr>\n",
       "      <th>4</th>\n",
       "      <td>15-10-2020</td>\n",
       "      <td>diltiazem hydrochloride</td>\n",
       "      <td>2:30:00</td>\n",
       "      <td>13.0</td>\n",
       "      <td>22.0</td>\n",
       "    </tr>\n",
       "    <tr>\n",
       "      <th>...</th>\n",
       "      <td>...</td>\n",
       "      <td>...</td>\n",
       "      <td>...</td>\n",
       "      <td>...</td>\n",
       "      <td>...</td>\n",
       "    </tr>\n",
       "    <tr>\n",
       "      <th>103</th>\n",
       "      <td>17-10-2020</td>\n",
       "      <td>ketamine hydrochloride</td>\n",
       "      <td>5:30:00</td>\n",
       "      <td>11.0</td>\n",
       "      <td>17.0</td>\n",
       "    </tr>\n",
       "    <tr>\n",
       "      <th>104</th>\n",
       "      <td>17-10-2020</td>\n",
       "      <td>ketamine hydrochloride</td>\n",
       "      <td>6:30:00</td>\n",
       "      <td>12.0</td>\n",
       "      <td>18.0</td>\n",
       "    </tr>\n",
       "    <tr>\n",
       "      <th>105</th>\n",
       "      <td>17-10-2020</td>\n",
       "      <td>ketamine hydrochloride</td>\n",
       "      <td>7:30:00</td>\n",
       "      <td>12.0</td>\n",
       "      <td>19.0</td>\n",
       "    </tr>\n",
       "    <tr>\n",
       "      <th>106</th>\n",
       "      <td>17-10-2020</td>\n",
       "      <td>ketamine hydrochloride</td>\n",
       "      <td>8:30:00</td>\n",
       "      <td>11.0</td>\n",
       "      <td>20.0</td>\n",
       "    </tr>\n",
       "    <tr>\n",
       "      <th>107</th>\n",
       "      <td>17-10-2020</td>\n",
       "      <td>ketamine hydrochloride</td>\n",
       "      <td>9:30:00</td>\n",
       "      <td>12.0</td>\n",
       "      <td>21.0</td>\n",
       "    </tr>\n",
       "  </tbody>\n",
       "</table>\n",
       "<p>108 rows × 5 columns</p>\n",
       "</div>"
      ],
      "text/plain": [
       "Parameter        Date                Drug_Name      Time  Pressure  \\\n",
       "0          15-10-2020  diltiazem hydrochloride  10:30:00      18.0   \n",
       "1          15-10-2020  diltiazem hydrochloride  11:30:00      19.0   \n",
       "2          15-10-2020  diltiazem hydrochloride  12:30:00      20.0   \n",
       "3          15-10-2020  diltiazem hydrochloride   1:30:00      12.0   \n",
       "4          15-10-2020  diltiazem hydrochloride   2:30:00      13.0   \n",
       "..                ...                      ...       ...       ...   \n",
       "103        17-10-2020   ketamine hydrochloride   5:30:00      11.0   \n",
       "104        17-10-2020   ketamine hydrochloride   6:30:00      12.0   \n",
       "105        17-10-2020   ketamine hydrochloride   7:30:00      12.0   \n",
       "106        17-10-2020   ketamine hydrochloride   8:30:00      11.0   \n",
       "107        17-10-2020   ketamine hydrochloride   9:30:00      12.0   \n",
       "\n",
       "Parameter  Temperature  \n",
       "0                 20.0  \n",
       "1                 20.0  \n",
       "2                 21.0  \n",
       "3                 23.0  \n",
       "4                 22.0  \n",
       "..                 ...  \n",
       "103               17.0  \n",
       "104               18.0  \n",
       "105               19.0  \n",
       "106               20.0  \n",
       "107               21.0  \n",
       "\n",
       "[108 rows x 5 columns]"
      ]
     },
     "execution_count": 130,
     "metadata": {},
     "output_type": "execute_result"
    }
   ],
   "source": [
    "df_final"
   ]
  },
  {
   "cell_type": "code",
   "execution_count": 9,
   "id": "c417f1be",
   "metadata": {},
   "outputs": [
    {
     "data": {
      "text/plain": [
       "Parameter\n",
       "Date            0\n",
       "Drug_Name       0\n",
       "Time            0\n",
       "Pressure       13\n",
       "Temperature    13\n",
       "dtype: int64"
      ]
     },
     "execution_count": 9,
     "metadata": {},
     "output_type": "execute_result"
    }
   ],
   "source": [
    "df_final.isna().sum()"
   ]
  },
  {
   "cell_type": "code",
   "execution_count": 13,
   "id": "55e34083",
   "metadata": {},
   "outputs": [
    {
     "data": {
      "text/html": [
       "<div>\n",
       "<style scoped>\n",
       "    .dataframe tbody tr th:only-of-type {\n",
       "        vertical-align: middle;\n",
       "    }\n",
       "\n",
       "    .dataframe tbody tr th {\n",
       "        vertical-align: top;\n",
       "    }\n",
       "\n",
       "    .dataframe thead tr th {\n",
       "        text-align: left;\n",
       "    }\n",
       "\n",
       "    .dataframe thead tr:last-of-type th {\n",
       "        text-align: right;\n",
       "    }\n",
       "</style>\n",
       "<table border=\"1\" class=\"dataframe\">\n",
       "  <thead>\n",
       "    <tr>\n",
       "      <th></th>\n",
       "      <th>Parameter</th>\n",
       "      <th>Temperature</th>\n",
       "      <th>Pressure</th>\n",
       "    </tr>\n",
       "    <tr>\n",
       "      <th></th>\n",
       "      <th></th>\n",
       "      <th>mean</th>\n",
       "      <th>mean</th>\n",
       "    </tr>\n",
       "    <tr>\n",
       "      <th>Date</th>\n",
       "      <th>Drug_Name</th>\n",
       "      <th></th>\n",
       "      <th></th>\n",
       "    </tr>\n",
       "  </thead>\n",
       "  <tbody>\n",
       "    <tr>\n",
       "      <th rowspan=\"3\" valign=\"top\">15-10-2020</th>\n",
       "      <th>diltiazem hydrochloride</th>\n",
       "      <td>21.454545</td>\n",
       "      <td>16.000000</td>\n",
       "    </tr>\n",
       "    <tr>\n",
       "      <th>docetaxel injection</th>\n",
       "      <td>20.750000</td>\n",
       "      <td>24.875000</td>\n",
       "    </tr>\n",
       "    <tr>\n",
       "      <th>ketamine hydrochloride</th>\n",
       "      <td>23.555556</td>\n",
       "      <td>9.333333</td>\n",
       "    </tr>\n",
       "    <tr>\n",
       "      <th rowspan=\"3\" valign=\"top\">16-10-2020</th>\n",
       "      <th>diltiazem hydrochloride</th>\n",
       "      <td>37.454545</td>\n",
       "      <td>22.545455</td>\n",
       "    </tr>\n",
       "    <tr>\n",
       "      <th>docetaxel injection</th>\n",
       "      <td>51.454545</td>\n",
       "      <td>27.000000</td>\n",
       "    </tr>\n",
       "    <tr>\n",
       "      <th>ketamine hydrochloride</th>\n",
       "      <td>11.500000</td>\n",
       "      <td>14.800000</td>\n",
       "    </tr>\n",
       "    <tr>\n",
       "      <th rowspan=\"3\" valign=\"top\">17-10-2020</th>\n",
       "      <th>diltiazem hydrochloride</th>\n",
       "      <td>15.636364</td>\n",
       "      <td>7.727273</td>\n",
       "    </tr>\n",
       "    <tr>\n",
       "      <th>docetaxel injection</th>\n",
       "      <td>17.500000</td>\n",
       "      <td>24.500000</td>\n",
       "    </tr>\n",
       "    <tr>\n",
       "      <th>ketamine hydrochloride</th>\n",
       "      <td>18.500000</td>\n",
       "      <td>11.500000</td>\n",
       "    </tr>\n",
       "  </tbody>\n",
       "</table>\n",
       "</div>"
      ],
      "text/plain": [
       "Parameter                          Temperature   Pressure\n",
       "                                          mean       mean\n",
       "Date       Drug_Name                                     \n",
       "15-10-2020 diltiazem hydrochloride   21.454545  16.000000\n",
       "           docetaxel injection       20.750000  24.875000\n",
       "           ketamine hydrochloride    23.555556   9.333333\n",
       "16-10-2020 diltiazem hydrochloride   37.454545  22.545455\n",
       "           docetaxel injection       51.454545  27.000000\n",
       "           ketamine hydrochloride    11.500000  14.800000\n",
       "17-10-2020 diltiazem hydrochloride   15.636364   7.727273\n",
       "           docetaxel injection       17.500000  24.500000\n",
       "           ketamine hydrochloride    18.500000  11.500000"
      ]
     },
     "execution_count": 13,
     "metadata": {},
     "output_type": "execute_result"
    }
   ],
   "source": [
    "df_final.groupby([\"Date\",\"Drug_Name\"])[[\"Temperature\",\"Pressure\"]].agg({\"Temperature\":[\"mean\"],\"Pressure\":[\"mean\"]})"
   ]
  },
  {
   "cell_type": "code",
   "execution_count": 11,
   "id": "9ce55bd0",
   "metadata": {},
   "outputs": [
    {
     "data": {
      "text/plain": [
       "Date        Drug_Name              \n",
       "15-10-2020  diltiazem hydrochloride    16.000000\n",
       "            docetaxel injection        24.875000\n",
       "            ketamine hydrochloride      9.333333\n",
       "16-10-2020  diltiazem hydrochloride    22.545455\n",
       "            docetaxel injection        27.000000\n",
       "            ketamine hydrochloride     14.800000\n",
       "17-10-2020  diltiazem hydrochloride     7.727273\n",
       "            docetaxel injection        24.500000\n",
       "            ketamine hydrochloride     11.500000\n",
       "Name: Pressure, dtype: float64"
      ]
     },
     "execution_count": 11,
     "metadata": {},
     "output_type": "execute_result"
    }
   ],
   "source": [
    "df_final.groupby([\"Date\",\"Drug_Name\"])[\"Pressure\"].mean()"
   ]
  },
  {
   "cell_type": "code",
   "execution_count": null,
   "id": "8a0fa89c",
   "metadata": {},
   "outputs": [],
   "source": []
  },
  {
   "cell_type": "code",
   "execution_count": 17,
   "id": "44dcfe56",
   "metadata": {},
   "outputs": [],
   "source": [
    "def calc_mean_temp(x):\n",
    "    x[\"temp_mean\"]=x[\"Temperature\"].mean()\n",
    "    return x\n",
    "    "
   ]
  },
  {
   "cell_type": "code",
   "execution_count": 18,
   "id": "ef9a72b6",
   "metadata": {},
   "outputs": [],
   "source": [
    "df_final=df_final.groupby([\"Date\",\"Drug_Name\"]).apply(calc_mean_temp)"
   ]
  },
  {
   "cell_type": "code",
   "execution_count": 19,
   "id": "4c4cf5d8",
   "metadata": {},
   "outputs": [
    {
     "data": {
      "text/html": [
       "<div>\n",
       "<style scoped>\n",
       "    .dataframe tbody tr th:only-of-type {\n",
       "        vertical-align: middle;\n",
       "    }\n",
       "\n",
       "    .dataframe tbody tr th {\n",
       "        vertical-align: top;\n",
       "    }\n",
       "\n",
       "    .dataframe thead th {\n",
       "        text-align: right;\n",
       "    }\n",
       "</style>\n",
       "<table border=\"1\" class=\"dataframe\">\n",
       "  <thead>\n",
       "    <tr style=\"text-align: right;\">\n",
       "      <th>Parameter</th>\n",
       "      <th>Date</th>\n",
       "      <th>Drug_Name</th>\n",
       "      <th>Time</th>\n",
       "      <th>Pressure</th>\n",
       "      <th>Temperature</th>\n",
       "      <th>temp_mean</th>\n",
       "    </tr>\n",
       "  </thead>\n",
       "  <tbody>\n",
       "    <tr>\n",
       "      <th>0</th>\n",
       "      <td>15-10-2020</td>\n",
       "      <td>diltiazem hydrochloride</td>\n",
       "      <td>10:30:00</td>\n",
       "      <td>18.0</td>\n",
       "      <td>20.0</td>\n",
       "      <td>21.454545</td>\n",
       "    </tr>\n",
       "    <tr>\n",
       "      <th>1</th>\n",
       "      <td>15-10-2020</td>\n",
       "      <td>diltiazem hydrochloride</td>\n",
       "      <td>11:30:00</td>\n",
       "      <td>19.0</td>\n",
       "      <td>20.0</td>\n",
       "      <td>21.454545</td>\n",
       "    </tr>\n",
       "    <tr>\n",
       "      <th>2</th>\n",
       "      <td>15-10-2020</td>\n",
       "      <td>diltiazem hydrochloride</td>\n",
       "      <td>12:30:00</td>\n",
       "      <td>20.0</td>\n",
       "      <td>21.0</td>\n",
       "      <td>21.454545</td>\n",
       "    </tr>\n",
       "    <tr>\n",
       "      <th>3</th>\n",
       "      <td>15-10-2020</td>\n",
       "      <td>diltiazem hydrochloride</td>\n",
       "      <td>1:30:00</td>\n",
       "      <td>12.0</td>\n",
       "      <td>23.0</td>\n",
       "      <td>21.454545</td>\n",
       "    </tr>\n",
       "    <tr>\n",
       "      <th>4</th>\n",
       "      <td>15-10-2020</td>\n",
       "      <td>diltiazem hydrochloride</td>\n",
       "      <td>2:30:00</td>\n",
       "      <td>13.0</td>\n",
       "      <td>22.0</td>\n",
       "      <td>21.454545</td>\n",
       "    </tr>\n",
       "    <tr>\n",
       "      <th>...</th>\n",
       "      <td>...</td>\n",
       "      <td>...</td>\n",
       "      <td>...</td>\n",
       "      <td>...</td>\n",
       "      <td>...</td>\n",
       "      <td>...</td>\n",
       "    </tr>\n",
       "    <tr>\n",
       "      <th>103</th>\n",
       "      <td>17-10-2020</td>\n",
       "      <td>ketamine hydrochloride</td>\n",
       "      <td>5:30:00</td>\n",
       "      <td>11.0</td>\n",
       "      <td>17.0</td>\n",
       "      <td>18.500000</td>\n",
       "    </tr>\n",
       "    <tr>\n",
       "      <th>104</th>\n",
       "      <td>17-10-2020</td>\n",
       "      <td>ketamine hydrochloride</td>\n",
       "      <td>6:30:00</td>\n",
       "      <td>12.0</td>\n",
       "      <td>18.0</td>\n",
       "      <td>18.500000</td>\n",
       "    </tr>\n",
       "    <tr>\n",
       "      <th>105</th>\n",
       "      <td>17-10-2020</td>\n",
       "      <td>ketamine hydrochloride</td>\n",
       "      <td>7:30:00</td>\n",
       "      <td>12.0</td>\n",
       "      <td>19.0</td>\n",
       "      <td>18.500000</td>\n",
       "    </tr>\n",
       "    <tr>\n",
       "      <th>106</th>\n",
       "      <td>17-10-2020</td>\n",
       "      <td>ketamine hydrochloride</td>\n",
       "      <td>8:30:00</td>\n",
       "      <td>11.0</td>\n",
       "      <td>20.0</td>\n",
       "      <td>18.500000</td>\n",
       "    </tr>\n",
       "    <tr>\n",
       "      <th>107</th>\n",
       "      <td>17-10-2020</td>\n",
       "      <td>ketamine hydrochloride</td>\n",
       "      <td>9:30:00</td>\n",
       "      <td>12.0</td>\n",
       "      <td>21.0</td>\n",
       "      <td>18.500000</td>\n",
       "    </tr>\n",
       "  </tbody>\n",
       "</table>\n",
       "<p>108 rows × 6 columns</p>\n",
       "</div>"
      ],
      "text/plain": [
       "Parameter        Date                Drug_Name      Time  Pressure  \\\n",
       "0          15-10-2020  diltiazem hydrochloride  10:30:00      18.0   \n",
       "1          15-10-2020  diltiazem hydrochloride  11:30:00      19.0   \n",
       "2          15-10-2020  diltiazem hydrochloride  12:30:00      20.0   \n",
       "3          15-10-2020  diltiazem hydrochloride   1:30:00      12.0   \n",
       "4          15-10-2020  diltiazem hydrochloride   2:30:00      13.0   \n",
       "..                ...                      ...       ...       ...   \n",
       "103        17-10-2020   ketamine hydrochloride   5:30:00      11.0   \n",
       "104        17-10-2020   ketamine hydrochloride   6:30:00      12.0   \n",
       "105        17-10-2020   ketamine hydrochloride   7:30:00      12.0   \n",
       "106        17-10-2020   ketamine hydrochloride   8:30:00      11.0   \n",
       "107        17-10-2020   ketamine hydrochloride   9:30:00      12.0   \n",
       "\n",
       "Parameter  Temperature  temp_mean  \n",
       "0                 20.0  21.454545  \n",
       "1                 20.0  21.454545  \n",
       "2                 21.0  21.454545  \n",
       "3                 23.0  21.454545  \n",
       "4                 22.0  21.454545  \n",
       "..                 ...        ...  \n",
       "103               17.0  18.500000  \n",
       "104               18.0  18.500000  \n",
       "105               19.0  18.500000  \n",
       "106               20.0  18.500000  \n",
       "107               21.0  18.500000  \n",
       "\n",
       "[108 rows x 6 columns]"
      ]
     },
     "execution_count": 19,
     "metadata": {},
     "output_type": "execute_result"
    }
   ],
   "source": [
    "df_final"
   ]
  },
  {
   "cell_type": "code",
   "execution_count": 20,
   "id": "9caf0215",
   "metadata": {},
   "outputs": [],
   "source": [
    "def calc_mean_pres(x):\n",
    "    x[\"pres_mean\"]=x[\"Pressure\"].mean()\n",
    "    return x\n",
    "    "
   ]
  },
  {
   "cell_type": "code",
   "execution_count": 21,
   "id": "15263265",
   "metadata": {},
   "outputs": [],
   "source": [
    "df_final=df_final.groupby([\"Date\",\"Drug_Name\"]).apply(calc_mean_pres)"
   ]
  },
  {
   "cell_type": "code",
   "execution_count": 22,
   "id": "11550fb6",
   "metadata": {},
   "outputs": [
    {
     "data": {
      "text/html": [
       "<div>\n",
       "<style scoped>\n",
       "    .dataframe tbody tr th:only-of-type {\n",
       "        vertical-align: middle;\n",
       "    }\n",
       "\n",
       "    .dataframe tbody tr th {\n",
       "        vertical-align: top;\n",
       "    }\n",
       "\n",
       "    .dataframe thead th {\n",
       "        text-align: right;\n",
       "    }\n",
       "</style>\n",
       "<table border=\"1\" class=\"dataframe\">\n",
       "  <thead>\n",
       "    <tr style=\"text-align: right;\">\n",
       "      <th>Parameter</th>\n",
       "      <th>Date</th>\n",
       "      <th>Drug_Name</th>\n",
       "      <th>Time</th>\n",
       "      <th>Pressure</th>\n",
       "      <th>Temperature</th>\n",
       "      <th>temp_mean</th>\n",
       "      <th>pres_mean</th>\n",
       "    </tr>\n",
       "  </thead>\n",
       "  <tbody>\n",
       "    <tr>\n",
       "      <th>0</th>\n",
       "      <td>15-10-2020</td>\n",
       "      <td>diltiazem hydrochloride</td>\n",
       "      <td>10:30:00</td>\n",
       "      <td>18.0</td>\n",
       "      <td>20.0</td>\n",
       "      <td>21.454545</td>\n",
       "      <td>16.0</td>\n",
       "    </tr>\n",
       "    <tr>\n",
       "      <th>1</th>\n",
       "      <td>15-10-2020</td>\n",
       "      <td>diltiazem hydrochloride</td>\n",
       "      <td>11:30:00</td>\n",
       "      <td>19.0</td>\n",
       "      <td>20.0</td>\n",
       "      <td>21.454545</td>\n",
       "      <td>16.0</td>\n",
       "    </tr>\n",
       "    <tr>\n",
       "      <th>2</th>\n",
       "      <td>15-10-2020</td>\n",
       "      <td>diltiazem hydrochloride</td>\n",
       "      <td>12:30:00</td>\n",
       "      <td>20.0</td>\n",
       "      <td>21.0</td>\n",
       "      <td>21.454545</td>\n",
       "      <td>16.0</td>\n",
       "    </tr>\n",
       "    <tr>\n",
       "      <th>3</th>\n",
       "      <td>15-10-2020</td>\n",
       "      <td>diltiazem hydrochloride</td>\n",
       "      <td>1:30:00</td>\n",
       "      <td>12.0</td>\n",
       "      <td>23.0</td>\n",
       "      <td>21.454545</td>\n",
       "      <td>16.0</td>\n",
       "    </tr>\n",
       "    <tr>\n",
       "      <th>4</th>\n",
       "      <td>15-10-2020</td>\n",
       "      <td>diltiazem hydrochloride</td>\n",
       "      <td>2:30:00</td>\n",
       "      <td>13.0</td>\n",
       "      <td>22.0</td>\n",
       "      <td>21.454545</td>\n",
       "      <td>16.0</td>\n",
       "    </tr>\n",
       "    <tr>\n",
       "      <th>...</th>\n",
       "      <td>...</td>\n",
       "      <td>...</td>\n",
       "      <td>...</td>\n",
       "      <td>...</td>\n",
       "      <td>...</td>\n",
       "      <td>...</td>\n",
       "      <td>...</td>\n",
       "    </tr>\n",
       "    <tr>\n",
       "      <th>103</th>\n",
       "      <td>17-10-2020</td>\n",
       "      <td>ketamine hydrochloride</td>\n",
       "      <td>5:30:00</td>\n",
       "      <td>11.0</td>\n",
       "      <td>17.0</td>\n",
       "      <td>18.500000</td>\n",
       "      <td>11.5</td>\n",
       "    </tr>\n",
       "    <tr>\n",
       "      <th>104</th>\n",
       "      <td>17-10-2020</td>\n",
       "      <td>ketamine hydrochloride</td>\n",
       "      <td>6:30:00</td>\n",
       "      <td>12.0</td>\n",
       "      <td>18.0</td>\n",
       "      <td>18.500000</td>\n",
       "      <td>11.5</td>\n",
       "    </tr>\n",
       "    <tr>\n",
       "      <th>105</th>\n",
       "      <td>17-10-2020</td>\n",
       "      <td>ketamine hydrochloride</td>\n",
       "      <td>7:30:00</td>\n",
       "      <td>12.0</td>\n",
       "      <td>19.0</td>\n",
       "      <td>18.500000</td>\n",
       "      <td>11.5</td>\n",
       "    </tr>\n",
       "    <tr>\n",
       "      <th>106</th>\n",
       "      <td>17-10-2020</td>\n",
       "      <td>ketamine hydrochloride</td>\n",
       "      <td>8:30:00</td>\n",
       "      <td>11.0</td>\n",
       "      <td>20.0</td>\n",
       "      <td>18.500000</td>\n",
       "      <td>11.5</td>\n",
       "    </tr>\n",
       "    <tr>\n",
       "      <th>107</th>\n",
       "      <td>17-10-2020</td>\n",
       "      <td>ketamine hydrochloride</td>\n",
       "      <td>9:30:00</td>\n",
       "      <td>12.0</td>\n",
       "      <td>21.0</td>\n",
       "      <td>18.500000</td>\n",
       "      <td>11.5</td>\n",
       "    </tr>\n",
       "  </tbody>\n",
       "</table>\n",
       "<p>108 rows × 7 columns</p>\n",
       "</div>"
      ],
      "text/plain": [
       "Parameter        Date                Drug_Name      Time  Pressure  \\\n",
       "0          15-10-2020  diltiazem hydrochloride  10:30:00      18.0   \n",
       "1          15-10-2020  diltiazem hydrochloride  11:30:00      19.0   \n",
       "2          15-10-2020  diltiazem hydrochloride  12:30:00      20.0   \n",
       "3          15-10-2020  diltiazem hydrochloride   1:30:00      12.0   \n",
       "4          15-10-2020  diltiazem hydrochloride   2:30:00      13.0   \n",
       "..                ...                      ...       ...       ...   \n",
       "103        17-10-2020   ketamine hydrochloride   5:30:00      11.0   \n",
       "104        17-10-2020   ketamine hydrochloride   6:30:00      12.0   \n",
       "105        17-10-2020   ketamine hydrochloride   7:30:00      12.0   \n",
       "106        17-10-2020   ketamine hydrochloride   8:30:00      11.0   \n",
       "107        17-10-2020   ketamine hydrochloride   9:30:00      12.0   \n",
       "\n",
       "Parameter  Temperature  temp_mean  pres_mean  \n",
       "0                 20.0  21.454545       16.0  \n",
       "1                 20.0  21.454545       16.0  \n",
       "2                 21.0  21.454545       16.0  \n",
       "3                 23.0  21.454545       16.0  \n",
       "4                 22.0  21.454545       16.0  \n",
       "..                 ...        ...        ...  \n",
       "103               17.0  18.500000       11.5  \n",
       "104               18.0  18.500000       11.5  \n",
       "105               19.0  18.500000       11.5  \n",
       "106               20.0  18.500000       11.5  \n",
       "107               21.0  18.500000       11.5  \n",
       "\n",
       "[108 rows x 7 columns]"
      ]
     },
     "execution_count": 22,
     "metadata": {},
     "output_type": "execute_result"
    }
   ],
   "source": [
    "df_final"
   ]
  },
  {
   "cell_type": "code",
   "execution_count": 23,
   "id": "9fbfc990",
   "metadata": {},
   "outputs": [],
   "source": [
    "df.fillna?"
   ]
  },
  {
   "cell_type": "code",
   "execution_count": null,
   "id": "b147dec4",
   "metadata": {},
   "outputs": [],
   "source": []
  },
  {
   "cell_type": "code",
   "execution_count": null,
   "id": "6e2687b4",
   "metadata": {},
   "outputs": [],
   "source": []
  },
  {
   "cell_type": "code",
   "execution_count": 24,
   "id": "d6aaadf1",
   "metadata": {},
   "outputs": [
    {
     "data": {
      "text/plain": [
       "<pandas.core.groupby.generic.DataFrameGroupBy object at 0x7f7fc988fa00>"
      ]
     },
     "execution_count": 24,
     "metadata": {},
     "output_type": "execute_result"
    }
   ],
   "source": [
    "a=df_final.groupby([\"Date\",\"Drug_Name\"])\n",
    "a"
   ]
  },
  {
   "cell_type": "code",
   "execution_count": 25,
   "id": "2ac4064b",
   "metadata": {},
   "outputs": [
    {
     "data": {
      "text/html": [
       "<div>\n",
       "<style scoped>\n",
       "    .dataframe tbody tr th:only-of-type {\n",
       "        vertical-align: middle;\n",
       "    }\n",
       "\n",
       "    .dataframe tbody tr th {\n",
       "        vertical-align: top;\n",
       "    }\n",
       "\n",
       "    .dataframe thead th {\n",
       "        text-align: right;\n",
       "    }\n",
       "</style>\n",
       "<table border=\"1\" class=\"dataframe\">\n",
       "  <thead>\n",
       "    <tr style=\"text-align: right;\">\n",
       "      <th>Parameter</th>\n",
       "      <th>Date</th>\n",
       "      <th>Drug_Name</th>\n",
       "      <th>Time</th>\n",
       "      <th>Pressure</th>\n",
       "      <th>Temperature</th>\n",
       "      <th>temp_mean</th>\n",
       "      <th>pres_mean</th>\n",
       "    </tr>\n",
       "  </thead>\n",
       "  <tbody>\n",
       "    <tr>\n",
       "      <th>0</th>\n",
       "      <td>15-10-2020</td>\n",
       "      <td>diltiazem hydrochloride</td>\n",
       "      <td>10:30:00</td>\n",
       "      <td>18.0</td>\n",
       "      <td>20.0</td>\n",
       "      <td>21.454545</td>\n",
       "      <td>16.0</td>\n",
       "    </tr>\n",
       "    <tr>\n",
       "      <th>1</th>\n",
       "      <td>15-10-2020</td>\n",
       "      <td>diltiazem hydrochloride</td>\n",
       "      <td>11:30:00</td>\n",
       "      <td>19.0</td>\n",
       "      <td>20.0</td>\n",
       "      <td>21.454545</td>\n",
       "      <td>16.0</td>\n",
       "    </tr>\n",
       "    <tr>\n",
       "      <th>2</th>\n",
       "      <td>15-10-2020</td>\n",
       "      <td>diltiazem hydrochloride</td>\n",
       "      <td>12:30:00</td>\n",
       "      <td>20.0</td>\n",
       "      <td>21.0</td>\n",
       "      <td>21.454545</td>\n",
       "      <td>16.0</td>\n",
       "    </tr>\n",
       "    <tr>\n",
       "      <th>3</th>\n",
       "      <td>15-10-2020</td>\n",
       "      <td>diltiazem hydrochloride</td>\n",
       "      <td>1:30:00</td>\n",
       "      <td>12.0</td>\n",
       "      <td>23.0</td>\n",
       "      <td>21.454545</td>\n",
       "      <td>16.0</td>\n",
       "    </tr>\n",
       "    <tr>\n",
       "      <th>4</th>\n",
       "      <td>15-10-2020</td>\n",
       "      <td>diltiazem hydrochloride</td>\n",
       "      <td>2:30:00</td>\n",
       "      <td>13.0</td>\n",
       "      <td>22.0</td>\n",
       "      <td>21.454545</td>\n",
       "      <td>16.0</td>\n",
       "    </tr>\n",
       "    <tr>\n",
       "      <th>5</th>\n",
       "      <td>15-10-2020</td>\n",
       "      <td>diltiazem hydrochloride</td>\n",
       "      <td>3:30:00</td>\n",
       "      <td>NaN</td>\n",
       "      <td>NaN</td>\n",
       "      <td>21.454545</td>\n",
       "      <td>16.0</td>\n",
       "    </tr>\n",
       "    <tr>\n",
       "      <th>6</th>\n",
       "      <td>15-10-2020</td>\n",
       "      <td>diltiazem hydrochloride</td>\n",
       "      <td>4:30:00</td>\n",
       "      <td>11.0</td>\n",
       "      <td>21.0</td>\n",
       "      <td>21.454545</td>\n",
       "      <td>16.0</td>\n",
       "    </tr>\n",
       "    <tr>\n",
       "      <th>7</th>\n",
       "      <td>15-10-2020</td>\n",
       "      <td>diltiazem hydrochloride</td>\n",
       "      <td>5:30:00</td>\n",
       "      <td>13.0</td>\n",
       "      <td>21.0</td>\n",
       "      <td>21.454545</td>\n",
       "      <td>16.0</td>\n",
       "    </tr>\n",
       "    <tr>\n",
       "      <th>8</th>\n",
       "      <td>15-10-2020</td>\n",
       "      <td>diltiazem hydrochloride</td>\n",
       "      <td>6:30:00</td>\n",
       "      <td>14.0</td>\n",
       "      <td>22.0</td>\n",
       "      <td>21.454545</td>\n",
       "      <td>16.0</td>\n",
       "    </tr>\n",
       "    <tr>\n",
       "      <th>9</th>\n",
       "      <td>15-10-2020</td>\n",
       "      <td>diltiazem hydrochloride</td>\n",
       "      <td>7:30:00</td>\n",
       "      <td>16.0</td>\n",
       "      <td>23.0</td>\n",
       "      <td>21.454545</td>\n",
       "      <td>16.0</td>\n",
       "    </tr>\n",
       "    <tr>\n",
       "      <th>10</th>\n",
       "      <td>15-10-2020</td>\n",
       "      <td>diltiazem hydrochloride</td>\n",
       "      <td>8:30:00</td>\n",
       "      <td>16.0</td>\n",
       "      <td>21.0</td>\n",
       "      <td>21.454545</td>\n",
       "      <td>16.0</td>\n",
       "    </tr>\n",
       "    <tr>\n",
       "      <th>11</th>\n",
       "      <td>15-10-2020</td>\n",
       "      <td>diltiazem hydrochloride</td>\n",
       "      <td>9:30:00</td>\n",
       "      <td>24.0</td>\n",
       "      <td>22.0</td>\n",
       "      <td>21.454545</td>\n",
       "      <td>16.0</td>\n",
       "    </tr>\n",
       "  </tbody>\n",
       "</table>\n",
       "</div>"
      ],
      "text/plain": [
       "Parameter        Date                Drug_Name      Time  Pressure  \\\n",
       "0          15-10-2020  diltiazem hydrochloride  10:30:00      18.0   \n",
       "1          15-10-2020  diltiazem hydrochloride  11:30:00      19.0   \n",
       "2          15-10-2020  diltiazem hydrochloride  12:30:00      20.0   \n",
       "3          15-10-2020  diltiazem hydrochloride   1:30:00      12.0   \n",
       "4          15-10-2020  diltiazem hydrochloride   2:30:00      13.0   \n",
       "5          15-10-2020  diltiazem hydrochloride   3:30:00       NaN   \n",
       "6          15-10-2020  diltiazem hydrochloride   4:30:00      11.0   \n",
       "7          15-10-2020  diltiazem hydrochloride   5:30:00      13.0   \n",
       "8          15-10-2020  diltiazem hydrochloride   6:30:00      14.0   \n",
       "9          15-10-2020  diltiazem hydrochloride   7:30:00      16.0   \n",
       "10         15-10-2020  diltiazem hydrochloride   8:30:00      16.0   \n",
       "11         15-10-2020  diltiazem hydrochloride   9:30:00      24.0   \n",
       "\n",
       "Parameter  Temperature  temp_mean  pres_mean  \n",
       "0                 20.0  21.454545       16.0  \n",
       "1                 20.0  21.454545       16.0  \n",
       "2                 21.0  21.454545       16.0  \n",
       "3                 23.0  21.454545       16.0  \n",
       "4                 22.0  21.454545       16.0  \n",
       "5                  NaN  21.454545       16.0  \n",
       "6                 21.0  21.454545       16.0  \n",
       "7                 21.0  21.454545       16.0  \n",
       "8                 22.0  21.454545       16.0  \n",
       "9                 23.0  21.454545       16.0  \n",
       "10                21.0  21.454545       16.0  \n",
       "11                22.0  21.454545       16.0  "
      ]
     },
     "execution_count": 25,
     "metadata": {},
     "output_type": "execute_result"
    }
   ],
   "source": [
    "a.get_group(('15-10-2020', 'diltiazem hydrochloride'))"
   ]
  },
  {
   "cell_type": "code",
   "execution_count": 30,
   "id": "dc09e220",
   "metadata": {},
   "outputs": [],
   "source": [
    "df_final[\"Temperature\"].fillna(df_final[\"temp_mean\"],inplace=True)"
   ]
  },
  {
   "cell_type": "code",
   "execution_count": 31,
   "id": "a97eca28",
   "metadata": {},
   "outputs": [],
   "source": [
    "df_final[\"Pressure\"].fillna(df_final[\"pres_mean\"],inplace=True)"
   ]
  },
  {
   "cell_type": "code",
   "execution_count": 32,
   "id": "da29a710",
   "metadata": {},
   "outputs": [
    {
     "data": {
      "text/plain": [
       "Parameter\n",
       "Date           0\n",
       "Drug_Name      0\n",
       "Time           0\n",
       "Pressure       0\n",
       "Temperature    0\n",
       "temp_mean      0\n",
       "pres_mean      0\n",
       "dtype: int64"
      ]
     },
     "execution_count": 32,
     "metadata": {},
     "output_type": "execute_result"
    }
   ],
   "source": [
    "df_final.isna().sum()"
   ]
  },
  {
   "cell_type": "code",
   "execution_count": 33,
   "id": "327de389",
   "metadata": {},
   "outputs": [
    {
     "data": {
      "text/html": [
       "<div>\n",
       "<style scoped>\n",
       "    .dataframe tbody tr th:only-of-type {\n",
       "        vertical-align: middle;\n",
       "    }\n",
       "\n",
       "    .dataframe tbody tr th {\n",
       "        vertical-align: top;\n",
       "    }\n",
       "\n",
       "    .dataframe thead tr th {\n",
       "        text-align: left;\n",
       "    }\n",
       "\n",
       "    .dataframe thead tr:last-of-type th {\n",
       "        text-align: right;\n",
       "    }\n",
       "</style>\n",
       "<table border=\"1\" class=\"dataframe\">\n",
       "  <thead>\n",
       "    <tr>\n",
       "      <th>Parameter</th>\n",
       "      <th colspan=\"4\" halign=\"left\">Temperature</th>\n",
       "    </tr>\n",
       "    <tr>\n",
       "      <th>Date</th>\n",
       "      <th>15-10-2020</th>\n",
       "      <th>16-10-2020</th>\n",
       "      <th>17-10-2020</th>\n",
       "      <th>All</th>\n",
       "    </tr>\n",
       "    <tr>\n",
       "      <th>Drug_Name</th>\n",
       "      <th></th>\n",
       "      <th></th>\n",
       "      <th></th>\n",
       "      <th></th>\n",
       "    </tr>\n",
       "  </thead>\n",
       "  <tbody>\n",
       "    <tr>\n",
       "      <th>diltiazem hydrochloride</th>\n",
       "      <td>21.454545</td>\n",
       "      <td>37.454545</td>\n",
       "      <td>15.636364</td>\n",
       "      <td>24.848485</td>\n",
       "    </tr>\n",
       "    <tr>\n",
       "      <th>docetaxel injection</th>\n",
       "      <td>20.750000</td>\n",
       "      <td>51.454545</td>\n",
       "      <td>17.500000</td>\n",
       "      <td>29.901515</td>\n",
       "    </tr>\n",
       "    <tr>\n",
       "      <th>ketamine hydrochloride</th>\n",
       "      <td>23.555556</td>\n",
       "      <td>11.500000</td>\n",
       "      <td>18.500000</td>\n",
       "      <td>17.851852</td>\n",
       "    </tr>\n",
       "    <tr>\n",
       "      <th>All</th>\n",
       "      <td>21.920034</td>\n",
       "      <td>33.469697</td>\n",
       "      <td>17.212121</td>\n",
       "      <td>24.200617</td>\n",
       "    </tr>\n",
       "  </tbody>\n",
       "</table>\n",
       "</div>"
      ],
      "text/plain": [
       "Parameter               Temperature                                 \n",
       "Date                     15-10-2020 16-10-2020 17-10-2020        All\n",
       "Drug_Name                                                           \n",
       "diltiazem hydrochloride   21.454545  37.454545  15.636364  24.848485\n",
       "docetaxel injection       20.750000  51.454545  17.500000  29.901515\n",
       "ketamine hydrochloride    23.555556  11.500000  18.500000  17.851852\n",
       "All                       21.920034  33.469697  17.212121  24.200617"
      ]
     },
     "execution_count": 33,
     "metadata": {},
     "output_type": "execute_result"
    }
   ],
   "source": [
    "pd.pivot_table(df_final,\n",
    "              index=\"Drug_Name\",\n",
    "              columns=\"Date\",\n",
    "              values=[\"Temperature\"],\n",
    "              aggfunc=\"mean\",\n",
    "              margins=True)"
   ]
  },
  {
   "cell_type": "code",
   "execution_count": 36,
   "id": "cbdc7365",
   "metadata": {},
   "outputs": [],
   "source": [
    "df_final.drop(columns=[\"temp_mean\",\"pres_mean\"],inplace=True)"
   ]
  },
  {
   "cell_type": "code",
   "execution_count": 34,
   "id": "6f172b56",
   "metadata": {},
   "outputs": [],
   "source": [
    "# #string Funtions"
   ]
  },
  {
   "cell_type": "code",
   "execution_count": 40,
   "id": "eef59857",
   "metadata": {},
   "outputs": [
    {
     "data": {
      "text/plain": [
       "0      diltiazem hydrochloride\n",
       "1      diltiazem hydrochloride\n",
       "2      diltiazem hydrochloride\n",
       "3      diltiazem hydrochloride\n",
       "4      diltiazem hydrochloride\n",
       "                ...           \n",
       "103     ketamine hydrochloride\n",
       "104     ketamine hydrochloride\n",
       "105     ketamine hydrochloride\n",
       "106     ketamine hydrochloride\n",
       "107     ketamine hydrochloride\n",
       "Name: Drug_Name, Length: 108, dtype: object"
      ]
     },
     "execution_count": 40,
     "metadata": {},
     "output_type": "execute_result"
    }
   ],
   "source": [
    "df_final[\"Drug_Name\"].str.lower()"
   ]
  },
  {
   "cell_type": "code",
   "execution_count": 41,
   "id": "80dfb739",
   "metadata": {},
   "outputs": [
    {
     "data": {
      "text/plain": [
       "0      DILTIAZEM HYDROCHLORIDE\n",
       "1      DILTIAZEM HYDROCHLORIDE\n",
       "2      DILTIAZEM HYDROCHLORIDE\n",
       "3      DILTIAZEM HYDROCHLORIDE\n",
       "4      DILTIAZEM HYDROCHLORIDE\n",
       "                ...           \n",
       "103     KETAMINE HYDROCHLORIDE\n",
       "104     KETAMINE HYDROCHLORIDE\n",
       "105     KETAMINE HYDROCHLORIDE\n",
       "106     KETAMINE HYDROCHLORIDE\n",
       "107     KETAMINE HYDROCHLORIDE\n",
       "Name: Drug_Name, Length: 108, dtype: object"
      ]
     },
     "execution_count": 41,
     "metadata": {},
     "output_type": "execute_result"
    }
   ],
   "source": [
    "df_final[\"Drug_Name\"].str.upper()"
   ]
  },
  {
   "cell_type": "code",
   "execution_count": 42,
   "id": "0110ea60",
   "metadata": {},
   "outputs": [
    {
     "data": {
      "text/plain": [
       "0      Diltiazem Hydrochloride\n",
       "1      Diltiazem Hydrochloride\n",
       "2      Diltiazem Hydrochloride\n",
       "3      Diltiazem Hydrochloride\n",
       "4      Diltiazem Hydrochloride\n",
       "                ...           \n",
       "103     Ketamine Hydrochloride\n",
       "104     Ketamine Hydrochloride\n",
       "105     Ketamine Hydrochloride\n",
       "106     Ketamine Hydrochloride\n",
       "107     Ketamine Hydrochloride\n",
       "Name: Drug_Name, Length: 108, dtype: object"
      ]
     },
     "execution_count": 42,
     "metadata": {},
     "output_type": "execute_result"
    }
   ],
   "source": [
    "df_final[\"Drug_Name\"].str.title()"
   ]
  },
  {
   "cell_type": "code",
   "execution_count": 43,
   "id": "537f8599",
   "metadata": {},
   "outputs": [
    {
     "data": {
      "text/plain": [
       "0      True\n",
       "1      True\n",
       "2      True\n",
       "3      True\n",
       "4      True\n",
       "       ... \n",
       "103    True\n",
       "104    True\n",
       "105    True\n",
       "106    True\n",
       "107    True\n",
       "Name: Drug_Name, Length: 108, dtype: bool"
      ]
     },
     "execution_count": 43,
     "metadata": {},
     "output_type": "execute_result"
    }
   ],
   "source": [
    "df_final[\"Drug_Name\"].str.contains(\"hydrochloride\")"
   ]
  },
  {
   "cell_type": "code",
   "execution_count": 45,
   "id": "c43b1292",
   "metadata": {},
   "outputs": [
    {
     "data": {
      "text/plain": [
       "array(['diltiazem hydrochloride', 'ketamine hydrochloride'], dtype=object)"
      ]
     },
     "execution_count": 45,
     "metadata": {},
     "output_type": "execute_result"
    }
   ],
   "source": [
    "df_final.loc[df_final[\"Drug_Name\"].str.contains(\"hydrochloride\")][\"Drug_Name\"].unique()"
   ]
  },
  {
   "cell_type": "code",
   "execution_count": 46,
   "id": "5994b989",
   "metadata": {},
   "outputs": [
    {
     "data": {
      "text/plain": [
       "'my name is nikhil'"
      ]
     },
     "execution_count": 46,
     "metadata": {},
     "output_type": "execute_result"
    }
   ],
   "source": [
    "string=\"my name is nikhil\"\n",
    "string"
   ]
  },
  {
   "cell_type": "code",
   "execution_count": 50,
   "id": "998fc1f1",
   "metadata": {},
   "outputs": [
    {
     "data": {
      "text/plain": [
       "['my', 'name', 'is', 'nikhil']"
      ]
     },
     "execution_count": 50,
     "metadata": {},
     "output_type": "execute_result"
    }
   ],
   "source": [
    "result=string.split()\n",
    "result"
   ]
  },
  {
   "cell_type": "code",
   "execution_count": 51,
   "id": "2cfd483b",
   "metadata": {},
   "outputs": [
    {
     "data": {
      "text/plain": [
       "'my name is nikhil'"
      ]
     },
     "execution_count": 51,
     "metadata": {},
     "output_type": "execute_result"
    }
   ],
   "source": [
    "\" \".join(result)"
   ]
  },
  {
   "cell_type": "code",
   "execution_count": 48,
   "id": "b6c8ffcc",
   "metadata": {},
   "outputs": [
    {
     "data": {
      "text/plain": [
       "0      [diltiazem, hydrochloride]\n",
       "1      [diltiazem, hydrochloride]\n",
       "2      [diltiazem, hydrochloride]\n",
       "3      [diltiazem, hydrochloride]\n",
       "4      [diltiazem, hydrochloride]\n",
       "                  ...            \n",
       "103     [ketamine, hydrochloride]\n",
       "104     [ketamine, hydrochloride]\n",
       "105     [ketamine, hydrochloride]\n",
       "106     [ketamine, hydrochloride]\n",
       "107     [ketamine, hydrochloride]\n",
       "Name: Drug_Name, Length: 108, dtype: object"
      ]
     },
     "execution_count": 48,
     "metadata": {},
     "output_type": "execute_result"
    }
   ],
   "source": [
    "df_final[\"Drug_Name\"].str.split()"
   ]
  },
  {
   "cell_type": "code",
   "execution_count": 53,
   "id": "e769dc7a",
   "metadata": {},
   "outputs": [
    {
     "name": "stdout",
     "output_type": "stream",
     "text": [
      "<class 'pandas.core.frame.DataFrame'>\n",
      "Int64Index: 108 entries, 0 to 107\n",
      "Data columns (total 5 columns):\n",
      " #   Column       Non-Null Count  Dtype  \n",
      "---  ------       --------------  -----  \n",
      " 0   Date         108 non-null    object \n",
      " 1   Drug_Name    108 non-null    object \n",
      " 2   Time         108 non-null    object \n",
      " 3   Pressure     108 non-null    float64\n",
      " 4   Temperature  108 non-null    float64\n",
      "dtypes: float64(2), object(3)\n",
      "memory usage: 5.1+ KB\n"
     ]
    }
   ],
   "source": [
    "df_final.info()"
   ]
  },
  {
   "cell_type": "code",
   "execution_count": 52,
   "id": "f2f69b05",
   "metadata": {},
   "outputs": [
    {
     "data": {
      "text/html": [
       "<div>\n",
       "<style scoped>\n",
       "    .dataframe tbody tr th:only-of-type {\n",
       "        vertical-align: middle;\n",
       "    }\n",
       "\n",
       "    .dataframe tbody tr th {\n",
       "        vertical-align: top;\n",
       "    }\n",
       "\n",
       "    .dataframe thead th {\n",
       "        text-align: right;\n",
       "    }\n",
       "</style>\n",
       "<table border=\"1\" class=\"dataframe\">\n",
       "  <thead>\n",
       "    <tr style=\"text-align: right;\">\n",
       "      <th>Parameter</th>\n",
       "      <th>Date</th>\n",
       "      <th>Drug_Name</th>\n",
       "      <th>Time</th>\n",
       "      <th>Pressure</th>\n",
       "      <th>Temperature</th>\n",
       "    </tr>\n",
       "  </thead>\n",
       "  <tbody>\n",
       "    <tr>\n",
       "      <th>0</th>\n",
       "      <td>15-10-2020</td>\n",
       "      <td>diltiazem hydrochloride</td>\n",
       "      <td>10:30:00</td>\n",
       "      <td>18.0</td>\n",
       "      <td>20.0</td>\n",
       "    </tr>\n",
       "    <tr>\n",
       "      <th>1</th>\n",
       "      <td>15-10-2020</td>\n",
       "      <td>diltiazem hydrochloride</td>\n",
       "      <td>11:30:00</td>\n",
       "      <td>19.0</td>\n",
       "      <td>20.0</td>\n",
       "    </tr>\n",
       "    <tr>\n",
       "      <th>2</th>\n",
       "      <td>15-10-2020</td>\n",
       "      <td>diltiazem hydrochloride</td>\n",
       "      <td>12:30:00</td>\n",
       "      <td>20.0</td>\n",
       "      <td>21.0</td>\n",
       "    </tr>\n",
       "    <tr>\n",
       "      <th>3</th>\n",
       "      <td>15-10-2020</td>\n",
       "      <td>diltiazem hydrochloride</td>\n",
       "      <td>1:30:00</td>\n",
       "      <td>12.0</td>\n",
       "      <td>23.0</td>\n",
       "    </tr>\n",
       "    <tr>\n",
       "      <th>4</th>\n",
       "      <td>15-10-2020</td>\n",
       "      <td>diltiazem hydrochloride</td>\n",
       "      <td>2:30:00</td>\n",
       "      <td>13.0</td>\n",
       "      <td>22.0</td>\n",
       "    </tr>\n",
       "    <tr>\n",
       "      <th>...</th>\n",
       "      <td>...</td>\n",
       "      <td>...</td>\n",
       "      <td>...</td>\n",
       "      <td>...</td>\n",
       "      <td>...</td>\n",
       "    </tr>\n",
       "    <tr>\n",
       "      <th>103</th>\n",
       "      <td>17-10-2020</td>\n",
       "      <td>ketamine hydrochloride</td>\n",
       "      <td>5:30:00</td>\n",
       "      <td>11.0</td>\n",
       "      <td>17.0</td>\n",
       "    </tr>\n",
       "    <tr>\n",
       "      <th>104</th>\n",
       "      <td>17-10-2020</td>\n",
       "      <td>ketamine hydrochloride</td>\n",
       "      <td>6:30:00</td>\n",
       "      <td>12.0</td>\n",
       "      <td>18.0</td>\n",
       "    </tr>\n",
       "    <tr>\n",
       "      <th>105</th>\n",
       "      <td>17-10-2020</td>\n",
       "      <td>ketamine hydrochloride</td>\n",
       "      <td>7:30:00</td>\n",
       "      <td>12.0</td>\n",
       "      <td>19.0</td>\n",
       "    </tr>\n",
       "    <tr>\n",
       "      <th>106</th>\n",
       "      <td>17-10-2020</td>\n",
       "      <td>ketamine hydrochloride</td>\n",
       "      <td>8:30:00</td>\n",
       "      <td>11.0</td>\n",
       "      <td>20.0</td>\n",
       "    </tr>\n",
       "    <tr>\n",
       "      <th>107</th>\n",
       "      <td>17-10-2020</td>\n",
       "      <td>ketamine hydrochloride</td>\n",
       "      <td>9:30:00</td>\n",
       "      <td>12.0</td>\n",
       "      <td>21.0</td>\n",
       "    </tr>\n",
       "  </tbody>\n",
       "</table>\n",
       "<p>108 rows × 5 columns</p>\n",
       "</div>"
      ],
      "text/plain": [
       "Parameter        Date                Drug_Name      Time  Pressure  \\\n",
       "0          15-10-2020  diltiazem hydrochloride  10:30:00      18.0   \n",
       "1          15-10-2020  diltiazem hydrochloride  11:30:00      19.0   \n",
       "2          15-10-2020  diltiazem hydrochloride  12:30:00      20.0   \n",
       "3          15-10-2020  diltiazem hydrochloride   1:30:00      12.0   \n",
       "4          15-10-2020  diltiazem hydrochloride   2:30:00      13.0   \n",
       "..                ...                      ...       ...       ...   \n",
       "103        17-10-2020   ketamine hydrochloride   5:30:00      11.0   \n",
       "104        17-10-2020   ketamine hydrochloride   6:30:00      12.0   \n",
       "105        17-10-2020   ketamine hydrochloride   7:30:00      12.0   \n",
       "106        17-10-2020   ketamine hydrochloride   8:30:00      11.0   \n",
       "107        17-10-2020   ketamine hydrochloride   9:30:00      12.0   \n",
       "\n",
       "Parameter  Temperature  \n",
       "0                 20.0  \n",
       "1                 20.0  \n",
       "2                 21.0  \n",
       "3                 23.0  \n",
       "4                 22.0  \n",
       "..                 ...  \n",
       "103               17.0  \n",
       "104               18.0  \n",
       "105               19.0  \n",
       "106               20.0  \n",
       "107               21.0  \n",
       "\n",
       "[108 rows x 5 columns]"
      ]
     },
     "execution_count": 52,
     "metadata": {},
     "output_type": "execute_result"
    }
   ],
   "source": [
    "df_final"
   ]
  },
  {
   "cell_type": "code",
   "execution_count": 56,
   "id": "5a4b0055",
   "metadata": {},
   "outputs": [],
   "source": [
    "df_final[\"TimeStamp\"]=df_final[\"Date\"] + \" \" + df_final[\"Time\"]\n",
    "df_final.drop(columns=[\"Date\",\"Time\"],inplace=True)"
   ]
  },
  {
   "cell_type": "code",
   "execution_count": 60,
   "id": "944a59f8",
   "metadata": {},
   "outputs": [],
   "source": [
    "df_final=df_final[['TimeStamp','Drug_Name', 'Pressure', 'Temperature' ]]"
   ]
  },
  {
   "cell_type": "code",
   "execution_count": 61,
   "id": "b260c5aa",
   "metadata": {},
   "outputs": [
    {
     "data": {
      "text/html": [
       "<div>\n",
       "<style scoped>\n",
       "    .dataframe tbody tr th:only-of-type {\n",
       "        vertical-align: middle;\n",
       "    }\n",
       "\n",
       "    .dataframe tbody tr th {\n",
       "        vertical-align: top;\n",
       "    }\n",
       "\n",
       "    .dataframe thead th {\n",
       "        text-align: right;\n",
       "    }\n",
       "</style>\n",
       "<table border=\"1\" class=\"dataframe\">\n",
       "  <thead>\n",
       "    <tr style=\"text-align: right;\">\n",
       "      <th>Parameter</th>\n",
       "      <th>TimeStamp</th>\n",
       "      <th>Drug_Name</th>\n",
       "      <th>Pressure</th>\n",
       "      <th>Temperature</th>\n",
       "    </tr>\n",
       "  </thead>\n",
       "  <tbody>\n",
       "    <tr>\n",
       "      <th>0</th>\n",
       "      <td>15-10-2020 10:30:00</td>\n",
       "      <td>diltiazem hydrochloride</td>\n",
       "      <td>18.0</td>\n",
       "      <td>20.0</td>\n",
       "    </tr>\n",
       "    <tr>\n",
       "      <th>1</th>\n",
       "      <td>15-10-2020 11:30:00</td>\n",
       "      <td>diltiazem hydrochloride</td>\n",
       "      <td>19.0</td>\n",
       "      <td>20.0</td>\n",
       "    </tr>\n",
       "    <tr>\n",
       "      <th>2</th>\n",
       "      <td>15-10-2020 12:30:00</td>\n",
       "      <td>diltiazem hydrochloride</td>\n",
       "      <td>20.0</td>\n",
       "      <td>21.0</td>\n",
       "    </tr>\n",
       "    <tr>\n",
       "      <th>3</th>\n",
       "      <td>15-10-2020 1:30:00</td>\n",
       "      <td>diltiazem hydrochloride</td>\n",
       "      <td>12.0</td>\n",
       "      <td>23.0</td>\n",
       "    </tr>\n",
       "    <tr>\n",
       "      <th>4</th>\n",
       "      <td>15-10-2020 2:30:00</td>\n",
       "      <td>diltiazem hydrochloride</td>\n",
       "      <td>13.0</td>\n",
       "      <td>22.0</td>\n",
       "    </tr>\n",
       "    <tr>\n",
       "      <th>...</th>\n",
       "      <td>...</td>\n",
       "      <td>...</td>\n",
       "      <td>...</td>\n",
       "      <td>...</td>\n",
       "    </tr>\n",
       "    <tr>\n",
       "      <th>103</th>\n",
       "      <td>17-10-2020 5:30:00</td>\n",
       "      <td>ketamine hydrochloride</td>\n",
       "      <td>11.0</td>\n",
       "      <td>17.0</td>\n",
       "    </tr>\n",
       "    <tr>\n",
       "      <th>104</th>\n",
       "      <td>17-10-2020 6:30:00</td>\n",
       "      <td>ketamine hydrochloride</td>\n",
       "      <td>12.0</td>\n",
       "      <td>18.0</td>\n",
       "    </tr>\n",
       "    <tr>\n",
       "      <th>105</th>\n",
       "      <td>17-10-2020 7:30:00</td>\n",
       "      <td>ketamine hydrochloride</td>\n",
       "      <td>12.0</td>\n",
       "      <td>19.0</td>\n",
       "    </tr>\n",
       "    <tr>\n",
       "      <th>106</th>\n",
       "      <td>17-10-2020 8:30:00</td>\n",
       "      <td>ketamine hydrochloride</td>\n",
       "      <td>11.0</td>\n",
       "      <td>20.0</td>\n",
       "    </tr>\n",
       "    <tr>\n",
       "      <th>107</th>\n",
       "      <td>17-10-2020 9:30:00</td>\n",
       "      <td>ketamine hydrochloride</td>\n",
       "      <td>12.0</td>\n",
       "      <td>21.0</td>\n",
       "    </tr>\n",
       "  </tbody>\n",
       "</table>\n",
       "<p>108 rows × 4 columns</p>\n",
       "</div>"
      ],
      "text/plain": [
       "Parameter            TimeStamp                Drug_Name  Pressure  Temperature\n",
       "0          15-10-2020 10:30:00  diltiazem hydrochloride      18.0         20.0\n",
       "1          15-10-2020 11:30:00  diltiazem hydrochloride      19.0         20.0\n",
       "2          15-10-2020 12:30:00  diltiazem hydrochloride      20.0         21.0\n",
       "3           15-10-2020 1:30:00  diltiazem hydrochloride      12.0         23.0\n",
       "4           15-10-2020 2:30:00  diltiazem hydrochloride      13.0         22.0\n",
       "..                         ...                      ...       ...          ...\n",
       "103         17-10-2020 5:30:00   ketamine hydrochloride      11.0         17.0\n",
       "104         17-10-2020 6:30:00   ketamine hydrochloride      12.0         18.0\n",
       "105         17-10-2020 7:30:00   ketamine hydrochloride      12.0         19.0\n",
       "106         17-10-2020 8:30:00   ketamine hydrochloride      11.0         20.0\n",
       "107         17-10-2020 9:30:00   ketamine hydrochloride      12.0         21.0\n",
       "\n",
       "[108 rows x 4 columns]"
      ]
     },
     "execution_count": 61,
     "metadata": {},
     "output_type": "execute_result"
    }
   ],
   "source": [
    "df_final"
   ]
  },
  {
   "cell_type": "code",
   "execution_count": 62,
   "id": "b0182c36",
   "metadata": {},
   "outputs": [
    {
     "name": "stdout",
     "output_type": "stream",
     "text": [
      "<class 'pandas.core.frame.DataFrame'>\n",
      "Int64Index: 108 entries, 0 to 107\n",
      "Data columns (total 4 columns):\n",
      " #   Column       Non-Null Count  Dtype  \n",
      "---  ------       --------------  -----  \n",
      " 0   TimeStamp    108 non-null    object \n",
      " 1   Drug_Name    108 non-null    object \n",
      " 2   Pressure     108 non-null    float64\n",
      " 3   Temperature  108 non-null    float64\n",
      "dtypes: float64(2), object(2)\n",
      "memory usage: 4.2+ KB\n"
     ]
    }
   ],
   "source": [
    "df_final.info()"
   ]
  },
  {
   "cell_type": "code",
   "execution_count": 63,
   "id": "46020674",
   "metadata": {},
   "outputs": [
    {
     "data": {
      "text/html": [
       "<div>\n",
       "<style scoped>\n",
       "    .dataframe tbody tr th:only-of-type {\n",
       "        vertical-align: middle;\n",
       "    }\n",
       "\n",
       "    .dataframe tbody tr th {\n",
       "        vertical-align: top;\n",
       "    }\n",
       "\n",
       "    .dataframe thead th {\n",
       "        text-align: right;\n",
       "    }\n",
       "</style>\n",
       "<table border=\"1\" class=\"dataframe\">\n",
       "  <thead>\n",
       "    <tr style=\"text-align: right;\">\n",
       "      <th>Parameter</th>\n",
       "      <th>TimeStamp</th>\n",
       "      <th>Drug_Name</th>\n",
       "      <th>Pressure</th>\n",
       "      <th>Temperature</th>\n",
       "    </tr>\n",
       "  </thead>\n",
       "  <tbody>\n",
       "    <tr>\n",
       "      <th>0</th>\n",
       "      <td>2020-10-15 10:30:00</td>\n",
       "      <td>diltiazem hydrochloride</td>\n",
       "      <td>18.0</td>\n",
       "      <td>20.0</td>\n",
       "    </tr>\n",
       "    <tr>\n",
       "      <th>1</th>\n",
       "      <td>2020-10-15 11:30:00</td>\n",
       "      <td>diltiazem hydrochloride</td>\n",
       "      <td>19.0</td>\n",
       "      <td>20.0</td>\n",
       "    </tr>\n",
       "    <tr>\n",
       "      <th>2</th>\n",
       "      <td>2020-10-15 12:30:00</td>\n",
       "      <td>diltiazem hydrochloride</td>\n",
       "      <td>20.0</td>\n",
       "      <td>21.0</td>\n",
       "    </tr>\n",
       "    <tr>\n",
       "      <th>3</th>\n",
       "      <td>2020-10-15 01:30:00</td>\n",
       "      <td>diltiazem hydrochloride</td>\n",
       "      <td>12.0</td>\n",
       "      <td>23.0</td>\n",
       "    </tr>\n",
       "    <tr>\n",
       "      <th>4</th>\n",
       "      <td>2020-10-15 02:30:00</td>\n",
       "      <td>diltiazem hydrochloride</td>\n",
       "      <td>13.0</td>\n",
       "      <td>22.0</td>\n",
       "    </tr>\n",
       "    <tr>\n",
       "      <th>...</th>\n",
       "      <td>...</td>\n",
       "      <td>...</td>\n",
       "      <td>...</td>\n",
       "      <td>...</td>\n",
       "    </tr>\n",
       "    <tr>\n",
       "      <th>103</th>\n",
       "      <td>2020-10-17 05:30:00</td>\n",
       "      <td>ketamine hydrochloride</td>\n",
       "      <td>11.0</td>\n",
       "      <td>17.0</td>\n",
       "    </tr>\n",
       "    <tr>\n",
       "      <th>104</th>\n",
       "      <td>2020-10-17 06:30:00</td>\n",
       "      <td>ketamine hydrochloride</td>\n",
       "      <td>12.0</td>\n",
       "      <td>18.0</td>\n",
       "    </tr>\n",
       "    <tr>\n",
       "      <th>105</th>\n",
       "      <td>2020-10-17 07:30:00</td>\n",
       "      <td>ketamine hydrochloride</td>\n",
       "      <td>12.0</td>\n",
       "      <td>19.0</td>\n",
       "    </tr>\n",
       "    <tr>\n",
       "      <th>106</th>\n",
       "      <td>2020-10-17 08:30:00</td>\n",
       "      <td>ketamine hydrochloride</td>\n",
       "      <td>11.0</td>\n",
       "      <td>20.0</td>\n",
       "    </tr>\n",
       "    <tr>\n",
       "      <th>107</th>\n",
       "      <td>2020-10-17 09:30:00</td>\n",
       "      <td>ketamine hydrochloride</td>\n",
       "      <td>12.0</td>\n",
       "      <td>21.0</td>\n",
       "    </tr>\n",
       "  </tbody>\n",
       "</table>\n",
       "<p>108 rows × 4 columns</p>\n",
       "</div>"
      ],
      "text/plain": [
       "Parameter           TimeStamp                Drug_Name  Pressure  Temperature\n",
       "0         2020-10-15 10:30:00  diltiazem hydrochloride      18.0         20.0\n",
       "1         2020-10-15 11:30:00  diltiazem hydrochloride      19.0         20.0\n",
       "2         2020-10-15 12:30:00  diltiazem hydrochloride      20.0         21.0\n",
       "3         2020-10-15 01:30:00  diltiazem hydrochloride      12.0         23.0\n",
       "4         2020-10-15 02:30:00  diltiazem hydrochloride      13.0         22.0\n",
       "..                        ...                      ...       ...          ...\n",
       "103       2020-10-17 05:30:00   ketamine hydrochloride      11.0         17.0\n",
       "104       2020-10-17 06:30:00   ketamine hydrochloride      12.0         18.0\n",
       "105       2020-10-17 07:30:00   ketamine hydrochloride      12.0         19.0\n",
       "106       2020-10-17 08:30:00   ketamine hydrochloride      11.0         20.0\n",
       "107       2020-10-17 09:30:00   ketamine hydrochloride      12.0         21.0\n",
       "\n",
       "[108 rows x 4 columns]"
      ]
     },
     "execution_count": 63,
     "metadata": {},
     "output_type": "execute_result"
    }
   ],
   "source": [
    "df_final[\"TimeStamp\"]=pd.to_datetime(df_final[\"TimeStamp\"])\n",
    "df_final"
   ]
  },
  {
   "cell_type": "code",
   "execution_count": 64,
   "id": "2b2fd988",
   "metadata": {},
   "outputs": [
    {
     "name": "stdout",
     "output_type": "stream",
     "text": [
      "<class 'pandas.core.frame.DataFrame'>\n",
      "Int64Index: 108 entries, 0 to 107\n",
      "Data columns (total 4 columns):\n",
      " #   Column       Non-Null Count  Dtype         \n",
      "---  ------       --------------  -----         \n",
      " 0   TimeStamp    108 non-null    datetime64[ns]\n",
      " 1   Drug_Name    108 non-null    object        \n",
      " 2   Pressure     108 non-null    float64       \n",
      " 3   Temperature  108 non-null    float64       \n",
      "dtypes: datetime64[ns](1), float64(2), object(1)\n",
      "memory usage: 4.2+ KB\n"
     ]
    }
   ],
   "source": [
    "df_final.info()"
   ]
  },
  {
   "cell_type": "code",
   "execution_count": 66,
   "id": "8508c5ba",
   "metadata": {},
   "outputs": [
    {
     "data": {
      "text/plain": [
       "Timestamp('2020-10-15 10:30:00')"
      ]
     },
     "execution_count": 66,
     "metadata": {},
     "output_type": "execute_result"
    }
   ],
   "source": [
    "df_final[\"TimeStamp\"][0]"
   ]
  },
  {
   "cell_type": "code",
   "execution_count": 67,
   "id": "23aaff7d",
   "metadata": {},
   "outputs": [
    {
     "data": {
      "text/plain": [
       "pandas._libs.tslibs.timestamps.Timestamp"
      ]
     },
     "execution_count": 67,
     "metadata": {},
     "output_type": "execute_result"
    }
   ],
   "source": [
    "type(df_final[\"TimeStamp\"][0])"
   ]
  },
  {
   "cell_type": "code",
   "execution_count": 68,
   "id": "9769237e",
   "metadata": {},
   "outputs": [
    {
     "data": {
      "text/plain": [
       "Timestamp('2020-10-15 10:30:00')"
      ]
     },
     "execution_count": 68,
     "metadata": {},
     "output_type": "execute_result"
    }
   ],
   "source": [
    "ts=df_final[\"TimeStamp\"][0]\n",
    "ts"
   ]
  },
  {
   "cell_type": "code",
   "execution_count": 69,
   "id": "10ee4eec",
   "metadata": {},
   "outputs": [
    {
     "data": {
      "text/plain": [
       "2020"
      ]
     },
     "execution_count": 69,
     "metadata": {},
     "output_type": "execute_result"
    }
   ],
   "source": [
    "ts.year"
   ]
  },
  {
   "cell_type": "code",
   "execution_count": 70,
   "id": "4d939084",
   "metadata": {},
   "outputs": [
    {
     "data": {
      "text/plain": [
       "10"
      ]
     },
     "execution_count": 70,
     "metadata": {},
     "output_type": "execute_result"
    }
   ],
   "source": [
    "ts.month"
   ]
  },
  {
   "cell_type": "code",
   "execution_count": 72,
   "id": "04c883de",
   "metadata": {},
   "outputs": [
    {
     "data": {
      "text/plain": [
       "'October'"
      ]
     },
     "execution_count": 72,
     "metadata": {},
     "output_type": "execute_result"
    }
   ],
   "source": [
    "ts.month_name()"
   ]
  },
  {
   "cell_type": "code",
   "execution_count": 73,
   "id": "780bf817",
   "metadata": {},
   "outputs": [
    {
     "data": {
      "text/plain": [
       "15"
      ]
     },
     "execution_count": 73,
     "metadata": {},
     "output_type": "execute_result"
    }
   ],
   "source": [
    "ts.day"
   ]
  },
  {
   "cell_type": "code",
   "execution_count": 74,
   "id": "3ca2fd57",
   "metadata": {},
   "outputs": [
    {
     "data": {
      "text/plain": [
       "'Thursday'"
      ]
     },
     "execution_count": 74,
     "metadata": {},
     "output_type": "execute_result"
    }
   ],
   "source": [
    "ts.day_name()"
   ]
  },
  {
   "cell_type": "code",
   "execution_count": 75,
   "id": "709309d1",
   "metadata": {},
   "outputs": [
    {
     "data": {
      "text/plain": [
       "3"
      ]
     },
     "execution_count": 75,
     "metadata": {},
     "output_type": "execute_result"
    }
   ],
   "source": [
    "ts.day_of_week"
   ]
  },
  {
   "cell_type": "code",
   "execution_count": 76,
   "id": "46ade4b9",
   "metadata": {},
   "outputs": [
    {
     "data": {
      "text/plain": [
       "289"
      ]
     },
     "execution_count": 76,
     "metadata": {},
     "output_type": "execute_result"
    }
   ],
   "source": [
    "ts.day_of_year"
   ]
  },
  {
   "cell_type": "code",
   "execution_count": 77,
   "id": "a66f1340",
   "metadata": {},
   "outputs": [
    {
     "data": {
      "text/plain": [
       "42"
      ]
     },
     "execution_count": 77,
     "metadata": {},
     "output_type": "execute_result"
    }
   ],
   "source": [
    "ts.week"
   ]
  },
  {
   "cell_type": "code",
   "execution_count": 78,
   "id": "da31aa89",
   "metadata": {},
   "outputs": [
    {
     "data": {
      "text/plain": [
       "10"
      ]
     },
     "execution_count": 78,
     "metadata": {},
     "output_type": "execute_result"
    }
   ],
   "source": [
    "ts.hour"
   ]
  },
  {
   "cell_type": "code",
   "execution_count": 79,
   "id": "da51c93f",
   "metadata": {},
   "outputs": [
    {
     "data": {
      "text/plain": [
       "30"
      ]
     },
     "execution_count": 79,
     "metadata": {},
     "output_type": "execute_result"
    }
   ],
   "source": [
    "ts.minute"
   ]
  },
  {
   "cell_type": "code",
   "execution_count": 80,
   "id": "dc1f2dea",
   "metadata": {},
   "outputs": [
    {
     "data": {
      "text/plain": [
       "0"
      ]
     },
     "execution_count": 80,
     "metadata": {},
     "output_type": "execute_result"
    }
   ],
   "source": [
    "ts.second"
   ]
  },
  {
   "cell_type": "code",
   "execution_count": 81,
   "id": "0bfc1650",
   "metadata": {},
   "outputs": [
    {
     "data": {
      "text/plain": [
       "0"
      ]
     },
     "execution_count": 81,
     "metadata": {},
     "output_type": "execute_result"
    }
   ],
   "source": [
    "ts.microsecond"
   ]
  },
  {
   "cell_type": "code",
   "execution_count": null,
   "id": "875d2ff4",
   "metadata": {},
   "outputs": [],
   "source": []
  },
  {
   "cell_type": "code",
   "execution_count": 82,
   "id": "6a4d8ab8",
   "metadata": {},
   "outputs": [],
   "source": [
    "from datetime import datetime as dt"
   ]
  },
  {
   "cell_type": "code",
   "execution_count": 83,
   "id": "1340d841",
   "metadata": {},
   "outputs": [
    {
     "data": {
      "text/plain": [
       "0      2020\n",
       "1      2020\n",
       "2      2020\n",
       "3      2020\n",
       "4      2020\n",
       "       ... \n",
       "103    2020\n",
       "104    2020\n",
       "105    2020\n",
       "106    2020\n",
       "107    2020\n",
       "Name: TimeStamp, Length: 108, dtype: int64"
      ]
     },
     "execution_count": 83,
     "metadata": {},
     "output_type": "execute_result"
    }
   ],
   "source": [
    "df_final[\"TimeStamp\"].dt.year"
   ]
  },
  {
   "cell_type": "code",
   "execution_count": 84,
   "id": "a9766032",
   "metadata": {},
   "outputs": [
    {
     "data": {
      "text/plain": [
       "0      10\n",
       "1      10\n",
       "2      10\n",
       "3      10\n",
       "4      10\n",
       "       ..\n",
       "103    10\n",
       "104    10\n",
       "105    10\n",
       "106    10\n",
       "107    10\n",
       "Name: TimeStamp, Length: 108, dtype: int64"
      ]
     },
     "execution_count": 84,
     "metadata": {},
     "output_type": "execute_result"
    }
   ],
   "source": [
    "df_final[\"TimeStamp\"].dt.month"
   ]
  },
  {
   "cell_type": "code",
   "execution_count": 85,
   "id": "ce52dac1",
   "metadata": {},
   "outputs": [
    {
     "data": {
      "text/plain": [
       "0      15\n",
       "1      15\n",
       "2      15\n",
       "3      15\n",
       "4      15\n",
       "       ..\n",
       "103    17\n",
       "104    17\n",
       "105    17\n",
       "106    17\n",
       "107    17\n",
       "Name: TimeStamp, Length: 108, dtype: int64"
      ]
     },
     "execution_count": 85,
     "metadata": {},
     "output_type": "execute_result"
    }
   ],
   "source": [
    "df_final[\"TimeStamp\"].dt.day"
   ]
  },
  {
   "cell_type": "code",
   "execution_count": null,
   "id": "e880cdf6",
   "metadata": {},
   "outputs": [],
   "source": []
  },
  {
   "cell_type": "code",
   "execution_count": null,
   "id": "c96b53ef",
   "metadata": {},
   "outputs": [],
   "source": []
  },
  {
   "cell_type": "code",
   "execution_count": 86,
   "id": "56957151",
   "metadata": {},
   "outputs": [
    {
     "data": {
      "text/plain": [
       "Timestamp('2020-10-15 10:30:00')"
      ]
     },
     "execution_count": 86,
     "metadata": {},
     "output_type": "execute_result"
    }
   ],
   "source": [
    "ts"
   ]
  },
  {
   "cell_type": "code",
   "execution_count": 87,
   "id": "62853a37",
   "metadata": {},
   "outputs": [
    {
     "data": {
      "text/plain": [
       "'15 10 2020'"
      ]
     },
     "execution_count": 87,
     "metadata": {},
     "output_type": "execute_result"
    }
   ],
   "source": [
    "ts.strftime(\"%d %m %Y\")"
   ]
  },
  {
   "cell_type": "code",
   "execution_count": 88,
   "id": "79b6ee29",
   "metadata": {},
   "outputs": [
    {
     "data": {
      "text/plain": [
       "'15-10-2020'"
      ]
     },
     "execution_count": 88,
     "metadata": {},
     "output_type": "execute_result"
    }
   ],
   "source": [
    "ts.strftime(\"%d-%m-%Y\")"
   ]
  },
  {
   "cell_type": "code",
   "execution_count": 89,
   "id": "be0d9d00",
   "metadata": {},
   "outputs": [
    {
     "data": {
      "text/plain": [
       "'15:10:2020'"
      ]
     },
     "execution_count": 89,
     "metadata": {},
     "output_type": "execute_result"
    }
   ],
   "source": [
    "ts.strftime(\"%d:%m:%Y\")"
   ]
  },
  {
   "cell_type": "code",
   "execution_count": 90,
   "id": "99f80e1a",
   "metadata": {},
   "outputs": [
    {
     "data": {
      "text/plain": [
       "'15/10/2020'"
      ]
     },
     "execution_count": 90,
     "metadata": {},
     "output_type": "execute_result"
    }
   ],
   "source": [
    "ts.strftime(\"%d/%m/%Y\")"
   ]
  },
  {
   "cell_type": "code",
   "execution_count": 91,
   "id": "15c808b2",
   "metadata": {},
   "outputs": [
    {
     "data": {
      "text/plain": [
       "'15-10-2020 10:30:00'"
      ]
     },
     "execution_count": 91,
     "metadata": {},
     "output_type": "execute_result"
    }
   ],
   "source": [
    "ts.strftime(\"%d-%m-%Y %H:%M:%S\")"
   ]
  },
  {
   "cell_type": "code",
   "execution_count": 92,
   "id": "68f132ff",
   "metadata": {},
   "outputs": [
    {
     "data": {
      "text/plain": [
       "'Oct 15,2020'"
      ]
     },
     "execution_count": 92,
     "metadata": {},
     "output_type": "execute_result"
    }
   ],
   "source": [
    "ts.strftime(\"%b %d,%Y\")"
   ]
  },
  {
   "cell_type": "code",
   "execution_count": 93,
   "id": "d33f5b2b",
   "metadata": {},
   "outputs": [
    {
     "data": {
      "text/plain": [
       "'October 15,2020'"
      ]
     },
     "execution_count": 93,
     "metadata": {},
     "output_type": "execute_result"
    }
   ],
   "source": [
    "ts.strftime(\"%B %d,%Y\")"
   ]
  },
  {
   "cell_type": "code",
   "execution_count": null,
   "id": "de6fa9d8",
   "metadata": {},
   "outputs": [],
   "source": []
  },
  {
   "cell_type": "code",
   "execution_count": 94,
   "id": "509e3f7b",
   "metadata": {},
   "outputs": [
    {
     "data": {
      "text/html": [
       "<div>\n",
       "<style scoped>\n",
       "    .dataframe tbody tr th:only-of-type {\n",
       "        vertical-align: middle;\n",
       "    }\n",
       "\n",
       "    .dataframe tbody tr th {\n",
       "        vertical-align: top;\n",
       "    }\n",
       "\n",
       "    .dataframe thead th {\n",
       "        text-align: right;\n",
       "    }\n",
       "</style>\n",
       "<table border=\"1\" class=\"dataframe\">\n",
       "  <thead>\n",
       "    <tr style=\"text-align: right;\">\n",
       "      <th>Parameter</th>\n",
       "      <th>TimeStamp</th>\n",
       "      <th>Drug_Name</th>\n",
       "      <th>Pressure</th>\n",
       "      <th>Temperature</th>\n",
       "    </tr>\n",
       "  </thead>\n",
       "  <tbody>\n",
       "    <tr>\n",
       "      <th>0</th>\n",
       "      <td>2020-10-15 10:30:00</td>\n",
       "      <td>diltiazem hydrochloride</td>\n",
       "      <td>18.0</td>\n",
       "      <td>20.0</td>\n",
       "    </tr>\n",
       "    <tr>\n",
       "      <th>1</th>\n",
       "      <td>2020-10-15 11:30:00</td>\n",
       "      <td>diltiazem hydrochloride</td>\n",
       "      <td>19.0</td>\n",
       "      <td>20.0</td>\n",
       "    </tr>\n",
       "    <tr>\n",
       "      <th>2</th>\n",
       "      <td>2020-10-15 12:30:00</td>\n",
       "      <td>diltiazem hydrochloride</td>\n",
       "      <td>20.0</td>\n",
       "      <td>21.0</td>\n",
       "    </tr>\n",
       "    <tr>\n",
       "      <th>3</th>\n",
       "      <td>2020-10-15 01:30:00</td>\n",
       "      <td>diltiazem hydrochloride</td>\n",
       "      <td>12.0</td>\n",
       "      <td>23.0</td>\n",
       "    </tr>\n",
       "    <tr>\n",
       "      <th>4</th>\n",
       "      <td>2020-10-15 02:30:00</td>\n",
       "      <td>diltiazem hydrochloride</td>\n",
       "      <td>13.0</td>\n",
       "      <td>22.0</td>\n",
       "    </tr>\n",
       "    <tr>\n",
       "      <th>...</th>\n",
       "      <td>...</td>\n",
       "      <td>...</td>\n",
       "      <td>...</td>\n",
       "      <td>...</td>\n",
       "    </tr>\n",
       "    <tr>\n",
       "      <th>103</th>\n",
       "      <td>2020-10-17 05:30:00</td>\n",
       "      <td>ketamine hydrochloride</td>\n",
       "      <td>11.0</td>\n",
       "      <td>17.0</td>\n",
       "    </tr>\n",
       "    <tr>\n",
       "      <th>104</th>\n",
       "      <td>2020-10-17 06:30:00</td>\n",
       "      <td>ketamine hydrochloride</td>\n",
       "      <td>12.0</td>\n",
       "      <td>18.0</td>\n",
       "    </tr>\n",
       "    <tr>\n",
       "      <th>105</th>\n",
       "      <td>2020-10-17 07:30:00</td>\n",
       "      <td>ketamine hydrochloride</td>\n",
       "      <td>12.0</td>\n",
       "      <td>19.0</td>\n",
       "    </tr>\n",
       "    <tr>\n",
       "      <th>106</th>\n",
       "      <td>2020-10-17 08:30:00</td>\n",
       "      <td>ketamine hydrochloride</td>\n",
       "      <td>11.0</td>\n",
       "      <td>20.0</td>\n",
       "    </tr>\n",
       "    <tr>\n",
       "      <th>107</th>\n",
       "      <td>2020-10-17 09:30:00</td>\n",
       "      <td>ketamine hydrochloride</td>\n",
       "      <td>12.0</td>\n",
       "      <td>21.0</td>\n",
       "    </tr>\n",
       "  </tbody>\n",
       "</table>\n",
       "<p>108 rows × 4 columns</p>\n",
       "</div>"
      ],
      "text/plain": [
       "Parameter           TimeStamp                Drug_Name  Pressure  Temperature\n",
       "0         2020-10-15 10:30:00  diltiazem hydrochloride      18.0         20.0\n",
       "1         2020-10-15 11:30:00  diltiazem hydrochloride      19.0         20.0\n",
       "2         2020-10-15 12:30:00  diltiazem hydrochloride      20.0         21.0\n",
       "3         2020-10-15 01:30:00  diltiazem hydrochloride      12.0         23.0\n",
       "4         2020-10-15 02:30:00  diltiazem hydrochloride      13.0         22.0\n",
       "..                        ...                      ...       ...          ...\n",
       "103       2020-10-17 05:30:00   ketamine hydrochloride      11.0         17.0\n",
       "104       2020-10-17 06:30:00   ketamine hydrochloride      12.0         18.0\n",
       "105       2020-10-17 07:30:00   ketamine hydrochloride      12.0         19.0\n",
       "106       2020-10-17 08:30:00   ketamine hydrochloride      11.0         20.0\n",
       "107       2020-10-17 09:30:00   ketamine hydrochloride      12.0         21.0\n",
       "\n",
       "[108 rows x 4 columns]"
      ]
     },
     "execution_count": 94,
     "metadata": {},
     "output_type": "execute_result"
    }
   ],
   "source": [
    "df_final"
   ]
  },
  {
   "cell_type": "code",
   "execution_count": 95,
   "id": "f415d1e8",
   "metadata": {},
   "outputs": [],
   "source": [
    "import os"
   ]
  },
  {
   "cell_type": "code",
   "execution_count": 96,
   "id": "c58142d3",
   "metadata": {},
   "outputs": [
    {
     "data": {
      "text/plain": [
       "'/Users/nikhilsanghi/Downloads/01_dsml-course-main-live/batches/1_Aug_Beg_Mon/14_Data_Visulisation_1_Pandas_6'"
      ]
     },
     "execution_count": 96,
     "metadata": {},
     "output_type": "execute_result"
    }
   ],
   "source": [
    "os.getcwd()"
   ]
  },
  {
   "cell_type": "code",
   "execution_count": 97,
   "id": "a31c9537",
   "metadata": {},
   "outputs": [
    {
     "data": {
      "text/plain": [
       "['final_vg.csv',\n",
       " 'Pfizer_1.csv',\n",
       " '14_Data_Visualisation_1_Notebook.ipynb',\n",
       " '14_Pandas_6_Notebook.ipynb',\n",
       " '.ipynb_checkpoints']"
      ]
     },
     "execution_count": 97,
     "metadata": {},
     "output_type": "execute_result"
    }
   ],
   "source": [
    "os.listdir()"
   ]
  },
  {
   "cell_type": "code",
   "execution_count": null,
   "id": "1cf98664",
   "metadata": {},
   "outputs": [],
   "source": []
  },
  {
   "cell_type": "code",
   "execution_count": 98,
   "id": "f9b5ad80",
   "metadata": {},
   "outputs": [],
   "source": [
    "df_final.to_csv(\"Pfizer_cleaned.csv\")"
   ]
  },
  {
   "cell_type": "code",
   "execution_count": 99,
   "id": "ab7a63c4",
   "metadata": {},
   "outputs": [
    {
     "data": {
      "text/plain": [
       "['final_vg.csv',\n",
       " 'Pfizer_1.csv',\n",
       " '14_Data_Visualisation_1_Notebook.ipynb',\n",
       " '14_Pandas_6_Notebook.ipynb',\n",
       " '.ipynb_checkpoints',\n",
       " 'Pfizer_cleaned.csv']"
      ]
     },
     "execution_count": 99,
     "metadata": {},
     "output_type": "execute_result"
    }
   ],
   "source": [
    "os.listdir()"
   ]
  },
  {
   "cell_type": "code",
   "execution_count": 101,
   "id": "04d01135",
   "metadata": {},
   "outputs": [],
   "source": [
    "df.to_csv?"
   ]
  },
  {
   "cell_type": "code",
   "execution_count": null,
   "id": "de9c5ea5",
   "metadata": {},
   "outputs": [],
   "source": []
  },
  {
   "cell_type": "code",
   "execution_count": null,
   "id": "1ebdd362",
   "metadata": {},
   "outputs": [],
   "source": [
    "\"/Users/nikhilsanghi/Downloads/01_dsml-course-main-live/batches/1_Aug_Beg_Mon/14_Data_Visulisation_1_Pandas_6/New_folder/Pfizer_cleaned_1.csv\""
   ]
  },
  {
   "cell_type": "code",
   "execution_count": 104,
   "id": "6fe764d4",
   "metadata": {},
   "outputs": [],
   "source": [
    "df_final.to_csv(\"/Users/nikhilsanghi/Downloads/01_dsml-course-main-live/batches/1_Aug_Beg_Mon/14_Data_Visulisation_1_Pandas_6/New_folder/Pfizer_cleaned_1.csv\")"
   ]
  },
  {
   "cell_type": "code",
   "execution_count": null,
   "id": "007841c8",
   "metadata": {},
   "outputs": [],
   "source": [
    "/Users/nikhilsanghi/Downloads/01_dsml-course-main-live/batches/1_Aug_Beg_Mon/14_Data_Visulisation_1_Pandas_6/New_folder"
   ]
  },
  {
   "cell_type": "code",
   "execution_count": null,
   "id": "602bfa45",
   "metadata": {},
   "outputs": [],
   "source": []
  },
  {
   "cell_type": "code",
   "execution_count": 105,
   "id": "bee05220",
   "metadata": {},
   "outputs": [],
   "source": [
    "# pd.cut"
   ]
  },
  {
   "cell_type": "code",
   "execution_count": 107,
   "id": "410b758a",
   "metadata": {},
   "outputs": [
    {
     "data": {
      "text/html": [
       "<div>\n",
       "<style scoped>\n",
       "    .dataframe tbody tr th:only-of-type {\n",
       "        vertical-align: middle;\n",
       "    }\n",
       "\n",
       "    .dataframe tbody tr th {\n",
       "        vertical-align: top;\n",
       "    }\n",
       "\n",
       "    .dataframe thead th {\n",
       "        text-align: right;\n",
       "    }\n",
       "</style>\n",
       "<table border=\"1\" class=\"dataframe\">\n",
       "  <thead>\n",
       "    <tr style=\"text-align: right;\">\n",
       "      <th>Parameter</th>\n",
       "      <th>TimeStamp</th>\n",
       "      <th>Drug_Name</th>\n",
       "      <th>Pressure</th>\n",
       "      <th>Temperature</th>\n",
       "    </tr>\n",
       "  </thead>\n",
       "  <tbody>\n",
       "    <tr>\n",
       "      <th>0</th>\n",
       "      <td>2020-10-15 10:30:00</td>\n",
       "      <td>diltiazem hydrochloride</td>\n",
       "      <td>18.0</td>\n",
       "      <td>20.0</td>\n",
       "    </tr>\n",
       "    <tr>\n",
       "      <th>1</th>\n",
       "      <td>2020-10-15 11:30:00</td>\n",
       "      <td>diltiazem hydrochloride</td>\n",
       "      <td>19.0</td>\n",
       "      <td>20.0</td>\n",
       "    </tr>\n",
       "    <tr>\n",
       "      <th>2</th>\n",
       "      <td>2020-10-15 12:30:00</td>\n",
       "      <td>diltiazem hydrochloride</td>\n",
       "      <td>20.0</td>\n",
       "      <td>21.0</td>\n",
       "    </tr>\n",
       "    <tr>\n",
       "      <th>3</th>\n",
       "      <td>2020-10-15 01:30:00</td>\n",
       "      <td>diltiazem hydrochloride</td>\n",
       "      <td>12.0</td>\n",
       "      <td>23.0</td>\n",
       "    </tr>\n",
       "    <tr>\n",
       "      <th>4</th>\n",
       "      <td>2020-10-15 02:30:00</td>\n",
       "      <td>diltiazem hydrochloride</td>\n",
       "      <td>13.0</td>\n",
       "      <td>22.0</td>\n",
       "    </tr>\n",
       "    <tr>\n",
       "      <th>...</th>\n",
       "      <td>...</td>\n",
       "      <td>...</td>\n",
       "      <td>...</td>\n",
       "      <td>...</td>\n",
       "    </tr>\n",
       "    <tr>\n",
       "      <th>103</th>\n",
       "      <td>2020-10-17 05:30:00</td>\n",
       "      <td>ketamine hydrochloride</td>\n",
       "      <td>11.0</td>\n",
       "      <td>17.0</td>\n",
       "    </tr>\n",
       "    <tr>\n",
       "      <th>104</th>\n",
       "      <td>2020-10-17 06:30:00</td>\n",
       "      <td>ketamine hydrochloride</td>\n",
       "      <td>12.0</td>\n",
       "      <td>18.0</td>\n",
       "    </tr>\n",
       "    <tr>\n",
       "      <th>105</th>\n",
       "      <td>2020-10-17 07:30:00</td>\n",
       "      <td>ketamine hydrochloride</td>\n",
       "      <td>12.0</td>\n",
       "      <td>19.0</td>\n",
       "    </tr>\n",
       "    <tr>\n",
       "      <th>106</th>\n",
       "      <td>2020-10-17 08:30:00</td>\n",
       "      <td>ketamine hydrochloride</td>\n",
       "      <td>11.0</td>\n",
       "      <td>20.0</td>\n",
       "    </tr>\n",
       "    <tr>\n",
       "      <th>107</th>\n",
       "      <td>2020-10-17 09:30:00</td>\n",
       "      <td>ketamine hydrochloride</td>\n",
       "      <td>12.0</td>\n",
       "      <td>21.0</td>\n",
       "    </tr>\n",
       "  </tbody>\n",
       "</table>\n",
       "<p>108 rows × 4 columns</p>\n",
       "</div>"
      ],
      "text/plain": [
       "Parameter           TimeStamp                Drug_Name  Pressure  Temperature\n",
       "0         2020-10-15 10:30:00  diltiazem hydrochloride      18.0         20.0\n",
       "1         2020-10-15 11:30:00  diltiazem hydrochloride      19.0         20.0\n",
       "2         2020-10-15 12:30:00  diltiazem hydrochloride      20.0         21.0\n",
       "3         2020-10-15 01:30:00  diltiazem hydrochloride      12.0         23.0\n",
       "4         2020-10-15 02:30:00  diltiazem hydrochloride      13.0         22.0\n",
       "..                        ...                      ...       ...          ...\n",
       "103       2020-10-17 05:30:00   ketamine hydrochloride      11.0         17.0\n",
       "104       2020-10-17 06:30:00   ketamine hydrochloride      12.0         18.0\n",
       "105       2020-10-17 07:30:00   ketamine hydrochloride      12.0         19.0\n",
       "106       2020-10-17 08:30:00   ketamine hydrochloride      11.0         20.0\n",
       "107       2020-10-17 09:30:00   ketamine hydrochloride      12.0         21.0\n",
       "\n",
       "[108 rows x 4 columns]"
      ]
     },
     "execution_count": 107,
     "metadata": {},
     "output_type": "execute_result"
    }
   ],
   "source": [
    "df_final"
   ]
  },
  {
   "cell_type": "code",
   "execution_count": null,
   "id": "681c56ac",
   "metadata": {},
   "outputs": [],
   "source": []
  },
  {
   "cell_type": "code",
   "execution_count": 109,
   "id": "0f3c2280",
   "metadata": {},
   "outputs": [
    {
     "data": {
      "text/plain": [
       "58.0"
      ]
     },
     "execution_count": 109,
     "metadata": {},
     "output_type": "execute_result"
    }
   ],
   "source": [
    "df_final[\"Temperature\"].max()"
   ]
  },
  {
   "cell_type": "code",
   "execution_count": 110,
   "id": "d97047bd",
   "metadata": {},
   "outputs": [
    {
     "data": {
      "text/plain": [
       "8.0"
      ]
     },
     "execution_count": 110,
     "metadata": {},
     "output_type": "execute_result"
    }
   ],
   "source": [
    "df_final[\"Temperature\"].min()"
   ]
  },
  {
   "cell_type": "code",
   "execution_count": 120,
   "id": "c1762289",
   "metadata": {},
   "outputs": [],
   "source": [
    "temp_bins=[5,20,35,50,60]\n",
    "temp_labels=[\"low\",\"medium\",\"high\",\"very_high\"]\n",
    "df_final[\"Temp_Cat\"]=pd.cut(df_final[\"Temperature\"],\n",
    "                           bins=temp_bins,\n",
    "                           labels=temp_labels,\n",
    "                           right=True)"
   ]
  },
  {
   "cell_type": "code",
   "execution_count": 121,
   "id": "5d5e044b",
   "metadata": {},
   "outputs": [
    {
     "data": {
      "text/html": [
       "<div>\n",
       "<style scoped>\n",
       "    .dataframe tbody tr th:only-of-type {\n",
       "        vertical-align: middle;\n",
       "    }\n",
       "\n",
       "    .dataframe tbody tr th {\n",
       "        vertical-align: top;\n",
       "    }\n",
       "\n",
       "    .dataframe thead th {\n",
       "        text-align: right;\n",
       "    }\n",
       "</style>\n",
       "<table border=\"1\" class=\"dataframe\">\n",
       "  <thead>\n",
       "    <tr style=\"text-align: right;\">\n",
       "      <th>Parameter</th>\n",
       "      <th>TimeStamp</th>\n",
       "      <th>Drug_Name</th>\n",
       "      <th>Pressure</th>\n",
       "      <th>Temperature</th>\n",
       "      <th>Temp_Cat</th>\n",
       "    </tr>\n",
       "  </thead>\n",
       "  <tbody>\n",
       "    <tr>\n",
       "      <th>0</th>\n",
       "      <td>2020-10-15 10:30:00</td>\n",
       "      <td>diltiazem hydrochloride</td>\n",
       "      <td>18.0</td>\n",
       "      <td>20.0</td>\n",
       "      <td>low</td>\n",
       "    </tr>\n",
       "    <tr>\n",
       "      <th>1</th>\n",
       "      <td>2020-10-15 11:30:00</td>\n",
       "      <td>diltiazem hydrochloride</td>\n",
       "      <td>19.0</td>\n",
       "      <td>20.0</td>\n",
       "      <td>low</td>\n",
       "    </tr>\n",
       "    <tr>\n",
       "      <th>2</th>\n",
       "      <td>2020-10-15 12:30:00</td>\n",
       "      <td>diltiazem hydrochloride</td>\n",
       "      <td>20.0</td>\n",
       "      <td>21.0</td>\n",
       "      <td>medium</td>\n",
       "    </tr>\n",
       "    <tr>\n",
       "      <th>3</th>\n",
       "      <td>2020-10-15 01:30:00</td>\n",
       "      <td>diltiazem hydrochloride</td>\n",
       "      <td>12.0</td>\n",
       "      <td>23.0</td>\n",
       "      <td>medium</td>\n",
       "    </tr>\n",
       "    <tr>\n",
       "      <th>4</th>\n",
       "      <td>2020-10-15 02:30:00</td>\n",
       "      <td>diltiazem hydrochloride</td>\n",
       "      <td>13.0</td>\n",
       "      <td>22.0</td>\n",
       "      <td>medium</td>\n",
       "    </tr>\n",
       "    <tr>\n",
       "      <th>...</th>\n",
       "      <td>...</td>\n",
       "      <td>...</td>\n",
       "      <td>...</td>\n",
       "      <td>...</td>\n",
       "      <td>...</td>\n",
       "    </tr>\n",
       "    <tr>\n",
       "      <th>103</th>\n",
       "      <td>2020-10-17 05:30:00</td>\n",
       "      <td>ketamine hydrochloride</td>\n",
       "      <td>11.0</td>\n",
       "      <td>17.0</td>\n",
       "      <td>low</td>\n",
       "    </tr>\n",
       "    <tr>\n",
       "      <th>104</th>\n",
       "      <td>2020-10-17 06:30:00</td>\n",
       "      <td>ketamine hydrochloride</td>\n",
       "      <td>12.0</td>\n",
       "      <td>18.0</td>\n",
       "      <td>low</td>\n",
       "    </tr>\n",
       "    <tr>\n",
       "      <th>105</th>\n",
       "      <td>2020-10-17 07:30:00</td>\n",
       "      <td>ketamine hydrochloride</td>\n",
       "      <td>12.0</td>\n",
       "      <td>19.0</td>\n",
       "      <td>low</td>\n",
       "    </tr>\n",
       "    <tr>\n",
       "      <th>106</th>\n",
       "      <td>2020-10-17 08:30:00</td>\n",
       "      <td>ketamine hydrochloride</td>\n",
       "      <td>11.0</td>\n",
       "      <td>20.0</td>\n",
       "      <td>low</td>\n",
       "    </tr>\n",
       "    <tr>\n",
       "      <th>107</th>\n",
       "      <td>2020-10-17 09:30:00</td>\n",
       "      <td>ketamine hydrochloride</td>\n",
       "      <td>12.0</td>\n",
       "      <td>21.0</td>\n",
       "      <td>medium</td>\n",
       "    </tr>\n",
       "  </tbody>\n",
       "</table>\n",
       "<p>108 rows × 5 columns</p>\n",
       "</div>"
      ],
      "text/plain": [
       "Parameter           TimeStamp                Drug_Name  Pressure  Temperature  \\\n",
       "0         2020-10-15 10:30:00  diltiazem hydrochloride      18.0         20.0   \n",
       "1         2020-10-15 11:30:00  diltiazem hydrochloride      19.0         20.0   \n",
       "2         2020-10-15 12:30:00  diltiazem hydrochloride      20.0         21.0   \n",
       "3         2020-10-15 01:30:00  diltiazem hydrochloride      12.0         23.0   \n",
       "4         2020-10-15 02:30:00  diltiazem hydrochloride      13.0         22.0   \n",
       "..                        ...                      ...       ...          ...   \n",
       "103       2020-10-17 05:30:00   ketamine hydrochloride      11.0         17.0   \n",
       "104       2020-10-17 06:30:00   ketamine hydrochloride      12.0         18.0   \n",
       "105       2020-10-17 07:30:00   ketamine hydrochloride      12.0         19.0   \n",
       "106       2020-10-17 08:30:00   ketamine hydrochloride      11.0         20.0   \n",
       "107       2020-10-17 09:30:00   ketamine hydrochloride      12.0         21.0   \n",
       "\n",
       "Parameter Temp_Cat  \n",
       "0              low  \n",
       "1              low  \n",
       "2           medium  \n",
       "3           medium  \n",
       "4           medium  \n",
       "..             ...  \n",
       "103            low  \n",
       "104            low  \n",
       "105            low  \n",
       "106            low  \n",
       "107         medium  \n",
       "\n",
       "[108 rows x 5 columns]"
      ]
     },
     "execution_count": 121,
     "metadata": {},
     "output_type": "execute_result"
    }
   ],
   "source": [
    "df_final"
   ]
  },
  {
   "cell_type": "code",
   "execution_count": null,
   "id": "a1917513",
   "metadata": {},
   "outputs": [],
   "source": []
  },
  {
   "cell_type": "code",
   "execution_count": 134,
   "id": "e1e940c7",
   "metadata": {},
   "outputs": [
    {
     "data": {
      "text/plain": [
       "Date        Drug_Name              \n",
       "15-10-2020  diltiazem hydrochloride    16.000000\n",
       "            docetaxel injection        24.875000\n",
       "            ketamine hydrochloride      9.333333\n",
       "16-10-2020  diltiazem hydrochloride    22.545455\n",
       "            docetaxel injection        27.000000\n",
       "            ketamine hydrochloride     14.800000\n",
       "17-10-2020  diltiazem hydrochloride     7.727273\n",
       "            docetaxel injection        24.500000\n",
       "            ketamine hydrochloride     11.500000\n",
       "dtype: float64"
      ]
     },
     "execution_count": 134,
     "metadata": {},
     "output_type": "execute_result"
    }
   ],
   "source": [
    "df_final.groupby([\"Date\",\"Drug_Name\"])[\"Pressure\"].mean().unstack().stack()"
   ]
  },
  {
   "cell_type": "code",
   "execution_count": 139,
   "id": "3c16bb0a",
   "metadata": {},
   "outputs": [
    {
     "data": {
      "text/plain": [
       "array(['Temperature', 'Pressure'], dtype=object)"
      ]
     },
     "execution_count": 139,
     "metadata": {},
     "output_type": "execute_result"
    }
   ],
   "source": [
    "df[\"Parameter\"].unique()"
   ]
  },
  {
   "cell_type": "code",
   "execution_count": 140,
   "id": "d34ea7a8",
   "metadata": {},
   "outputs": [
    {
     "data": {
      "text/plain": [
       "array(['Temperature', 'Pressure'], dtype=object)"
      ]
     },
     "execution_count": 140,
     "metadata": {},
     "output_type": "execute_result"
    }
   ],
   "source": [
    "pd.unique(df[\"Parameter\"])"
   ]
  },
  {
   "cell_type": "code",
   "execution_count": 146,
   "id": "8ca6596b",
   "metadata": {},
   "outputs": [
    {
     "data": {
      "text/html": [
       "<div>\n",
       "<style scoped>\n",
       "    .dataframe tbody tr th:only-of-type {\n",
       "        vertical-align: middle;\n",
       "    }\n",
       "\n",
       "    .dataframe tbody tr th {\n",
       "        vertical-align: top;\n",
       "    }\n",
       "\n",
       "    .dataframe thead th {\n",
       "        text-align: right;\n",
       "    }\n",
       "</style>\n",
       "<table border=\"1\" class=\"dataframe\">\n",
       "  <thead>\n",
       "    <tr style=\"text-align: right;\">\n",
       "      <th>Parameter</th>\n",
       "      <th>Date</th>\n",
       "      <th>Drug_Name</th>\n",
       "      <th>Time</th>\n",
       "      <th>Pressure</th>\n",
       "      <th>Temperature</th>\n",
       "    </tr>\n",
       "  </thead>\n",
       "  <tbody>\n",
       "    <tr>\n",
       "      <th>0</th>\n",
       "      <td>15-10-2020</td>\n",
       "      <td>diltiazem hydrochloride</td>\n",
       "      <td>10:30:00</td>\n",
       "      <td>18.0</td>\n",
       "      <td>20.0</td>\n",
       "    </tr>\n",
       "    <tr>\n",
       "      <th>1</th>\n",
       "      <td>15-10-2020</td>\n",
       "      <td>diltiazem hydrochloride</td>\n",
       "      <td>11:30:00</td>\n",
       "      <td>19.0</td>\n",
       "      <td>20.0</td>\n",
       "    </tr>\n",
       "    <tr>\n",
       "      <th>2</th>\n",
       "      <td>15-10-2020</td>\n",
       "      <td>diltiazem hydrochloride</td>\n",
       "      <td>12:30:00</td>\n",
       "      <td>20.0</td>\n",
       "      <td>21.0</td>\n",
       "    </tr>\n",
       "    <tr>\n",
       "      <th>3</th>\n",
       "      <td>15-10-2020</td>\n",
       "      <td>diltiazem hydrochloride</td>\n",
       "      <td>1:30:00</td>\n",
       "      <td>12.0</td>\n",
       "      <td>23.0</td>\n",
       "    </tr>\n",
       "    <tr>\n",
       "      <th>4</th>\n",
       "      <td>15-10-2020</td>\n",
       "      <td>diltiazem hydrochloride</td>\n",
       "      <td>2:30:00</td>\n",
       "      <td>13.0</td>\n",
       "      <td>22.0</td>\n",
       "    </tr>\n",
       "    <tr>\n",
       "      <th>...</th>\n",
       "      <td>...</td>\n",
       "      <td>...</td>\n",
       "      <td>...</td>\n",
       "      <td>...</td>\n",
       "      <td>...</td>\n",
       "    </tr>\n",
       "    <tr>\n",
       "      <th>103</th>\n",
       "      <td>17-10-2020</td>\n",
       "      <td>ketamine hydrochloride</td>\n",
       "      <td>5:30:00</td>\n",
       "      <td>11.0</td>\n",
       "      <td>17.0</td>\n",
       "    </tr>\n",
       "    <tr>\n",
       "      <th>104</th>\n",
       "      <td>17-10-2020</td>\n",
       "      <td>ketamine hydrochloride</td>\n",
       "      <td>6:30:00</td>\n",
       "      <td>12.0</td>\n",
       "      <td>18.0</td>\n",
       "    </tr>\n",
       "    <tr>\n",
       "      <th>105</th>\n",
       "      <td>17-10-2020</td>\n",
       "      <td>ketamine hydrochloride</td>\n",
       "      <td>7:30:00</td>\n",
       "      <td>12.0</td>\n",
       "      <td>19.0</td>\n",
       "    </tr>\n",
       "    <tr>\n",
       "      <th>106</th>\n",
       "      <td>17-10-2020</td>\n",
       "      <td>ketamine hydrochloride</td>\n",
       "      <td>8:30:00</td>\n",
       "      <td>11.0</td>\n",
       "      <td>20.0</td>\n",
       "    </tr>\n",
       "    <tr>\n",
       "      <th>107</th>\n",
       "      <td>17-10-2020</td>\n",
       "      <td>ketamine hydrochloride</td>\n",
       "      <td>9:30:00</td>\n",
       "      <td>12.0</td>\n",
       "      <td>21.0</td>\n",
       "    </tr>\n",
       "  </tbody>\n",
       "</table>\n",
       "<p>108 rows × 5 columns</p>\n",
       "</div>"
      ],
      "text/plain": [
       "Parameter        Date                Drug_Name      Time  Pressure  \\\n",
       "0          15-10-2020  diltiazem hydrochloride  10:30:00      18.0   \n",
       "1          15-10-2020  diltiazem hydrochloride  11:30:00      19.0   \n",
       "2          15-10-2020  diltiazem hydrochloride  12:30:00      20.0   \n",
       "3          15-10-2020  diltiazem hydrochloride   1:30:00      12.0   \n",
       "4          15-10-2020  diltiazem hydrochloride   2:30:00      13.0   \n",
       "..                ...                      ...       ...       ...   \n",
       "103        17-10-2020   ketamine hydrochloride   5:30:00      11.0   \n",
       "104        17-10-2020   ketamine hydrochloride   6:30:00      12.0   \n",
       "105        17-10-2020   ketamine hydrochloride   7:30:00      12.0   \n",
       "106        17-10-2020   ketamine hydrochloride   8:30:00      11.0   \n",
       "107        17-10-2020   ketamine hydrochloride   9:30:00      12.0   \n",
       "\n",
       "Parameter  Temperature  \n",
       "0                 20.0  \n",
       "1                 20.0  \n",
       "2                 21.0  \n",
       "3                 23.0  \n",
       "4                 22.0  \n",
       "..                 ...  \n",
       "103               17.0  \n",
       "104               18.0  \n",
       "105               19.0  \n",
       "106               20.0  \n",
       "107               21.0  \n",
       "\n",
       "[108 rows x 5 columns]"
      ]
     },
     "execution_count": 146,
     "metadata": {},
     "output_type": "execute_result"
    }
   ],
   "source": [
    "df_final"
   ]
  },
  {
   "cell_type": "code",
   "execution_count": null,
   "id": "51885881",
   "metadata": {},
   "outputs": [],
   "source": [
    "np.sort(a)\n",
    "a.sort()"
   ]
  },
  {
   "cell_type": "code",
   "execution_count": 145,
   "id": "0bd02443",
   "metadata": {},
   "outputs": [],
   "source": [
    "pd.unique?"
   ]
  },
  {
   "cell_type": "code",
   "execution_count": 149,
   "id": "0f6a996f",
   "metadata": {},
   "outputs": [
    {
     "data": {
      "text/plain": [
       "array(['diltiazem hydrochloride', '15-10-2020', 'docetaxel injection',\n",
       "       'ketamine hydrochloride', '16-10-2020', '17-10-2020'], dtype=object)"
      ]
     },
     "execution_count": 149,
     "metadata": {},
     "output_type": "execute_result"
    }
   ],
   "source": [
    "pd.unique(df_final[[\"Drug_Name\",\"Date\"]].values.ravel())"
   ]
  },
  {
   "cell_type": "code",
   "execution_count": 150,
   "id": "53204e7f",
   "metadata": {},
   "outputs": [
    {
     "data": {
      "text/plain": [
       "array(['15-10-2020', '16-10-2020', '17-10-2020',\n",
       "       'diltiazem hydrochloride', 'docetaxel injection',\n",
       "       'ketamine hydrochloride'], dtype=object)"
      ]
     },
     "execution_count": 150,
     "metadata": {},
     "output_type": "execute_result"
    }
   ],
   "source": [
    "np.unique(df_final[[\"Drug_Name\",\"Date\"]])"
   ]
  },
  {
   "cell_type": "code",
   "execution_count": null,
   "id": "9c5aa069",
   "metadata": {},
   "outputs": [],
   "source": []
  },
  {
   "cell_type": "code",
   "execution_count": 156,
   "id": "6de9d558",
   "metadata": {},
   "outputs": [
    {
     "data": {
      "text/plain": [
       "array(['diltiazem hydrochloride', '15-10-2020', 'docetaxel injection',\n",
       "       'ketamine hydrochloride', '16-10-2020', '17-10-2020'], dtype=object)"
      ]
     },
     "execution_count": 156,
     "metadata": {},
     "output_type": "execute_result"
    }
   ],
   "source": [
    "pd.unique(df_final[[\"Drug_Name\",\"Date\"]].values.flatten())"
   ]
  },
  {
   "cell_type": "code",
   "execution_count": 154,
   "id": "1e12fab3",
   "metadata": {},
   "outputs": [
    {
     "data": {
      "text/plain": [
       "array(['diltiazem hydrochloride', '15-10-2020', 'diltiazem hydrochloride',\n",
       "       '15-10-2020', 'diltiazem hydrochloride', '15-10-2020',\n",
       "       'diltiazem hydrochloride', '15-10-2020', 'diltiazem hydrochloride',\n",
       "       '15-10-2020', 'diltiazem hydrochloride', '15-10-2020',\n",
       "       'diltiazem hydrochloride', '15-10-2020', 'diltiazem hydrochloride',\n",
       "       '15-10-2020', 'diltiazem hydrochloride', '15-10-2020',\n",
       "       'diltiazem hydrochloride', '15-10-2020', 'diltiazem hydrochloride',\n",
       "       '15-10-2020', 'diltiazem hydrochloride', '15-10-2020',\n",
       "       'docetaxel injection', '15-10-2020', 'docetaxel injection',\n",
       "       '15-10-2020', 'docetaxel injection', '15-10-2020',\n",
       "       'docetaxel injection', '15-10-2020', 'docetaxel injection',\n",
       "       '15-10-2020', 'docetaxel injection', '15-10-2020',\n",
       "       'docetaxel injection', '15-10-2020', 'docetaxel injection',\n",
       "       '15-10-2020', 'docetaxel injection', '15-10-2020',\n",
       "       'docetaxel injection', '15-10-2020', 'docetaxel injection',\n",
       "       '15-10-2020', 'docetaxel injection', '15-10-2020',\n",
       "       'ketamine hydrochloride', '15-10-2020', 'ketamine hydrochloride',\n",
       "       '15-10-2020', 'ketamine hydrochloride', '15-10-2020',\n",
       "       'ketamine hydrochloride', '15-10-2020', 'ketamine hydrochloride',\n",
       "       '15-10-2020', 'ketamine hydrochloride', '15-10-2020',\n",
       "       'ketamine hydrochloride', '15-10-2020', 'ketamine hydrochloride',\n",
       "       '15-10-2020', 'ketamine hydrochloride', '15-10-2020',\n",
       "       'ketamine hydrochloride', '15-10-2020', 'ketamine hydrochloride',\n",
       "       '15-10-2020', 'ketamine hydrochloride', '15-10-2020',\n",
       "       'diltiazem hydrochloride', '16-10-2020', 'diltiazem hydrochloride',\n",
       "       '16-10-2020', 'diltiazem hydrochloride', '16-10-2020',\n",
       "       'diltiazem hydrochloride', '16-10-2020', 'diltiazem hydrochloride',\n",
       "       '16-10-2020', 'diltiazem hydrochloride', '16-10-2020',\n",
       "       'diltiazem hydrochloride', '16-10-2020', 'diltiazem hydrochloride',\n",
       "       '16-10-2020', 'diltiazem hydrochloride', '16-10-2020',\n",
       "       'diltiazem hydrochloride', '16-10-2020', 'diltiazem hydrochloride',\n",
       "       '16-10-2020', 'diltiazem hydrochloride', '16-10-2020',\n",
       "       'docetaxel injection', '16-10-2020', 'docetaxel injection',\n",
       "       '16-10-2020', 'docetaxel injection', '16-10-2020',\n",
       "       'docetaxel injection', '16-10-2020', 'docetaxel injection',\n",
       "       '16-10-2020', 'docetaxel injection', '16-10-2020',\n",
       "       'docetaxel injection', '16-10-2020', 'docetaxel injection',\n",
       "       '16-10-2020', 'docetaxel injection', '16-10-2020',\n",
       "       'docetaxel injection', '16-10-2020', 'docetaxel injection',\n",
       "       '16-10-2020', 'docetaxel injection', '16-10-2020',\n",
       "       'ketamine hydrochloride', '16-10-2020', 'ketamine hydrochloride',\n",
       "       '16-10-2020', 'ketamine hydrochloride', '16-10-2020',\n",
       "       'ketamine hydrochloride', '16-10-2020', 'ketamine hydrochloride',\n",
       "       '16-10-2020', 'ketamine hydrochloride', '16-10-2020',\n",
       "       'ketamine hydrochloride', '16-10-2020', 'ketamine hydrochloride',\n",
       "       '16-10-2020', 'ketamine hydrochloride', '16-10-2020',\n",
       "       'ketamine hydrochloride', '16-10-2020', 'ketamine hydrochloride',\n",
       "       '16-10-2020', 'ketamine hydrochloride', '16-10-2020',\n",
       "       'diltiazem hydrochloride', '17-10-2020', 'diltiazem hydrochloride',\n",
       "       '17-10-2020', 'diltiazem hydrochloride', '17-10-2020',\n",
       "       'diltiazem hydrochloride', '17-10-2020', 'diltiazem hydrochloride',\n",
       "       '17-10-2020', 'diltiazem hydrochloride', '17-10-2020',\n",
       "       'diltiazem hydrochloride', '17-10-2020', 'diltiazem hydrochloride',\n",
       "       '17-10-2020', 'diltiazem hydrochloride', '17-10-2020',\n",
       "       'diltiazem hydrochloride', '17-10-2020', 'diltiazem hydrochloride',\n",
       "       '17-10-2020', 'diltiazem hydrochloride', '17-10-2020',\n",
       "       'docetaxel injection', '17-10-2020', 'docetaxel injection',\n",
       "       '17-10-2020', 'docetaxel injection', '17-10-2020',\n",
       "       'docetaxel injection', '17-10-2020', 'docetaxel injection',\n",
       "       '17-10-2020', 'docetaxel injection', '17-10-2020',\n",
       "       'docetaxel injection', '17-10-2020', 'docetaxel injection',\n",
       "       '17-10-2020', 'docetaxel injection', '17-10-2020',\n",
       "       'docetaxel injection', '17-10-2020', 'docetaxel injection',\n",
       "       '17-10-2020', 'docetaxel injection', '17-10-2020',\n",
       "       'ketamine hydrochloride', '17-10-2020', 'ketamine hydrochloride',\n",
       "       '17-10-2020', 'ketamine hydrochloride', '17-10-2020',\n",
       "       'ketamine hydrochloride', '17-10-2020', 'ketamine hydrochloride',\n",
       "       '17-10-2020', 'ketamine hydrochloride', '17-10-2020',\n",
       "       'ketamine hydrochloride', '17-10-2020', 'ketamine hydrochloride',\n",
       "       '17-10-2020', 'ketamine hydrochloride', '17-10-2020',\n",
       "       'ketamine hydrochloride', '17-10-2020', 'ketamine hydrochloride',\n",
       "       '17-10-2020', 'ketamine hydrochloride', '17-10-2020'], dtype=object)"
      ]
     },
     "execution_count": 154,
     "metadata": {},
     "output_type": "execute_result"
    }
   ],
   "source": [
    "df_final[[\"Drug_Name\",\"Date\"]].values.flatten()"
   ]
  },
  {
   "cell_type": "code",
   "execution_count": null,
   "id": "ddb60508",
   "metadata": {},
   "outputs": [],
   "source": []
  }
 ],
 "metadata": {
  "kernelspec": {
   "display_name": "Python 3 (ipykernel)",
   "language": "python",
   "name": "python3"
  },
  "language_info": {
   "codemirror_mode": {
    "name": "ipython",
    "version": 3
   },
   "file_extension": ".py",
   "mimetype": "text/x-python",
   "name": "python",
   "nbconvert_exporter": "python",
   "pygments_lexer": "ipython3",
   "version": "3.9.7"
  },
  "varInspector": {
   "cols": {
    "lenName": 16,
    "lenType": 16,
    "lenVar": 40
   },
   "kernels_config": {
    "python": {
     "delete_cmd_postfix": "",
     "delete_cmd_prefix": "del ",
     "library": "var_list.py",
     "varRefreshCmd": "print(var_dic_list())"
    },
    "r": {
     "delete_cmd_postfix": ") ",
     "delete_cmd_prefix": "rm(",
     "library": "var_list.r",
     "varRefreshCmd": "cat(var_dic_list()) "
    }
   },
   "types_to_exclude": [
    "module",
    "function",
    "builtin_function_or_method",
    "instance",
    "_Feature"
   ],
   "window_display": false
  }
 },
 "nbformat": 4,
 "nbformat_minor": 5
}
