{
 "cells": [
  {
   "cell_type": "code",
   "execution_count": 4,
   "metadata": {},
   "outputs": [],
   "source": [
    "import numpy as np"
   ]
  },
  {
   "cell_type": "code",
   "execution_count": 5,
   "metadata": {},
   "outputs": [
    {
     "name": "stdout",
     "output_type": "stream",
     "text": [
      "[ 3  1  2 10  2  2  2  1  4  6]\n",
      "[3, 1, 2, 10, 2, 2, 2, 1, 4, 6]\n",
      "[3, 1, 2, 10, 2, 2, 2, 1, 4, 6]\n"
     ]
    }
   ],
   "source": [
    "# D28 - Q1: Which of the following option(s) can add 1 to each element of array A?\n",
    "\n",
    "A = np.array([2, 0, 1, 9, 1, 1, 1, 0, 3, 5])\n",
    "\n",
    "print(A + 1)\n",
    "print(list(map(lambda x:x+1, A)))\n",
    "print([x+1 for x in A])"
   ]
  },
  {
   "cell_type": "code",
   "execution_count": 6,
   "metadata": {},
   "outputs": [],
   "source": [
    "# D28 - Q2: Given an array, return the shape and dimension of the array.\n",
    "\n",
    "import numpy as np\n",
    "\n",
    "def get_array_properties(arr):\n",
    "    '''\n",
    "    INPUT: arr -> A nD array\n",
    "    OUTPUT: result -> tuple consisting of shape and dimension\n",
    "    '''\n",
    "    \n",
    "    ## STEP 1. Get the shape of array\n",
    "    shape = arr.shape\n",
    "    \n",
    "    ## STEP 2. Get the dimension of array\n",
    "    dim = arr.ndim\n",
    "    \n",
    "    return shape,dim"
   ]
  },
  {
   "cell_type": "code",
   "execution_count": 7,
   "metadata": {},
   "outputs": [
    {
     "name": "stdout",
     "output_type": "stream",
     "text": [
      "[22 24 26 28 30 32 34 36 38 40 42 44 46 48 50 52 54 56 58 60 62 64 66 68\n",
      " 70]\n",
      "[21 23 25 27 29 31 33 35 37 39 41 43 45 47 49 51 53 55 57 59 61 63 65 67\n",
      " 69 71]\n"
     ]
    }
   ],
   "source": [
    "# D28 - Q3: Which options correctly answer questions a and b?\n",
    "# a. Write the code using np.arange() to get all even numbers between 21 and 70, (70 inclusive)\n",
    "# b. Write the code using np.arange() to get all odd numbers between 20 and 71. (71 inclusive)\n",
    "\n",
    "# a =>\n",
    "print(np.arange(22, 71, 2))\n",
    "\n",
    "# b =>\n",
    "print(np.arange(21, 72, 2))"
   ]
  },
  {
   "cell_type": "code",
   "execution_count": 8,
   "metadata": {},
   "outputs": [
    {
     "data": {
      "text/plain": [
       "array([5. , 5.5, 6. , 6.5])"
      ]
     },
     "execution_count": 8,
     "metadata": {},
     "output_type": "execute_result"
    }
   ],
   "source": [
    "# D28 - Q4: Given the start, end, and the stepsize return a numpy array sequence in given range with the specified stepsize.\n",
    "\n",
    "def create_seq(start, end, step):\n",
    "    '''\n",
    "    INPUT: start, end, step \n",
    "    OUTPUT: arr -> 1D numpy array\n",
    "    '''\n",
    "    \n",
    "    arr = np.round(np.arange(start, end, step), 2)\n",
    "\n",
    "    return arr\n",
    "\n",
    "create_seq(5, 7, 0.5)"
   ]
  },
  {
   "cell_type": "code",
   "execution_count": 9,
   "metadata": {},
   "outputs": [
    {
     "data": {
      "text/plain": [
       "array([ 5,  8, 11, 14, 17, 20, 23, 26, 29, 32])"
      ]
     },
     "execution_count": 9,
     "metadata": {},
     "output_type": "execute_result"
    }
   ],
   "source": [
    "# D28 - Q5: Create a sequence of a given length from a given start point, where the difference between 2 consecutive elements of the expected sequence is also given as step.\n",
    "\n",
    "def seq(start, length, step):\n",
    "    ''' start, length and step are in form of integers all representing the attributes as their names suggest\n",
    "        output -> A numpy array is expected to be returned'''\n",
    "\n",
    "    # YOUR CODE GOES HERE \n",
    "    sequence = np.array([start + (i * step) for i in range(length)])\n",
    "    \n",
    "    return sequence\n",
    "\n",
    "seq(5, 10, 3)"
   ]
  },
  {
   "cell_type": "code",
   "execution_count": 10,
   "metadata": {},
   "outputs": [],
   "source": [
    "# D29 - Q1: Given a 1D array, return the first and last elements from the array.\n",
    "\n",
    "def get_elements(arr):\n",
    "    '''\n",
    "    INPUT: arr -> 1D numpy array\n",
    "    OUTPUT elements -> tuple of first and last element.\n",
    "    '''\n",
    "    \n",
    "    first_element = arr[0]\n",
    "    last_element = arr[-1]\n",
    "    \n",
    "    return (first_element, last_element)"
   ]
  },
  {
   "cell_type": "code",
   "execution_count": 11,
   "metadata": {},
   "outputs": [],
   "source": [
    "# D29 - Q2: Given an array of marks, return the array only containing elements with marks > 40\n",
    "\n",
    "def filter_marks(marks):\n",
    "    '''\n",
    "    INPUT: marks -> 1D array\n",
    "    OUTPUT: filtered_marks -> 1D array\n",
    "    '''\n",
    "    \n",
    "    ### Step 1 Get the mask for marks > 40\n",
    "    mask = marks > 40\n",
    "    \n",
    "    ### STEP 2 use the mask to filter the array\n",
    "    filtered_array = marks[mask]\n",
    "    \n",
    "    return filtered_array"
   ]
  },
  {
   "cell_type": "code",
   "execution_count": 15,
   "metadata": {},
   "outputs": [
    {
     "data": {
      "text/plain": [
       "array([  5,  -9,  20,  25,   3,  -5,  16, -10,  -8])"
      ]
     },
     "execution_count": 15,
     "metadata": {},
     "output_type": "execute_result"
    }
   ],
   "source": [
    "# D29 - Q3: Which option is right about the output of the following code snippet?\n",
    "\n",
    "x = np.array([-5, 9 , 20 , 25, -3, 5, 16, 10,-8])\n",
    "x[(x >= -5) & (x <= 15)] *= -1 \n",
    "x"
   ]
  },
  {
   "cell_type": "code",
   "execution_count": 22,
   "metadata": {},
   "outputs": [
    {
     "data": {
      "text/plain": [
       "array([0.12, 0.27, 0.5 , 0.73, 0.88])"
      ]
     },
     "execution_count": 22,
     "metadata": {},
     "output_type": "execute_result"
    }
   ],
   "source": [
    "# D29 - Q4: Given a NumPy array of integer elements, write a program that calculates the sigmoid value of each of those elements and returns these sigmoid values rounded up to 2 decimal places in a NumPy array.\n",
    "# The value of sigmoid function for an element x is:\n",
    "\n",
    "arr = np.array([-2, -1, 0, 1, 2])\n",
    "z = np.exp(-arr)\n",
    "denom = 1 + z    \n",
    "result = 1 / denom\n",
    "result = np.round_(result, 2)\n",
    "result\n",
    " "
   ]
  },
  {
   "attachments": {
    "image.png": {
     "image/png": "[encoded data removed]"
    }
   },
   "cell_type": "markdown",
   "metadata": {},
   "source": [
    "![image.png](attachment:image.png)"
   ]
  },
  {
   "cell_type": "code",
   "execution_count": 29,
   "metadata": {},
   "outputs": [],
   "source": [
    "# D29 - Q5: Gunjan is working on a swap of drones that can perform light shows.\n",
    "# For that, she is maintaining a list of the height of each drone and is updating that for each step.\n",
    "# Height = [h1,h2,h3………hn] # height of each drone\n",
    "# Delta_h = [d1,d2,d3……dn] # change in height of each drone\n",
    "# For each second she updates the Height array by adding the corresponding change to the height.\n",
    "# For that, she tried out 2 methods as listed below. Help her in arranging them in ascending order of time.\n",
    "\n",
    "# numpy method\n",
    "def update_height_np(height,delta):\n",
    "    height = np.array(height)\n",
    "    delta = np.array(delta)\n",
    "    new_height = height+delta\n",
    "    return new_height\n",
    "\n",
    "# python method\n",
    "def update_height_py(height, delta):\n",
    "    new_height=[]\n",
    "\n",
    "    for i in range(len(height)):\n",
    "        new_height.append(height[i]+delta[i])\n",
    "\n",
    "    return new_height"
   ]
  },
  {
   "cell_type": "code",
   "execution_count": 30,
   "metadata": {},
   "outputs": [
    {
     "name": "stdout",
     "output_type": "stream",
     "text": [
      "1.54 µs ± 22.6 ns per loop (mean ± std. dev. of 7 runs, 1000000 loops each)\n",
      "562 ns ± 2.05 ns per loop (mean ± std. dev. of 7 runs, 1000000 loops each)\n"
     ]
    }
   ],
   "source": [
    "%timeit update_height_np([1, 2, 3, 4], [2, 3, 4, 5])\n",
    "%timeit update_height_py([1, 2, 3, 4], [2, 3, 4, 5])"
   ]
  },
  {
   "cell_type": "code",
   "execution_count": 32,
   "metadata": {},
   "outputs": [],
   "source": [
    "# D29 - Q6: Given two NumPy arrays 'A' and 'B', calculate the Mean Squared Error for these arrays up to 2 decimal places.\n",
    "# MSE is defined as follows:\n",
    "\n",
    "def mse(A,B):\n",
    "    '''A,B -> Numpy arrays\n",
    "       output -> A float rounded up to 2 decimal points should be returned'''\n",
    "    \n",
    "    ### STEP 1. Calculate difference between elements of A and B\n",
    "    diff = A - B\n",
    "    \n",
    "    ## STEP 2: Take square of difference\n",
    "    sq_diff = diff**2\n",
    "    \n",
    "    ## STEP3 : Take mean of squared difference\n",
    "    mean_sq_diff = np.mean(sq_diff)\n",
    "    \n",
    "    ## STEP 4 : Round off values to 2 decimal places.\n",
    "    mean_sq_diff = np.round_(mean_sq_diff, 2)\n",
    "    \n",
    "    return mean_sq_diff\n"
   ]
  },
  {
   "attachments": {
    "image.png": {
     "image/png": "[encoded data removed]"
    }
   },
   "cell_type": "markdown",
   "metadata": {},
   "source": [
    "![image.png](attachment:image.png)"
   ]
  },
  {
   "cell_type": "code",
   "execution_count": 34,
   "metadata": {},
   "outputs": [
    {
     "name": "stdout",
     "output_type": "stream",
     "text": [
      "Ram\n"
     ]
    },
    {
     "data": {
      "text/plain": [
       "array([False, False, False])"
      ]
     },
     "execution_count": 34,
     "metadata": {},
     "output_type": "execute_result"
    }
   ],
   "source": [
    "# D29 - Q7: \n",
    "# A. What is the last element of the output?\n",
    "import numpy as np\n",
    "print(np.sort(np.array(['Ram','Astha','Raghavendra']))[-1])\n",
    "# B. What is the output of the code snippet given below?\n",
    "arr1 = np.array(['Ram','Astha','Brahat'])\n",
    "arr2 = np.array(['Shyam','Kalyan','Naveen'])\n",
    "arr1 > arr2"
   ]
  },
  {
   "cell_type": "code",
   "execution_count": 35,
   "metadata": {},
   "outputs": [
    {
     "name": "stdout",
     "output_type": "stream",
     "text": [
      "[False  True False  True]\n"
     ]
    }
   ],
   "source": [
    "# D29 - Q8: What will be the output of the following code?\n",
    "\n",
    "a = np.array([100, 200, 300, 400])\n",
    "b = np.array([300, 200, 100, 400])\n",
    "\n",
    "print(a == b)"
   ]
  },
  {
   "cell_type": "code",
   "execution_count": 53,
   "metadata": {},
   "outputs": [],
   "source": [
    "# D29 - Q9: Given a list of birds and their corresponding age, calculate the mean age of the Crane bird (rounded off to 2 decimal points)\n",
    "\n",
    "birds = np.array(['spoonbills',  'plovers',  'plovers',  'plovers',  'plovers',  'Cranes',  'plovers',  'plovers',  'Cranes',  'spoonbills'])\n",
    "age = np.array([5.5, 6.0, 3.5, 1.5, 3.0, 4.0, 3.5, 2.0, 5.5, 6.0])\n",
    "\n",
    "def calculate_mean_age(birds, age):\n",
    "    '''\n",
    "    INPUT: birds, age -> 1D array\n",
    "    OUPUT: mean_age -> float variable\n",
    "    '''\n",
    "    \n",
    "    mean_age = None\n",
    "    \n",
    "    ## STEP1. Create mask to get Crane birds from birds array\n",
    "    mask = birds == 'Cranes'\n",
    "    \n",
    "    ## STEP2. Get the age of crane birds\n",
    "    crane_ages = age[mask]\n",
    "    \n",
    "    ## STEP 3. Calculate mean age of crane birds\n",
    "    mean_age = np.mean(crane_ages)\n",
    "    \n",
    "    ## STEP 4. Round off the mean age to 2 decimal points\n",
    "    mean_age = np.round_(mean_age, 2)\n",
    "    \n",
    "    return mean_age"
   ]
  },
  {
   "cell_type": "code",
   "execution_count": 16,
   "metadata": {},
   "outputs": [
    {
     "data": {
      "text/plain": [
       "array([[7, 4, 1],\n",
       "       [8, 5, 2],\n",
       "       [9, 6, 3]])"
      ]
     },
     "execution_count": 16,
     "metadata": {},
     "output_type": "execute_result"
    }
   ],
   "source": [
    "# D30 - Q1: Given an array in form of a matrix of size (n, n), rotate the matrix clockwise by 90º.\n",
    "\n",
    "a = np.array([[1, 2, 3], [4, 5, 6], [7, 8, 9]])\n",
    "\n",
    "a.T[::, ::-1]"
   ]
  },
  {
   "cell_type": "code",
   "execution_count": 20,
   "metadata": {},
   "outputs": [
    {
     "data": {
      "text/plain": [
       "array([1, 2, 3, 7, 8, 9])"
      ]
     },
     "execution_count": 20,
     "metadata": {},
     "output_type": "execute_result"
    }
   ],
   "source": [
    "# D30 - Q2: Given a M x N array, Perform the following operations:\n",
    "# 1. Get the odd rows from the array i.e. 1st, 3rd, 5th etc..\n",
    "# 2. Convert the above result into 1D array and return it.\n",
    "\n",
    "a = np.array([[1, 2, 3], [4, 5, 6], [7, 8, 9]])\n",
    "a[::2, ::].flatten()"
   ]
  },
  {
   "cell_type": "code",
   "execution_count": 22,
   "metadata": {},
   "outputs": [
    {
     "data": {
      "text/plain": [
       "array([[3, 2, 1],\n",
       "       [6, 5, 4],\n",
       "       [9, 8, 7]])"
      ]
     },
     "execution_count": 22,
     "metadata": {},
     "output_type": "execute_result"
    }
   ],
   "source": [
    "# D30 - Q3: Given a 2D numpy array, return array with its values in the column reversed.\n",
    "\n",
    "a = np.array([[1, 2, 3], [4, 5, 6], [7, 8, 9]])\n",
    "a[::, ::-1]"
   ]
  },
  {
   "cell_type": "code",
   "execution_count": 33,
   "metadata": {},
   "outputs": [
    {
     "data": {
      "text/plain": [
       "array(['plovers', 'plovers', 'plovers', 'plovers', 'plovers', 'Cranes',\n",
       "       'spoonbills', 'Cranes', 'plovers', 'spoonbills'], dtype='<U10')"
      ]
     },
     "execution_count": 33,
     "metadata": {},
     "output_type": "execute_result"
    }
   ],
   "source": [
    "# D31 - Q1: Given a list of birds and their corresponding age, return the name of birds sorted according to age (ascending)\n",
    "\n",
    "birds = np.array(['spoonbills',  'plovers',  'plovers',  'plovers',  'plovers',  'Cranes',  'plovers',  'plovers',  'Cranes',  'spoonbills'])\n",
    "age = np.array([5.5, 6.0, 3.5, 1.5, 3.0, 4.0, 3.5, 2.0, 5.5, 6.0])\n",
    "\n",
    "birds[np.argsort(age)]\n"
   ]
  },
  {
   "cell_type": "code",
   "execution_count": 50,
   "metadata": {},
   "outputs": [
    {
     "data": {
      "text/plain": [
       "array([[13, 14, 15],\n",
       "       [ 9, 10, 11],\n",
       "       [ 5,  6,  7]])"
      ]
     },
     "execution_count": 50,
     "metadata": {},
     "output_type": "execute_result"
    }
   ],
   "source": [
    "# D31 - Q2: Given a 2d array, write a program to return a subarray such that the subarray consists of the elements from:\n",
    "# 1. the second to the fourth row of the original array,\n",
    "# 2. the elements in these rows should be from the last three columns of the corresponding rows of the original array,\n",
    "# 3. the rows should be in reversed order.\n",
    "\n",
    "a = np.array([[ 0,  1,  2,  3], [ 4,  5,  6,  7],    [ 8,  9, 10, 11],    [12, 13, 14, 15],    [16, 17, 18, 19]])\n",
    "\n",
    "b = a[1:4:1, -3::]\n",
    "b[::-1]"
   ]
  },
  {
   "cell_type": "code",
   "execution_count": 64,
   "metadata": {},
   "outputs": [
    {
     "data": {
      "text/plain": [
       "array([[4, 8, 8],\n",
       "       [0, 6, 0],\n",
       "       [2, 4, 2]])"
      ]
     },
     "execution_count": 64,
     "metadata": {},
     "output_type": "execute_result"
    }
   ],
   "source": [
    "# D31 - Q3: Given a NumPy matrix of shape (n, n), remove all the odd elements from the matrix and return a new matrix of shape (k, k) consisting of all the remaining even elements from the original matrix.\n",
    "\n",
    "a = np.array([[ 7, 4, 8, 5, 1], [ 8, 0, 11, 3, 5], [ 9, 6, 3, 5, 0], [ 1, 5, 7, 3, 2], [ 4, 7, 2, 9, 1]])\n",
    "new_mat = a[a % 2 == 0]\n",
    "new_len = new_mat.size\n",
    "\n",
    "new_mat.reshape((int(np.sqrt(new_len)), int(np.sqrt(new_len))))"
   ]
  },
  {
   "cell_type": "code",
   "execution_count": 71,
   "metadata": {},
   "outputs": [
    {
     "data": {
      "text/plain": [
       "[0, 4, 8]"
      ]
     },
     "execution_count": 71,
     "metadata": {},
     "output_type": "execute_result"
    }
   ],
   "source": [
    "# D31 - Q4: Given the 2-D array X,\n",
    "\n",
    "X = np.arange(12).reshape(3,4)\n",
    "\n",
    "X.max(axis=1)\n",
    "X.sum()\n",
    "X.T.max(axis=0)\n",
    "[i.min() for i in X]"
   ]
  },
  {
   "cell_type": "code",
   "execution_count": 5,
   "metadata": {},
   "outputs": [
    {
     "data": {
      "text/plain": [
       "True"
      ]
     },
     "execution_count": 5,
     "metadata": {},
     "output_type": "execute_result"
    }
   ],
   "source": [
    "# D31 - Q5: In the below code, 'condition' implies the situation that arr has at least one value smaller than or equal to 0.6. Which option is true wrt the code and condition?\n",
    "\n",
    "arr = 2*np.arange(0,2,0.5)\n",
    "np.any(arr <= 0.6)"
   ]
  },
  {
   "cell_type": "code",
   "execution_count": 18,
   "metadata": {},
   "outputs": [
    {
     "data": {
      "text/plain": [
       "array([4], dtype=int64)"
      ]
     },
     "execution_count": 18,
     "metadata": {},
     "output_type": "execute_result"
    }
   ],
   "source": [
    "# D31 - Q6: Given a NumPy array, return the index of the first element that is greater than the target passed as an argument.\n",
    "# Return -1, if there isn't any element greater than the target.\n",
    "\n",
    "arr = np.array([-1,2,3,-4,5,6])\n",
    "target = 3\n",
    "\n",
    "-1 if np.all(arr[arr > target] == False) else np.argwhere(arr > target)[0]"
   ]
  },
  {
   "cell_type": "code",
   "execution_count": 5,
   "metadata": {},
   "outputs": [
    {
     "data": {
      "text/plain": [
       "array([[2, 1, 4],\n",
       "       [5, 3, 9],\n",
       "       [7, 6, 8]])"
      ]
     },
     "execution_count": 5,
     "metadata": {},
     "output_type": "execute_result"
    }
   ],
   "source": [
    "# D31 - Q7: You are a Teaching Assistant of the DSML course. You have access to every student’s marks in every quiz. The marks are stored in a matrix where matrix[i][j] represents the marks of the ith student in the jth quiz.\n",
    "# The course instructor wants you to sort the marks of students according to jth quiz in increasing order so that he can evaluate the performance of students in that particular quiz.\n",
    "# Here, you have to create a python program using which the instructor can sort the data on the basis of a given column(quiz). The program will return the matrix with the marks sorted in jth quiz.\n",
    "# The dimension of the input matrix is m× n, the output is expected to be a 2d numpy matrix of dimension mxn, but in the output the jth column must be arranged in the ascending order.\n",
    "# Note: The input will be 2D list not array. First convert it to array.\n",
    "\n",
    "a = np.array([[5, 3, 9], [2, 1, 4], [7, 6, 8]])\n",
    "a[a[:, 1].argsort()]"
   ]
  },
  {
   "cell_type": "code",
   "execution_count": 8,
   "metadata": {},
   "outputs": [
    {
     "data": {
      "text/plain": [
       "'parrot'"
      ]
     },
     "execution_count": 8,
     "metadata": {},
     "output_type": "execute_result"
    }
   ],
   "source": [
    "# D32 - Q1: Given a array of bird names and another array with corresponding ages of the birds, find the name of the oldest bird in the list.\n",
    "\n",
    "b = np.array(['sparrow', 'peacock', 'parrot', 'owl', 'peacock', 'macaw', 'macaw', 'parrot', 'macaw', 'peacock'])  \n",
    "a = np.array([6, 1, 6, 5, 7, 6, 0, 9, 0, 7])\n",
    "\n",
    "b[np.argmax(a)]\n"
   ]
  },
  {
   "cell_type": "code",
   "execution_count": 10,
   "metadata": {},
   "outputs": [
    {
     "data": {
      "text/plain": [
       "array([[ 9, 10, 11],\n",
       "       [12, 13, 14],\n",
       "       [15, 16, 17]])"
      ]
     },
     "execution_count": 10,
     "metadata": {},
     "output_type": "execute_result"
    }
   ],
   "source": [
    "# D32 - Q2: Given a 3D array of shape (2, 3, 3)\n",
    "\n",
    "a = np.array([[[ 0, 1, 2], [ 3, 4, 5], [ 6, 7, 8]], [[ 9, 10, 11], [12, 13, 14], [15, 16, 17]]])\n",
    "a[1,:,:]"
   ]
  },
  {
   "cell_type": "code",
   "execution_count": 12,
   "metadata": {},
   "outputs": [
    {
     "data": {
      "text/plain": [
       "array([[[0],\n",
       "        [2]],\n",
       "\n",
       "       [[4],\n",
       "        [6]]])"
      ]
     },
     "execution_count": 12,
     "metadata": {},
     "output_type": "execute_result"
    }
   ],
   "source": [
    "# D32 - Q3: Given a 3D of shape (2,2,2)\n",
    "\n",
    "arr = np.array([[[0, 1], [2, 3]], [[4, 5], [6, 7]]])\n",
    "arr[:, 0:, :1]"
   ]
  },
  {
   "cell_type": "code",
   "execution_count": null,
   "metadata": {},
   "outputs": [],
   "source": []
  }
 ],
 "metadata": {
  "kernelspec": {
   "display_name": "base",
   "language": "python",
   "name": "python3"
  },
  "language_info": {
   "codemirror_mode": {
    "name": "ipython",
    "version": 3
   },
   "file_extension": ".py",
   "mimetype": "text/x-python",
   "name": "python",
   "nbconvert_exporter": "python",
   "pygments_lexer": "ipython3",
   "version": "3.9.13"
  },
  "orig_nbformat": 4
 },
 "nbformat": 4,
 "nbformat_minor": 2
}
