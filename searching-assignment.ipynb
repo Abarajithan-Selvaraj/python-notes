{
 "cells": [
  {
   "cell_type": "code",
   "execution_count": 8,
   "metadata": {},
   "outputs": [
    {
     "name": "stdout",
     "output_type": "stream",
     "text": [
      "Found the required character at position:  1\n"
     ]
    }
   ],
   "source": [
    "# D29 - Q2: Complete the linear search code given below, which searches for a given character in a string\n",
    "string='hello'\n",
    "char='e'\n",
    "for i in range(0,len(string)):                                          # Blank\n",
    "    if string[i] == char:\n",
    "        print('Found the required character at position: ', i)          # i is the index of char"
   ]
  },
  {
   "cell_type": "code",
   "execution_count": 9,
   "metadata": {},
   "outputs": [],
   "source": [
    "# D29 - Q3: Which of the statements aren’t true for linear search?\n",
    "\n",
    "# A) The order of data doesn’t matter\n",
    "# B) The worst case time complexity is O(log n)\n",
    "# C) The best case complexity is constant time complexity\n",
    "# D) Linear search can be applied to only numerical values.\n",
    "\n",
    "# ANS: B & D"
   ]
  },
  {
   "cell_type": "code",
   "execution_count": null,
   "metadata": {},
   "outputs": [],
   "source": []
  }
 ],
 "metadata": {
  "language_info": {
   "name": "python"
  },
  "orig_nbformat": 4
 },
 "nbformat": 4,
 "nbformat_minor": 2
}
