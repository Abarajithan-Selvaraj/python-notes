{
 "cells": [
  {
   "cell_type": "code",
   "execution_count": null,
   "metadata": {},
   "outputs": [],
   "source": [
    "# D29 - Q1: For a linear search, what’s the correct space complexity?\n",
    "\n",
    "# ANS: O(1)"
   ]
  },
  {
   "cell_type": "code",
   "execution_count": 8,
   "metadata": {},
   "outputs": [
    {
     "name": "stdout",
     "output_type": "stream",
     "text": [
      "Found the required character at position:  1\n"
     ]
    }
   ],
   "source": [
    "# D29 - Q2: Complete the linear search code given below, which searches for a given character in a string\n",
    "string='hello'\n",
    "char='e'\n",
    "for i in range(0,len(string)):                                          # Blank\n",
    "    if string[i] == char:\n",
    "        print('Found the required character at position: ', i)          # i is the index of char"
   ]
  },
  {
   "cell_type": "code",
   "execution_count": 9,
   "metadata": {},
   "outputs": [],
   "source": [
    "# D29 - Q3: Which of the statements aren’t true for linear search?\n",
    "\n",
    "# A) The order of data doesn’t matter\n",
    "# B) The worst case time complexity is O(log n)\n",
    "# C) The best case complexity is constant time complexity\n",
    "# D) Linear search can be applied to only numerical values.\n",
    "\n",
    "# ANS: B & D"
   ]
  },
  {
   "cell_type": "code",
   "execution_count": null,
   "metadata": {},
   "outputs": [],
   "source": [
    "# D29 - Q4: Given a python list data = [12, 23, 35, 42, 56], and key = 23. After how many iterations in the binary search, the key will be found?\n",
    "\n",
    "# ANS: 3\n"
   ]
  }
 ],
 "metadata": {
  "kernelspec": {
   "display_name": "Python 3.8.9 64-bit",
   "language": "python",
   "name": "python3"
  },
  "language_info": {
   "name": "python",
   "version": "3.9.6"
  },
  "orig_nbformat": 4,
  "vscode": {
   "interpreter": {
    "hash": "31f2aee4e71d21fbe5cf8b01ff0e069b9275f58929596ceb00d14d90e3e16cd6"
   }
  }
 },
 "nbformat": 4,
 "nbformat_minor": 2
}
