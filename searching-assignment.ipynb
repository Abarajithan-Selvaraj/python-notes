{
 "cells": [
  {
   "cell_type": "code",
   "execution_count": null,
   "metadata": {},
   "outputs": [],
   "source": [
    "# D29 - Q1: For a linear search, what’s the correct space complexity?\n",
    "\n",
    "# ANS: O(1)"
   ]
  },
  {
   "cell_type": "code",
   "execution_count": 8,
   "metadata": {},
   "outputs": [
    {
     "name": "stdout",
     "output_type": "stream",
     "text": [
      "Found the required character at position:  1\n"
     ]
    }
   ],
   "source": [
    "# D29 - Q2: Complete the linear search code given below, which searches for a given character in a string\n",
    "string='hello'\n",
    "char='e'\n",
    "for i in range(0,len(string)):                                          # Blank\n",
    "    if string[i] == char:\n",
    "        print('Found the required character at position: ', i)          # i is the index of char"
   ]
  },
  {
   "cell_type": "code",
   "execution_count": 9,
   "metadata": {},
   "outputs": [],
   "source": [
    "# D29 - Q3: Which of the statements aren’t true for linear search?\n",
    "\n",
    "# A) The order of data doesn’t matter\n",
    "# B) The worst case time complexity is O(log n)\n",
    "# C) The best case complexity is constant time complexity\n",
    "# D) Linear search can be applied to only numerical values.\n",
    "\n",
    "# ANS: B & D"
   ]
  },
  {
   "cell_type": "code",
   "execution_count": 1,
   "metadata": {},
   "outputs": [],
   "source": [
    "# D29 - Q4: Given a python list data = [12, 23, 35, 42, 56], and key = 23. After how many iterations in the binary search, the key will be found?\n",
    "\n",
    "# ANS: 3\n"
   ]
  },
  {
   "cell_type": "code",
   "execution_count": 2,
   "metadata": {},
   "outputs": [
    {
     "name": "stdout",
     "output_type": "stream",
     "text": [
      "2\n"
     ]
    }
   ],
   "source": [
    "# D4 - Q7: Given a sorted array A of size N. Find the number of elements that are less than or equal to B.\n",
    "\n",
    "def solve(A, B):\n",
    "  #YOUR CODE GOES HERE\n",
    "  result=0\n",
    "\n",
    "  for i in range(len(A)):\n",
    "      if B >= A[i]:\n",
    "          result += 1\n",
    "      else:\n",
    "          break\n",
    "\n",
    "  return result\n",
    "\n",
    "# ar = [1, 3, 4, 4, 6]\n",
    "ar = [1, 2, 5, 5]\n",
    "print(solve(ar, 3))"
   ]
  },
  {
   "cell_type": "code",
   "execution_count": 10,
   "metadata": {},
   "outputs": [
    {
     "name": "stdout",
     "output_type": "stream",
     "text": [
      "2\n"
     ]
    }
   ],
   "source": [
    "# D4 - Q8: Given a sorted array A of size N and a target value B, return the index of the target in the list (0-based indexing) if the target is found.\n",
    "# If not found, return the index where it would be if it were inserted.\n",
    "\n",
    "def searchInsert(A, B):\n",
    "    #YOUR CODE GOES HERE\n",
    "    low=0\n",
    "\n",
    "    for i in range(len(A)):\n",
    "        if B > A[i]:\n",
    "            low += 1\n",
    "        elif B == A[i]:\n",
    "            low = i\n",
    "        else:\n",
    "            break\n",
    "    \n",
    "    return low\n",
    "\n",
    "ar = [1, 3, 5, 6]\n",
    "# ar = [1]\n",
    "print(searchInsert(ar, 4))"
   ]
  },
  {
   "cell_type": "code",
   "execution_count": null,
   "metadata": {},
   "outputs": [],
   "source": []
  }
 ],
 "metadata": {
  "kernelspec": {
   "display_name": "Python 3.8.9 64-bit",
   "language": "python",
   "name": "python3"
  },
  "language_info": {
   "codemirror_mode": {
    "name": "ipython",
    "version": 3
   },
   "file_extension": ".py",
   "mimetype": "text/x-python",
   "name": "python",
   "nbconvert_exporter": "python",
   "pygments_lexer": "ipython3",
   "version": "3.9.6"
  },
  "orig_nbformat": 4,
  "vscode": {
   "interpreter": {
    "hash": "31f2aee4e71d21fbe5cf8b01ff0e069b9275f58929596ceb00d14d90e3e16cd6"
   }
  }
 },
 "nbformat": 4,
 "nbformat_minor": 2
}
