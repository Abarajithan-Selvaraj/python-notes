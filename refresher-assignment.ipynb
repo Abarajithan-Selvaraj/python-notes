{
 "cells": [
  {
   "cell_type": "code",
   "execution_count": 7,
   "metadata": {},
   "outputs": [
    {
     "name": "stdout",
     "output_type": "stream",
     "text": [
      "0.0\n"
     ]
    },
    {
     "data": {
      "text/plain": [
       "'Yes'"
      ]
     },
     "execution_count": 7,
     "metadata": {},
     "output_type": "execute_result"
    }
   ],
   "source": [
    "# D27 - Q6: Write a program to find out if the given number n is a power of 2. Print “Yes” if true else “No”. Assume that 0 <= n <= 10^18\n",
    "\n",
    "import math\n",
    "\n",
    "def power():\n",
    "    x = int(input())\n",
    "    p = 1\n",
    "    ans=\"No\"\n",
    "    \n",
    "    #YOUR CODE GOES HERE\n",
    "    p = math.log10(x) / math.log10(2)\n",
    "    # print(p - int(p))\n",
    "\n",
    "    if (p - int(p)) == 0.00:\n",
    "        ans = \"Yes\"\n",
    "\n",
    "    return ans\n",
    "\n",
    "power()"
   ]
  },
  {
   "cell_type": "code",
   "execution_count": 10,
   "metadata": {},
   "outputs": [
    {
     "name": "stdout",
     "output_type": "stream",
     "text": [
      "4 * 1 = 4\n",
      "4 * 2 = 8\n",
      "4 * 3 = 12\n",
      "4 * 4 = 16\n",
      "4 * 5 = 20\n",
      "4 * 6 = 24\n",
      "4 * 7 = 28\n",
      "4 * 8 = 32\n",
      "4 * 9 = 36\n",
      "4 * 10 = 40\n"
     ]
    }
   ],
   "source": [
    "# D27 - Q7: For a given number A, print its multiplication table having the first 10 multiples.\n",
    "\n",
    "def multiple_table(a):\n",
    "    ''' input: a = integer which multiplication table need to be printed\n",
    "        output: a multiplication table of length 10 is expected to be printed. '''\n",
    "\n",
    "    #YOUR CODE GOES HERE\n",
    "    for i in range(1, 11):\n",
    "        print(f\"{a} * {i} = {a * i}\")\n",
    "\n",
    "    return None\n",
    "\n",
    "multiple_table(4)"
   ]
  },
  {
   "cell_type": "code",
   "execution_count": null,
   "metadata": {},
   "outputs": [],
   "source": []
  },
  {
   "cell_type": "code",
   "execution_count": 30,
   "metadata": {},
   "outputs": [
    {
     "name": "stdout",
     "output_type": "stream",
     "text": [
      "4\n"
     ]
    }
   ],
   "source": [
    "# D27 - Q8: Write a program to find the Greatest common divisor of given 2 numbers.\n",
    "\n",
    "# a, b = map(int, input().split(\" \"))\n",
    "a, b = 16, 28\n",
    "#a and b will simply be two integers use them for the calculation.\n",
    "\n",
    "#YOUR CODE GOES HERE\n",
    "# EUCLID'S ALGORITHM thru recusion\n",
    "def gcd(number, divisor):\n",
    "\n",
    "    # calcluation\n",
    "    quotient = number // divisor\n",
    "    reminder = number % divisor\n",
    "\n",
    "    # recursion breaker\n",
    "    if reminder == 0:\n",
    "        # print(number, divisor, quotient, reminder)\n",
    "        return divisor\n",
    "    else:\n",
    "        # recursion\n",
    "        return gcd(divisor, reminder)\n",
    "\n",
    "# find the greatest common divisor\n",
    "print(gcd(max(a,b), min(a,b)))\n"
   ]
  },
  {
   "cell_type": "code",
   "execution_count": 38,
   "metadata": {},
   "outputs": [
    {
     "name": "stdout",
     "output_type": "stream",
     "text": [
      "20\n"
     ]
    }
   ],
   "source": [
    "# D27 - Q8: Write a program for a given integer x and a list ls to return the first multiple of x that occurs in the list, and if there isn’t any multiple of x in the list then return -1.\n",
    "\n",
    "def first_multiple(ls,x):\n",
    "    ans = -1\n",
    "    ''' input:ls-List of elements and x-indicates the integer\n",
    "        output:Return ans from the list that is divisible by x '''\n",
    "    \n",
    "    # YOUR CODE GOES HERE\n",
    "    multiples = []\n",
    "    for i in ls:\n",
    "        if i % x == 0:\n",
    "            multiples.append(i)\n",
    "    \n",
    "    if len(multiples) > 0:\n",
    "        multiples.sort()\n",
    "        ans = multiples[0]\n",
    "\n",
    "    return ans\n",
    "\n",
    "# EXECUTION\n",
    "print(first_multiple([424,50,5,20,45,25,4], 10))"
   ]
  },
  {
   "cell_type": "code",
   "execution_count": 40,
   "metadata": {},
   "outputs": [
    {
     "name": "stdout",
     "output_type": "stream",
     "text": [
      "7\n"
     ]
    }
   ],
   "source": [
    "# D27 - Q10: Write a program to find out the total number of palindromic integers within the given range [l, r] inclusive of both l and r.\n",
    "\n",
    "# l, r = map(int, input().split(\" \"))\n",
    "l, r = 5, 25\n",
    "#l and r represents the upper and lower boundary for the range\n",
    "#print the total number of palindromic integers\n",
    "\n",
    "ans = 0\n",
    "\n",
    "#YOUR CODE GOES HERE\n",
    "for i in range(l, r+1):\n",
    "    if str(i) == str(i)[::-1]:\n",
    "        ans += 1\n",
    "\n",
    "print(ans)"
   ]
  },
  {
   "cell_type": "code",
   "execution_count": 41,
   "metadata": {},
   "outputs": [
    {
     "name": "stdout",
     "output_type": "stream",
     "text": [
      "3\n"
     ]
    }
   ],
   "source": [
    "# D27 - Q11: What is the output of the following code:\n",
    "\n",
    "a = 1\n",
    "b = 2\n",
    "c = 3\n",
    "if a > b:\n",
    "    if a > c:\n",
    "        print(a)\n",
    "    else:\n",
    "        print(c)\n",
    "else:\n",
    "    if b > c:\n",
    "        print(b)\n",
    "    else:\n",
    "        print(c)"
   ]
  },
  {
   "cell_type": "code",
   "execution_count": 42,
   "metadata": {},
   "outputs": [
    {
     "name": "stdout",
     "output_type": "stream",
     "text": [
      "ML is fun\n",
      "I love DS\n"
     ]
    }
   ],
   "source": [
    "# D27 - Q12: What would be the output of the following code:\n",
    "\n",
    "a = 1\n",
    "b = 0\n",
    "c = 1\n",
    "if (a and b):\n",
    "    print(\"Scaler is awesome\")\n",
    "elif (a and c):\n",
    "    print(\"ML is fun\")\n",
    "if (a and b and c):\n",
    "    print(\"Python is amazing\")\n",
    "if (a or b or c):\n",
    "    print(\"I love DS\")"
   ]
  },
  {
   "cell_type": "code",
   "execution_count": 51,
   "metadata": {},
   "outputs": [
    {
     "name": "stdout",
     "output_type": "stream",
     "text": [
      "2\n"
     ]
    }
   ],
   "source": [
    "# D27 - Q13: Complete the following code snippet in order to find the exponent, i.e. the number of times base should be multiplied by itself to get num.\n",
    "\n",
    "num=16\n",
    "base=4\n",
    "cnt=0\n",
    "while(num>1):\n",
    "    num /= base\n",
    "    cnt+=1\n",
    "print(cnt)\n",
    "\n",
    "# Which of the options can be used in place of blank(?????) in order to get the power value?\n",
    "# An image to illustrate what exponent and base number mean:\n",
    "# Note - Assume that we can always get num by multiplying a base by 1 positive number of times."
   ]
  },
  {
   "cell_type": "code",
   "execution_count": 55,
   "metadata": {},
   "outputs": [
    {
     "name": "stdout",
     "output_type": "stream",
     "text": [
      "55\n"
     ]
    }
   ],
   "source": [
    "# D27 - Q14: A list “a” is defined. The code is designed for the summation of numbers of the list until the sum is less than or equal to a particular number(in this case the number is 50).\n",
    "# What will be the output of the print statement?\n",
    "\n",
    "a = list(range(0, 20))\n",
    "sum = 0\n",
    "i = 0\n",
    "\n",
    "while True:\n",
    "    if sum <= 50:\n",
    "        sum += a[i]\n",
    "        i += 1\n",
    "    else:\n",
    "        break\n",
    "\n",
    "print(sum)"
   ]
  },
  {
   "cell_type": "code",
   "execution_count": 67,
   "metadata": {},
   "outputs": [
    {
     "name": "stdout",
     "output_type": "stream",
     "text": [
      "120\n"
     ]
    }
   ],
   "source": [
    "# D28 - Q15: The given program is supposed to calculate the factorial of a number. Find the correct line of code to put in the missing places (Choose Block).\n",
    "\n",
    "from ast import Pass\n",
    "\n",
    "n = int(input())\n",
    "ans = 1\n",
    "while n:\n",
    "    if not n:\n",
    "        break\n",
    "    ans *= n\n",
    "    n -= 1\n",
    "\n",
    "print(ans)\n",
    "\n",
    "\n",
    "# #Block A\n",
    "# 1 : pass\n",
    "# 2 : ans = ans*n\n",
    "# 3 : n=n-1\n",
    "\n",
    "# #Block B\n",
    "# 1 : continue\n",
    "# 2 : ans = ans*(n-1)\n",
    "# 3 : n=n-1\n",
    "\n",
    "# #Block C\n",
    "# 1 : No code\n",
    "# 2 : ans+=n-1\n",
    "# 3 : n=n+1\n",
    "\n",
    "# #Block D\n",
    "# 1 : No code\n",
    "# 2 : ans *= n\n",
    "# 3 : n-=1"
   ]
  },
  {
   "cell_type": "code",
   "execution_count": null,
   "metadata": {},
   "outputs": [],
   "source": []
  },
  {
   "cell_type": "code",
   "execution_count": null,
   "metadata": {},
   "outputs": [],
   "source": []
  }
 ],
 "metadata": {
  "kernelspec": {
   "display_name": "Python 3.8.5 64-bit",
   "language": "python",
   "name": "python3"
  },
  "language_info": {
   "codemirror_mode": {
    "name": "ipython",
    "version": 3
   },
   "file_extension": ".py",
   "mimetype": "text/x-python",
   "name": "python",
   "nbconvert_exporter": "python",
   "pygments_lexer": "ipython3",
   "version": "3.8.5"
  },
  "orig_nbformat": 4,
  "vscode": {
   "interpreter": {
    "hash": "41ce847c0450e3d9f9b6f567fffc9e578ec90f5cdc87fe409eee8932f62d0364"
   }
  }
 },
 "nbformat": 4,
 "nbformat_minor": 2
}
