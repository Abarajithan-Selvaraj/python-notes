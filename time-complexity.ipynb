{
 "cells": [
  {
   "cell_type": "code",
   "execution_count": 1,
   "metadata": {},
   "outputs": [
    {
     "name": "stdout",
     "output_type": "stream",
     "text": [
      "0.0010008811950683594\n"
     ]
    }
   ],
   "source": [
    "import time\n",
    "\n",
    "# Aposteriori analysis\n",
    "s = time.time()\n",
    "\n",
    "for i in range(10000):\n",
    "    z = i * 5\n",
    "\n",
    "e = time.time()\n",
    "\n",
    "print(e - s)\n",
    "\n",
    "# this is not how we calculate the time for an algorithm\n",
    "# because this method is dependant on systems. i.e., an algorithm runs faster in a faster system and slower in a slower system\n",
    "# in order to get a common notation in all the systems, analysis of algorithm is the right way of doing it"
   ]
  },
  {
   "cell_type": "markdown",
   "metadata": {},
   "source": [
    "# Analysis of algorithm\n",
    "To find the computational complexities and usage of the resources (for example, battery power for mobile apps, bandwidth for network)\n",
    "\n",
    "## Why analyse?\n",
    "1. Compare to select the best algorithm\n",
    "2. To find the efficiency of an algorithm\n",
    "3. To compute the usage of resources ( Time, Space and Energy)\n",
    "\n",
    "## Types of analysis\n",
    "    1. Aposteriori analysis\n",
    "    2. Apriori analysis\n",
    "\n",
    "#### Aposteriori analysis\n",
    "    - Analysis after execution\n",
    "    - Results actual time\n",
    "    - Experimental results\n",
    "\n",
    "    Pros: \n",
    "        1. Exact time of execution\n",
    "    Cons:\n",
    "        1. Platform/OS/system dependant\n",
    "        2. Language dependant\n",
    "\n",
    "#### Apriori analysis\n",
    "    - Analysis before execution\n",
    "    - Formation of generic equation of notations\n",
    "    \n",
    "    Pros:\n",
    "        1. Platform/OS/system independant\n",
    "        2. Can calculate before execution\n",
    "        3. Language independant\n",
    "    Cons:\n",
    "        1. Graph/plot of time complexity (not exact time)\n"
   ]
  },
  {
   "cell_type": "markdown",
   "metadata": {},
   "source": [
    "## Apriorie analysis :: formation of equation\n",
    "#### Assumptions:\n",
    "1. The computer used is hypothetical (i.e., infinte RAM, infinte CPU)\n",
    "2. Each fundamental operations **(+, -, \\*, /, =, <, >, <=, >=, ==, !=)** take **a unit of time** (1 nano second, for modern computers)\n",
    "\n",
    "<br></br>\n",
    "**<u>Example-1: Arithmatic operations</u>**  \n",
    "    *a = b + c*  \n",
    "    <br>\n",
    "    *result:* **2** units of time (each for both **'+'** and **'='** operations)\n",
    "    \n",
    "<br></br>\n",
    "**<u>Example-2: For loop</u>**  \n",
    "    *for* **i** &larr; **1** to **n**:  \n",
    "    &nbsp;&nbsp;&nbsp;&nbsp;*x = y + z*  \n",
    "    <br>\n",
    "    *result:* **(5n + 2)** units of time  \n",
    "    *explanation:*  \n",
    "    &nbsp;&nbsp;&nbsp;&nbsp;**Line-1: 3n + 2**&nbsp;&nbsp;&nbsp;&nbsp;&nbsp;&nbsp;*[ 1 for initiating i, (n + 1) for comparison, 2n for increment of i ]*  \n",
    "    &nbsp;&nbsp;&nbsp;&nbsp;**Line-2: 2n**&nbsp;&nbsp;&nbsp;&nbsp;&nbsp;&nbsp;&nbsp;&nbsp;&nbsp;&nbsp;&nbsp;&nbsp;*[ n for assigning, n for addition ]*  \n",
    "    <br>\n",
    "    **also applicable to:**  \n",
    "    &nbsp;&nbsp;&nbsp;&nbsp;*i = 1*  \n",
    "    &nbsp;&nbsp;&nbsp;&nbsp;*while* **(i <= n)** :  \n",
    "    &nbsp;&nbsp;&nbsp;&nbsp;&nbsp;&nbsp;&nbsp;&nbsp;*x = y + z*  \n",
    "    &nbsp;&nbsp;&nbsp;&nbsp;&nbsp;&nbsp;&nbsp;&nbsp;*i = i + 1*  \n",
    "    <br></br>\n",
    "**<u>Example-3: Nested-for loop</u>**  \n",
    "    *for* **i** &larr; **1** to **n**:  \n",
    "    &nbsp;&nbsp;&nbsp;&nbsp;*for* **j** &larr; **1** to **n**:  \n",
    "    &nbsp;&nbsp;&nbsp;&nbsp;&nbsp;&nbsp;&nbsp;&nbsp;*x = y + z*  \n",
    "    <br>\n",
    "    *result:* **(15n<sup>2</sup> + 16n + 4)** units of time&nbsp;&nbsp;&nbsp;&nbsp;&nbsp;&nbsp;[&larr; (3n + 2) * (3n + 2 + 2n)]  \n",
    "    *explanation:*  \n",
    "    &nbsp;&nbsp;&nbsp;&nbsp;**Line-1: 3n + 2**&nbsp;&nbsp;&nbsp;&nbsp;&nbsp;&nbsp;*[ 1 for initiating i, (n + 1) for comparison, 2n for increment of i ]*  \n",
    "    &nbsp;&nbsp;&nbsp;&nbsp;**Line-2: 3n + 2**&nbsp;&nbsp;&nbsp;&nbsp;&nbsp;&nbsp;*[ 1 for initiating j, (n + 1) for comparison, 2n for increment of j ]*  \n",
    "    &nbsp;&nbsp;&nbsp;&nbsp;**Line-3: 2n**&nbsp;&nbsp;&nbsp;&nbsp;&nbsp;&nbsp;&nbsp;&nbsp;&nbsp;&nbsp;&nbsp;&nbsp;*[ n for assigning, n for addition ]*  "
   ]
  },
  {
   "cell_type": "markdown",
   "metadata": {},
   "source": []
  }
 ],
 "metadata": {
  "kernelspec": {
   "display_name": "Python 3.8.5 64-bit",
   "language": "python",
   "name": "python3"
  },
  "language_info": {
   "codemirror_mode": {
    "name": "ipython",
    "version": 3
   },
   "file_extension": ".py",
   "mimetype": "text/x-python",
   "name": "python",
   "nbconvert_exporter": "python",
   "pygments_lexer": "ipython3",
   "version": "3.8.5"
  },
  "orig_nbformat": 4,
  "vscode": {
   "interpreter": {
    "hash": "41ce847c0450e3d9f9b6f567fffc9e578ec90f5cdc87fe409eee8932f62d0364"
   }
  }
 },
 "nbformat": 4,
 "nbformat_minor": 2
}
