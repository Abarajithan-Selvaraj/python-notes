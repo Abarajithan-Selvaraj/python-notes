{
 "cells": [
  {
   "cell_type": "code",
   "execution_count": 1,
   "metadata": {},
   "outputs": [],
   "source": [
    "# Linear Search (Optimized)\n",
    "\n",
    "def linear_search(lis, key):\n",
    "  for i in range(len(lis)):\n",
    "    if lis[i] == key:\n",
    "      return i\n",
    "    else:\n",
    "      return -1\n",
    "\n",
    "# Time Complexity: O(n)     // -> 2n+1\n",
    "# Space Complexity: O(1)"
   ]
  },
  {
   "cell_type": "code",
   "execution_count": 1,
   "metadata": {},
   "outputs": [
    {
     "name": "stdout",
     "output_type": "stream",
     "text": [
      "0, 1, 2\n",
      "location:  1\n"
     ]
    }
   ],
   "source": [
    "# Binary Search\n",
    "\n",
    "# Condition: list should be sorted either ascending or descending\n",
    "\n",
    "def binary_search(lis, key):\n",
    "  start = 0\n",
    "  end = len(lis) - 1\n",
    "  mid = (start + end) // 2\n",
    "  res = -1\n",
    "\n",
    "  while mid != start:\n",
    "    if lis[mid] > key:\n",
    "      end = mid\n",
    "    elif lis[mid] < key:\n",
    "      start = mid\n",
    "    else:\n",
    "      res = mid\n",
    "      break\n",
    "\n",
    "    mid = (start + end) // 2\n",
    "    print(f\"{start}, {mid}, {end}\")\n",
    "\n",
    "  if lis[start] == key:\n",
    "    res = start\n",
    "  elif lis[end] == key:\n",
    "    res = end\n",
    "\n",
    "  return res\n",
    "\n",
    "l = [1, 3, 4, 4, 6]\n",
    "k = 4\n",
    "print(\"location: \", binary_search(l, k))\n",
    "\n",
    "# Time Complexity: O(log n)\n",
    "# Space Complexity: O(1)"
   ]
  },
  {
   "cell_type": "code",
   "execution_count": 3,
   "metadata": {},
   "outputs": [
    {
     "name": "stdout",
     "output_type": "stream",
     "text": [
      "location:  4\n"
     ]
    }
   ],
   "source": [
    "# Binary search thru recursion\n",
    "\n",
    "def RecursiveBinarySearch(lis, left, right, key):\n",
    "  # print(f\"{left}, {right}\")\n",
    "  if left <= right:\n",
    "    mid = (left + right) // 2\n",
    "\n",
    "    if key == lis[mid]:\n",
    "      return mid\n",
    "    \n",
    "    if key < lis[mid]:\n",
    "      return RecursiveBinarySearch(lis, left, mid-1, key)\n",
    "\n",
    "    return RecursiveBinarySearch(lis, mid+1, right, key)\n",
    "\n",
    "  return -1\n",
    "\n",
    "l = [12, 23, 35, 42, 56]\n",
    "k = 56\n",
    "print(\"location: \", RecursiveBinarySearch(l, 0, len(l)-1, k))   # be careful about the left-right boundaries\n",
    "\n",
    "# Time Complexity: O(n)\n",
    "# Space Complexity: O(1)"
   ]
  },
  {
   "cell_type": "code",
   "execution_count": 7,
   "metadata": {},
   "outputs": [
    {
     "data": {
      "text/plain": [
       "4"
      ]
     },
     "execution_count": 7,
     "metadata": {},
     "output_type": "execute_result"
    }
   ],
   "source": [
    "# Sentinal Search\n",
    "\n",
    "def sentinelSearch(ar,target):\n",
    "  n = len(ar)\n",
    "  last = ar[n-1]\n",
    "  ar[n-1] = target\n",
    "  i = 0\n",
    "  while ar[i]!=target:\n",
    "    i+=1\n",
    "    # print(i)\n",
    "\n",
    "  ar[n-1] = last\n",
    "  if (i<n-1) or target==ar[n-1]:\n",
    "    return i\n",
    "  else:\n",
    "    return -1\n",
    "\n",
    "# print(\"ans: \", sentinelSearch([1,2,3,4,5],-7))\n",
    "sentinelSearch([1,2,3,4,5],5)\n",
    "\n",
    "# Time Complexity: O(n)     // -> n+2\n",
    "# Space Complexity: O(1)"
   ]
  },
  {
   "cell_type": "code",
   "execution_count": 125,
   "metadata": {},
   "outputs": [
    {
     "name": "stdout",
     "output_type": "stream",
     "text": [
      "21\n",
      "[1, 2, 3, 4, 5, 6]\n"
     ]
    }
   ],
   "source": [
    "# Bubble Sort\n",
    "\n",
    "def BubbleSort(lis):\n",
    "  swapped = False\n",
    "  n = len(lis)\n",
    "  z = 0\n",
    "\n",
    "  for i in range(n):\n",
    "    for j in range(n-i-1):\n",
    "      # print(j)\n",
    "      if lis[j] > lis[j+1]:\n",
    "        lis[j], lis[j+1] = lis[j+1], lis[j]\n",
    "        swapped = True\n",
    "      z += 1\n",
    "    \n",
    "    if not swapped:\n",
    "      break\n",
    "    z += 1\n",
    "\n",
    "  # print(z)\n",
    "\n",
    "# ar = [6,4,1,3,2,5]\n",
    "# ar = [1,4,6,3,2,5]\n",
    "# ar = [1,2,3,4,5,6]\n",
    "ar = [6,5,4,3,2,1]\n",
    "BubbleSort(ar)\n",
    "print(ar)\n",
    "\n",
    "# Num. of iterations: n-1\n",
    "# Time Complexity: worst-case: O(n^2) | best-case: O(n)\n",
    "# Space Complexity: O(1)"
   ]
  },
  {
   "cell_type": "code",
   "execution_count": 21,
   "metadata": {},
   "outputs": [
    {
     "name": "stdout",
     "output_type": "stream",
     "text": [
      "[1, 2, 3, 4, 5, 6]\n"
     ]
    }
   ],
   "source": [
    "# Insertion Sort\n",
    "\n",
    "def insertionSort(ar):\n",
    "  for i in range(1, len(ar)):\n",
    "    j = i - 1\n",
    "    key = ar[i]\n",
    "    while j >= 0 and key < ar[j]:\n",
    "      # print(f\"{i}, {j}, {ar[j]}\")\n",
    "      ar[j+1] = ar[j]\n",
    "      # print(ar)\n",
    "      j -= 1\n",
    "\n",
    "    ar[j+1] = key\n",
    "\n",
    "# ar = [6,4,1,3,2,5]\n",
    "ar = [12, 4, 5, 7, 1, 32, 34]\n",
    "insertionSort(ar)\n",
    "print(ar)\n",
    "\n",
    "# Time Complexity: worst-case: O(n^2) | best-case: O(n)\n",
    "# Space Complexity: O(1)"
   ]
  },
  {
   "cell_type": "code",
   "execution_count": 22,
   "metadata": {},
   "outputs": [
    {
     "name": "stdout",
     "output_type": "stream",
     "text": [
      "[1, 2, 3, 4, 5, 6]\n"
     ]
    }
   ],
   "source": [
    "# Selection Sort\n",
    "\n",
    "def selectionSort(ar):\n",
    "  n = len(ar)\n",
    "  for i in range(n):\n",
    "    j = i + 1\n",
    "    min = i\n",
    "    while j < n:\n",
    "      if ar[min] > ar[j]:\n",
    "        min = j\n",
    "      j += 1\n",
    "    ar[min], ar[i] = ar[i], ar[min]\n",
    "    # print(ar)\n",
    "\n",
    "ar = [6,4,1,3,2,5]\n",
    "selectionSort(ar)\n",
    "print(ar)\n",
    "\n",
    "# Time Complexity: O(n^2)\n",
    "# Space Complexity: O(1)\n"
   ]
  },
  {
   "cell_type": "code",
   "execution_count": 10,
   "metadata": {},
   "outputs": [
    {
     "name": "stdout",
     "output_type": "stream",
     "text": [
      "[1, 2, 4, 5, 6, 9]\n",
      "[]\n",
      "[1]\n",
      "[1, 2, 3, 4, 5, 6]\n",
      "[1, 2, 3, 4, 5, 6]\n"
     ]
    }
   ],
   "source": [
    "# Merge Sort | Divide and Conquer        (refer this link for brushing-up https://www.youtube.com/watch?v=nCNfu_zNhyI&ab_channel=codebasics)\n",
    "\n",
    "def mergeSort(ar):\n",
    "    if len(ar) <= 1:\n",
    "        return ar\n",
    "\n",
    "    mid = len(ar) // 2\n",
    "    left = ar[:mid]\n",
    "    right = ar[mid:]\n",
    "\n",
    "    mergeSort(left)\n",
    "    mergeSort(right)\n",
    "\n",
    "    merge(left, right, ar)\n",
    "\n",
    "\n",
    "# merge two arrays and puth them as one --> a + b >> c\n",
    "def merge(a, b, c):\n",
    "    i = j = k = 0\n",
    "\n",
    "    while i < len(a) and j < len(b):\n",
    "        # print(a[i], b[j])\n",
    "        if a[i] <= b[j]:\n",
    "            c[k] = a[i]\n",
    "            i += 1\n",
    "        else:\n",
    "            c[k] = b[j]\n",
    "            j += 1\n",
    "        k += 1\n",
    "\n",
    "    while i < len(a):\n",
    "        c[k] = a[i]\n",
    "        i += 1\n",
    "        k += 1\n",
    "\n",
    "    while j < len(b):\n",
    "        c[k] = b[j]\n",
    "        j += 1\n",
    "        k += 1\n",
    "\n",
    "\n",
    "test_cases = [\n",
    "    [2, 5, 9, 1, 4, 6],\n",
    "    [],\n",
    "    [1],\n",
    "    [1, 2, 3, 4, 5, 6],\n",
    "    [6, 5, 4, 3, 2, 1]\n",
    "]\n",
    "\n",
    "for data in test_cases:\n",
    "    mergeSort(data)\n",
    "    print(data)\n",
    "\n",
    "# Time Complexity: O(n*logn)\n",
    "# Space Complexity: O(n)        # since it divides and conquer, number of arrays created eventually"
   ]
  },
  {
   "cell_type": "code",
   "execution_count": null,
   "metadata": {},
   "outputs": [],
   "source": []
  }
 ],
 "metadata": {
  "kernelspec": {
   "display_name": "Python 3.9.6 64-bit",
   "language": "python",
   "name": "python3"
  },
  "language_info": {
   "codemirror_mode": {
    "name": "ipython",
    "version": 3
   },
   "file_extension": ".py",
   "mimetype": "text/x-python",
   "name": "python",
   "nbconvert_exporter": "python",
   "pygments_lexer": "ipython3",
   "version": "3.9.6"
  },
  "orig_nbformat": 4,
  "vscode": {
   "interpreter": {
    "hash": "31f2aee4e71d21fbe5cf8b01ff0e069b9275f58929596ceb00d14d90e3e16cd6"
   }
  }
 },
 "nbformat": 4,
 "nbformat_minor": 2
}
