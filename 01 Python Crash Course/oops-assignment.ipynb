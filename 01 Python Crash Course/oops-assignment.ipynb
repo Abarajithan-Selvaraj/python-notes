{
 "cells": [
  {
   "cell_type": "code",
   "execution_count": 1,
   "metadata": {},
   "outputs": [],
   "source": [
    "# D13 - Q1: Choose the correct statements about the __init__() method.\n",
    "\n",
    "# A) It is called automatically, while creating objects.\n",
    "# B) It is used to initialize values of data members.\n",
    "# C) It is a magic method.\n",
    "# ANS: D) All of these"
   ]
  },
  {
   "cell_type": "code",
   "execution_count": 2,
   "metadata": {},
   "outputs": [],
   "source": [
    "# D13 - Q2: When name \"Vishal\" is assigned to object p1 of the Person class in the above code snippet, what did self refer to, in line x?\n",
    "\n",
    "class Person:\n",
    "  def __init__(self, Name):\n",
    "    self.name = Name             #line x\n",
    "  def get_person_name(self):\n",
    "    return self.name\n",
    "p1=Person(\"Vishal\")\n",
    "\n",
    "# ANS: A) p1 object"
   ]
  },
  {
   "cell_type": "code",
   "execution_count": 3,
   "metadata": {},
   "outputs": [
    {
     "name": "stdout",
     "output_type": "stream",
     "text": [
      "John\n"
     ]
    }
   ],
   "source": [
    "# D13 - Q3: What will be the output of the following code snippet:\n",
    "\n",
    "class People():\n",
    "    def __init__(self, name):\n",
    "        self.name = name\n",
    "\n",
    "    def get_name(self):\n",
    "        print(self.name)\n",
    "\n",
    "person1 = People(\"John\")\n",
    "person2 = People(\"Mary\")\n",
    "person1.get_name()"
   ]
  },
  {
   "cell_type": "code",
   "execution_count": 4,
   "metadata": {},
   "outputs": [
    {
     "name": "stdout",
     "output_type": "stream",
     "text": [
      "13\n"
     ]
    }
   ],
   "source": [
    "# D13 - Q4: What will be the output of the following Python code?\n",
    "class fruits:\n",
    "    def __init__(self, price):\n",
    "        self.price = price\n",
    "\n",
    "obj=fruits(50)\n",
    "obj.quantity=10\n",
    "obj.bags=2\n",
    "\n",
    "print(obj.quantity+len(obj.__dict__))"
   ]
  },
  {
   "cell_type": "code",
   "execution_count": 5,
   "metadata": {},
   "outputs": [
    {
     "name": "stdout",
     "output_type": "stream",
     "text": [
      "Name: Sanjay Club: Real Madrid Sports: Football Name: Ravi Club: United Sports: Tennis "
     ]
    }
   ],
   "source": [
    "# D13 - Q5: What will be the output of the following code snippet:\n",
    "\n",
    "class Player:\n",
    "  # class variables\n",
    "  club = 'United'\n",
    "  sport = 'Football'\n",
    "\n",
    "  def __init__(self, name):\n",
    "    # Instance variable\n",
    "    self.name = name\n",
    "\n",
    "  def show(self):\n",
    "    print('Name:', self.name, 'Club:', self.club, 'Sports:', self.sport, end=\" \")\n",
    "\n",
    "p1 = Player('Sanjay')\n",
    "p1.club = 'Real Madrid'\n",
    "p1.show()\n",
    "\n",
    "p2 = Player('Ravi')\n",
    "p2.sport = 'Tennis'\n",
    "p2.show()"
   ]
  },
  {
   "cell_type": "code",
   "execution_count": 6,
   "metadata": {},
   "outputs": [
    {
     "name": "stdout",
     "output_type": "stream",
     "text": [
      "lose win\n"
     ]
    }
   ],
   "source": [
    "# D13 - Q6: What will be the output of the following code?\n",
    "\n",
    "class Football:\n",
    "  final_res = \"lose\"\n",
    "  def __init__(self, name, score):\n",
    "    self.name = name\n",
    "    self.score = score\n",
    "    self.final_res = \"lose\"\n",
    "  def calc(self, winning_score):\n",
    "    if self.score > winning_score:\n",
    "       self.final_res = \"win\"\n",
    "\n",
    "match = Football(\"Juventus\", 3)\n",
    "match.calc(2)\n",
    "print(Football.final_res, match.final_res)"
   ]
  },
  {
   "cell_type": "code",
   "execution_count": 7,
   "metadata": {},
   "outputs": [
    {
     "name": "stdout",
     "output_type": "stream",
     "text": [
      "Roll: 34 Marks: A None Age: 17\n"
     ]
    }
   ],
   "source": [
    "# D13 - Q7: Given the following block of code, what will be the expected output?\n",
    "\n",
    "class Student:\n",
    "    def __init__(self,roll,marks):\n",
    "        self.roll = roll\n",
    "        self.marks=marks\n",
    "    def display(self):\n",
    "        print('Roll:', self.roll,'Marks:',self.marks, end=\" \")\n",
    "\n",
    "student1= Student(34,'A')\n",
    "student1.age=17\n",
    "print(student1.display(), 'Age:',student1.age)"
   ]
  },
  {
   "cell_type": "code",
   "execution_count": 1,
   "metadata": {},
   "outputs": [],
   "source": [
    "# D13 - Q8: Create a class Student and initialize it with details marks in subject 1, credit of subject 1, marks in subject 2, and credit of subject 2.\n",
    "\n",
    "# Create a function grade_point_average() for the Student class which computes the GPA rounded to two decimals, based on the following criteria of points in a subject :\n",
    "\n",
    "# 1. If marks>=90:10 points\n",
    "# 2. If 90>marks>=75: 9 points\n",
    "# 3. If 75>marks>=60: 8 points\n",
    "# 4. If 60>marks>=45: 7 points\n",
    "# 5. If marks<45: 0 points\n",
    "\n",
    "# GPA = (points in subject 1 * credit of subject 1+ points in subject 2 * credit of subject 2) / ( credit of subject 1 + credit of subject 2)\n",
    "\n",
    "# The points in a subject should be calculated according to the criteria mentioned in the question.\n",
    "# Also, implement a special zero case to handle when credits of both subjects are 0, return \"Zero credits for both subjects\".\n",
    "\n",
    "class Student():\n",
    "    \n",
    "    def __init__(self, marks1,marks2,credits1, credits2):\n",
    "        #YOUR CODE GOES HERE\n",
    "        self.marks1 = marks1\n",
    "        self.marks2 = marks2\n",
    "        self.credits1 = credits1\n",
    "        self.credits2 = credits2\n",
    "    \n",
    "    def grade_point_average(self):\n",
    "        gpa=0\n",
    "        \n",
    "        #YOUR CODE GOES HERE\n",
    "        self.points1 = Student.get_points(self.marks1)\n",
    "        self.points2 = Student.get_points(self.marks2)\n",
    "\n",
    "        if self.credits1 == 0 and self.credits2 == 0:\n",
    "            return (\"Zero credits for both subjects\")\n",
    "        else:\n",
    "            gpa = ((self.points1 * self.credits1) + (self.points2 * self.credits2)) / (self.credits1 + self.credits2)\n",
    "\n",
    "        return round(gpa, 2)\n",
    "\n",
    "    def get_points(marks):\n",
    "        if marks >= 90:\n",
    "            return 10\n",
    "        elif marks >= 75:\n",
    "            return 9\n",
    "        elif marks >= 60:\n",
    "            return 8\n",
    "        elif marks >= 45:\n",
    "            return 7\n",
    "        else:\n",
    "            return 0"
   ]
  },
  {
   "cell_type": "code",
   "execution_count": 2,
   "metadata": {},
   "outputs": [],
   "source": [
    "# D14 - Q1: Which of the statements in the option is wrong about inheritance?\n",
    "\n",
    "# A) Protected members of a class can be inherited\n",
    "# B) The inheriting class is called a subclass\n",
    "# ANS: C) Private members of a class can be inherited\n",
    "# D) Inheritance is one of the features of OOP"
   ]
  },
  {
   "cell_type": "code",
   "execution_count": 3,
   "metadata": {},
   "outputs": [],
   "source": [
    "# D14 - Q2: Complete the classes Smaller and Larger.\n",
    "\n",
    "# Smaller class gets instantiated when the argument of the function (a:string) has a length smaller than 6 otherwise Larger is instantiated.\n",
    "# Both the classes have the same two methods, display() printing the type of a (class), and\n",
    "# evaluate() printing the number of vowels if the Name is Smaller otherwise it prints the number of consonants.\n",
    "    \n",
    "class Smaller:\n",
    "    def __init__(self,a):\n",
    "        self.string=a\n",
    "    \n",
    "    def display(self):\n",
    "        print(\"The type of Name is smaller\")\n",
    "    \n",
    "    def evaluate(self):\n",
    "        ans=0\n",
    "        \n",
    "        # YOUR CODE GOES HERE\n",
    "        vowels = ('a', 'e', 'i', 'o', 'u')\n",
    "        for c in self.string.lower():\n",
    "            if c in vowels:\n",
    "                ans += 1\n",
    "\n",
    "        print(ans)\n",
    "        \n",
    "class Larger:\n",
    "    def __init__(self,a):\n",
    "        self.string=a\n",
    "    \n",
    "    def display(self):\n",
    "        print(\"The type of Name is larger\")\n",
    "    \n",
    "    def evaluate(self):\n",
    "        ans=0\n",
    "        \n",
    "        # YOUR CODE GOES HERE\n",
    "        vowels = ('a', 'e', 'i', 'o', 'u')\n",
    "        for c in self.string.lower():\n",
    "            if c in vowels:\n",
    "                ans += 1\n",
    "        \n",
    "        print(len(self.string) - ans)\n",
    "\n",
    "def main(a):\n",
    "    '''\n",
    "    input a is string\n",
    "    '''\n",
    "    if len(a)<6:\n",
    "        obj=Smaller(a)\n",
    "        obj.display()\n",
    "        obj.evaluate()\n",
    "    else:\n",
    "        obj=Larger(a)\n",
    "        obj.display()\n",
    "        obj.evaluate()\n",
    "    "
   ]
  },
  {
   "cell_type": "code",
   "execution_count": 4,
   "metadata": {},
   "outputs": [],
   "source": [
    "# D14 - Q3: You are already given a class Machine_Learning with its constructor and a number of methods. You have to define a class Supervised which will inherit the MachineLearning class with the following data members and methods:\n",
    "\n",
    "# Data Members:\n",
    "\n",
    "# 1. name: string\n",
    "# 2. category: string\n",
    "\n",
    "# Methods:\n",
    "\n",
    "# 1. Constructor: Initialize the data member and call the parent class constructor\n",
    "# 2. getname(): Returns the data member name.\n",
    "# 3. getcategory(): Returns the data member breed.\n",
    "# 4. type(): Prints 'Supervised Learning Algorithm'.\n",
    "\n",
    "# You also have to define a class Unsupervised which will also inherit the MachineLearning class with the same data members and methods as in Supervised, but the type() will have to print Unsupervised Learning Algorithm for this class.\n",
    "\n",
    "class MachineLearning:\n",
    "    def __init__(self,name,category):\n",
    "        self.name=name\n",
    "        self.category=category\n",
    "        self.print()\n",
    "        \n",
    "    def getname(self):\n",
    "        return self.name\n",
    "        \n",
    "    def getcategory(self):\n",
    "        return self.category\n",
    "        \n",
    "    def print(self):\n",
    "        print(\"Name:\",self.name)\n",
    "        print(\"Category:\",self.category)\n",
    "\n",
    "class Supervised(MachineLearning):\n",
    "    def __init__(self,name,category):\n",
    "        #YOUR CODE GOES HERE\n",
    "        super().__init__(name, category)\n",
    "        \n",
    "    def type(self):\n",
    "        #YOUR CODE GOES HERE\n",
    "        print(\"Supervised Learning Algorithm\")\n",
    "\n",
    "class Unsupervised(MachineLearning):\n",
    "    def __init__(self,name,category):\n",
    "        #YOUR CODE GOES HERE\n",
    "        super().__init__(name, category)\n",
    "\n",
    "    def type(self):\n",
    "        #YOUR CODE GOES HERE\n",
    "        print(\"Unsupervised Learning Algorithm\")\n",
    "\n",
    "def mlAnalogy(a,b,c,d):\n",
    "    '''\n",
    "    input=> a,b = name and category for Supervised class\n",
    "            c,d = name and category for Unsupervised class\n",
    "    output=> type() is called for both classes in the end, it should first print the Name and Category then the type of class in new lines\n",
    "    '''\n",
    "\n",
    "    obj1=Supervised(a,b)\n",
    "    obj1.type()\n",
    "    obj2=Unsupervised(c,d)\n",
    "    obj2.type()\n",
    "\n",
    "    return None"
   ]
  },
  {
   "cell_type": "code",
   "execution_count": 5,
   "metadata": {},
   "outputs": [],
   "source": [
    "# D14 - Q4: Create a class Bill and initialize it with the details: previous and current meter readings. Create a function total_bill() inside the Bill class which returns the total bill based on the following criteria:\n",
    "\n",
    "# 1. For the first 100 units consumed: 3.5 rs/unit\n",
    "# 2. For the next 100 units consumed: 5 rs/unit\n",
    "# 3. For remaining units consumed: 8 rs/unit\n",
    "# 4. Meter Charges: 150 rs (It's included only once but is mandatory)\n",
    "\n",
    "class Bill():\n",
    "\n",
    "    def __init__(self, prev_read, cur_read):\n",
    "        #YOUR CODE GOESS HERE\n",
    "        self.prev_read = prev_read\n",
    "        self.cur_read = cur_read\n",
    "        self.reading = self.cur_read - self.prev_read\n",
    "\n",
    "        \n",
    "    def total_bill(self):\n",
    "        total=0.0\n",
    "\n",
    "        #YOUR CODE GOESS HERE\n",
    "        if self.reading > 100:\n",
    "            total += 100 * 3.5\n",
    "            self.reading -= 100\n",
    "        else:\n",
    "            total += self.reading * 3.5\n",
    "            return round((total + 150), 2)\n",
    "\n",
    "        if self.reading > 100:\n",
    "            total += 100 * 5\n",
    "            self.reading -= 100\n",
    "        else:\n",
    "            total += self.reading * 5\n",
    "            return round((total + 150), 2)\n",
    "\n",
    "        if self.reading > 0:\n",
    "            total += self.reading * 8\n",
    "\n",
    "        return round((total + 150), 2)"
   ]
  },
  {
   "cell_type": "code",
   "execution_count": 6,
   "metadata": {},
   "outputs": [
    {
     "name": "stdout",
     "output_type": "stream",
     "text": [
      "Roll: 34 Marks: A None Age: 17\n"
     ]
    }
   ],
   "source": [
    "# D14 - Q5: Given the following block of code, what will be the expected output?\n",
    "\n",
    "class Student:\n",
    "    def __init__(self,roll,marks):\n",
    "        self.roll = roll\n",
    "        self.marks=marks\n",
    "    def display(self):\n",
    "        print('Roll:', self.roll,'Marks:',self.marks, end=\" \")\n",
    "\n",
    "student1= Student(34,'A')\n",
    "student1.age=17\n",
    "print(student1.display(), 'Age:',student1.age)\n"
   ]
  },
  {
   "cell_type": "code",
   "execution_count": 9,
   "metadata": {},
   "outputs": [
    {
     "name": "stdout",
     "output_type": "stream",
     "text": [
      "18.84\n",
      "37.68\n"
     ]
    }
   ],
   "source": [
    "# D14 - Q6: Observe the following code snippet and select the correct option to get the circumference of pizza having radius of 6 cm.\n",
    "\n",
    "class Circle:\n",
    "    pi = 3.14\n",
    "    def __init__(self, diameter):\n",
    "        self.radius = diameter / 2\n",
    "\n",
    "    def circumference(self):\n",
    "        return 2 * self.pi * self.radius\n",
    "\n",
    "# A) \n",
    "pizza = Circle(6)\n",
    "print(pizza.circumference())\n",
    "\n",
    "# B) \n",
    "# pizza = Circle(12)\n",
    "# print(pizza.self.circumference())\n",
    "\n",
    "# C) \n",
    "pizza = Circle(12)\n",
    "print(pizza.circumference())\n",
    "\n",
    "# D) \n",
    "# pizza = Circle(6)\n",
    "# print(pizza.self.circumference())"
   ]
  },
  {
   "cell_type": "code",
   "execution_count": 10,
   "metadata": {},
   "outputs": [
    {
     "name": "stdout",
     "output_type": "stream",
     "text": [
      "lose win\n"
     ]
    }
   ],
   "source": [
    "# D14 - Q7: What is the output of the following code snippet?\n",
    "\n",
    "class football:\n",
    "    final_res= 'lose'\n",
    "    def __init__(self,name,score):\n",
    "        self.name = name\n",
    "        self.score = score\n",
    "        self.final_res = 'lose'\n",
    "    \n",
    "    def calc(self, winning_score):\n",
    "        if self.score>winning_score:\n",
    "            self.final_res='win'\n",
    "match = football('Juventus',3)\n",
    "match.calc(2)\n",
    "print(football.final_res, match.final_res)"
   ]
  },
  {
   "cell_type": "code",
   "execution_count": 15,
   "metadata": {},
   "outputs": [
    {
     "name": "stdout",
     "output_type": "stream",
     "text": [
      "Emma 10 Machine Learning\n"
     ]
    }
   ],
   "source": [
    "# D14 - Q8: Fill the blanks in the code snippet to get the given output?\n",
    "\n",
    "# Choose the correct option(s) for getting Emma 10 Machine Learning as the output if the blanks are replaced by statements given in the options.\n",
    "\n",
    "class Student:\n",
    "  # Class variable\n",
    "  subject_name = 'Math for Machine Learning'\n",
    "\n",
    "  # constructor\n",
    "  def __init__(self, name, roll_no):\n",
    "    self.name = name\n",
    "    self.roll_no = roll_no\n",
    "\n",
    "# outside the class\n",
    "# create Objects\n",
    "\n",
    "#A)\n",
    "s1 = Student('Emma', 10)\n",
    "Student.subject_name = 'Machine Learning'\n",
    "\n",
    "#B)\n",
    "s1 = Student('Emma', 10)\n",
    "s1.subject_name = 'Machine Learning'\n",
    "\n",
    "#C)\n",
    "# s1 = Student('Emma', 10)\n",
    "\n",
    "print(s1.name, s1.roll_no, s1.subject_name)"
   ]
  },
  {
   "cell_type": "code",
   "execution_count": null,
   "metadata": {},
   "outputs": [],
   "source": []
  }
 ],
 "metadata": {
  "kernelspec": {
   "display_name": "Python 3.11.0 64-bit",
   "language": "python",
   "name": "python3"
  },
  "language_info": {
   "codemirror_mode": {
    "name": "ipython",
    "version": 3
   },
   "file_extension": ".py",
   "mimetype": "text/x-python",
   "name": "python",
   "nbconvert_exporter": "python",
   "pygments_lexer": "ipython3",
   "version": "3.11.0"
  },
  "orig_nbformat": 4,
  "vscode": {
   "interpreter": {
    "hash": "d3473b8a734f5b264c53dfb893613d7cf3e13a63cfbdd22e0f1f304ae96ce3da"
   }
  }
 },
 "nbformat": 4,
 "nbformat_minor": 2
}
