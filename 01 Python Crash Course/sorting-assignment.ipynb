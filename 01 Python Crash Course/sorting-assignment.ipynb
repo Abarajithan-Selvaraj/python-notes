{
 "cells": [
  {
   "cell_type": "code",
   "execution_count": 6,
   "metadata": {},
   "outputs": [
    {
     "name": "stdout",
     "output_type": "stream",
     "text": [
      "[1, 2, 3, 4, 5, 6]\n",
      "[6, 5, 4, 3, 2, 1]\n"
     ]
    }
   ],
   "source": [
    "# D5 - Q4: Select the appropriate code that performs bubble sort:\n",
    "\n",
    "def check(arr):\n",
    "  for j in range(len(arr)-1,-1,-1):\n",
    "    for k in range(0,j):\n",
    "      if(arr[k]>arr[k+1]):\n",
    "        temp=arr[k]\n",
    "        arr[k]=arr[k+1]\n",
    "        arr[k+1]=temp\n",
    "\n",
    "  print(arr)\n",
    "\n",
    "  for j in range(len(arr)-1,-1,-1):\n",
    "    for k in range(0,j):\n",
    "      if(arr[k]<arr[k+1]):\n",
    "        temp=arr[k]\n",
    "        arr[k]=arr[k+1]\n",
    "        arr[k+1]=temp\n",
    "\n",
    "  print(arr)\n",
    "\n",
    "  # for j in range(len(arr),-1,-1):\n",
    "  #   for k in range(0,j):\n",
    "  #     if(arr[k]>arr[k+1]):\n",
    "  #       temp=arr[k]\n",
    "  #       arr[k]=arr[k+1]\n",
    "  #       arr[k+1]=temp\n",
    "\n",
    "  # print(arr)\n",
    "\n",
    "  # for j in range(len(arr),-1,-1):\n",
    "  #   for k in range(0,j):\n",
    "  #     if(arr[k]<arr[k+1]):\n",
    "  #       temp=arr[k]\n",
    "  #       arr[k]=arr[k+1]\n",
    "  #       arr[k+1]=temp\n",
    "  \n",
    "  # print(arr)\n",
    "\n",
    "\n",
    "# ar = [6,4,1,3,2,5]\n",
    "# ar = [1,4,6,3,2,5]\n",
    "# ar = [1,2,3,4,5,6]\n",
    "arr = [1,4,6,3,2,5]\n",
    "check(arr)\n",
    "\n",
    "# ANS: A\n"
   ]
  },
  {
   "cell_type": "code",
   "execution_count": 7,
   "metadata": {},
   "outputs": [],
   "source": [
    "# D5 - Q5: What is the maximum number of iterations through the list that will be required to completely sort an n-sized list using bubble sort?\n",
    "\n",
    "# ANS: n-1"
   ]
  },
  {
   "cell_type": "code",
   "execution_count": 11,
   "metadata": {},
   "outputs": [
    {
     "name": "stdout",
     "output_type": "stream",
     "text": [
      "13\n",
      "[11, 12, 13, 5, 6]\n"
     ]
    }
   ],
   "source": [
    "# D5 - Q6: Given a list of numbers, perform k iterations of insertion sort on it and return the element present at the center.\n",
    "\n",
    "def insertionSort(arr, k):\n",
    "  for i in range(1, k+1):\n",
    "    j = i - 1\n",
    "    key = arr[i]\n",
    "    while j >= 0 and key < arr[j]:\n",
    "      arr[j+1] = arr[j]\n",
    "      j -= 1\n",
    "\n",
    "    arr[j+1] = key\n",
    "\n",
    "    # print(arr)\n",
    "    mid  = len(arr) // 2\n",
    "    # print(mid)\n",
    "    res = arr[mid]\n",
    "    return res\n",
    "\n",
    "ar = [12, 11, 13, 5, 6]\n",
    "print(insertionSort(ar, 2))\n",
    "print(ar)"
   ]
  },
  {
   "cell_type": "code",
   "execution_count": 20,
   "metadata": {},
   "outputs": [
    {
     "name": "stdout",
     "output_type": "stream",
     "text": [
      "102\n"
     ]
    }
   ],
   "source": [
    "# D5 - Q7: Given an unsorted list of n integers, return the sum of the first and last elements after implementing bubble sort on the first k elements to arrange them in increasing order.\n",
    "\n",
    "def BubbleSort(lis, n):\n",
    "  swapped = False\n",
    "\n",
    "  for i in range(n):\n",
    "    for j in range(n-i-1):\n",
    "      # print(j)\n",
    "      if lis[j] > lis[j+1]:\n",
    "        lis[j], lis[j+1] = lis[j+1], lis[j]\n",
    "        swapped = True\n",
    "    \n",
    "    if not swapped:\n",
    "      break\n",
    "\n",
    "    # print(lis)\n",
    "\n",
    "  # print(lis[0], lis[-1])\n",
    "  return(lis[0] + lis[-1])\n",
    "\n",
    "ar = [64, 34, 25, 12, 22, 11, 90]\n",
    "print(BubbleSort(ar, 4))"
   ]
  },
  {
   "cell_type": "code",
   "execution_count": null,
   "metadata": {},
   "outputs": [],
   "source": []
  }
 ],
 "metadata": {
  "kernelspec": {
   "display_name": "Python 3.9.6 64-bit",
   "language": "python",
   "name": "python3"
  },
  "language_info": {
   "codemirror_mode": {
    "name": "ipython",
    "version": 3
   },
   "file_extension": ".py",
   "mimetype": "text/x-python",
   "name": "python",
   "nbconvert_exporter": "python",
   "pygments_lexer": "ipython3",
   "version": "3.9.6"
  },
  "orig_nbformat": 4,
  "vscode": {
   "interpreter": {
    "hash": "31f2aee4e71d21fbe5cf8b01ff0e069b9275f58929596ceb00d14d90e3e16cd6"
   }
  }
 },
 "nbformat": 4,
 "nbformat_minor": 2
}
