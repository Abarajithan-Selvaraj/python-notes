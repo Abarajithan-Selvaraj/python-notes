{
 "cells": [
  {
   "cell_type": "code",
   "execution_count": 7,
   "metadata": {},
   "outputs": [
    {
     "name": "stdout",
     "output_type": "stream",
     "text": [
      "0.0\n"
     ]
    },
    {
     "data": {
      "text/plain": [
       "'Yes'"
      ]
     },
     "execution_count": 7,
     "metadata": {},
     "output_type": "execute_result"
    }
   ],
   "source": [
    "# D27 - Q6: Write a program to find out if the given number n is a power of 2. Print “Yes” if true else “No”. Assume that 0 <= n <= 10^18\n",
    "\n",
    "import math\n",
    "\n",
    "def power():\n",
    "    x = int(input())\n",
    "    p = 1\n",
    "    ans=\"No\"\n",
    "    \n",
    "    #YOUR CODE GOES HERE\n",
    "    p = math.log10(x) / math.log10(2)\n",
    "    # print(p - int(p))\n",
    "\n",
    "    if (p - int(p)) == 0.00:\n",
    "        ans = \"Yes\"\n",
    "\n",
    "    return ans\n",
    "\n",
    "power()"
   ]
  },
  {
   "cell_type": "code",
   "execution_count": 10,
   "metadata": {},
   "outputs": [
    {
     "name": "stdout",
     "output_type": "stream",
     "text": [
      "4 * 1 = 4\n",
      "4 * 2 = 8\n",
      "4 * 3 = 12\n",
      "4 * 4 = 16\n",
      "4 * 5 = 20\n",
      "4 * 6 = 24\n",
      "4 * 7 = 28\n",
      "4 * 8 = 32\n",
      "4 * 9 = 36\n",
      "4 * 10 = 40\n"
     ]
    }
   ],
   "source": [
    "# D27 - Q7: For a given number A, print its multiplication table having the first 10 multiples.\n",
    "\n",
    "def multiple_table(a):\n",
    "    ''' input: a = integer which multiplication table need to be printed\n",
    "        output: a multiplication table of length 10 is expected to be printed. '''\n",
    "\n",
    "    #YOUR CODE GOES HERE\n",
    "    for i in range(1, 11):\n",
    "        print(f\"{a} * {i} = {a * i}\")\n",
    "\n",
    "    return None\n",
    "\n",
    "multiple_table(4)"
   ]
  },
  {
   "cell_type": "code",
   "execution_count": null,
   "metadata": {},
   "outputs": [],
   "source": []
  },
  {
   "cell_type": "code",
   "execution_count": 30,
   "metadata": {},
   "outputs": [
    {
     "name": "stdout",
     "output_type": "stream",
     "text": [
      "4\n"
     ]
    }
   ],
   "source": [
    "# D27 - Q8: Write a program to find the Greatest common divisor of given 2 numbers.\n",
    "\n",
    "# a, b = map(int, input().split(\" \"))\n",
    "a, b = 16, 28\n",
    "#a and b will simply be two integers use them for the calculation.\n",
    "\n",
    "#YOUR CODE GOES HERE\n",
    "# EUCLID'S ALGORITHM thru recusion\n",
    "def gcd(number, divisor):\n",
    "\n",
    "    # calcluation\n",
    "    quotient = number // divisor\n",
    "    reminder = number % divisor\n",
    "\n",
    "    # recursion breaker\n",
    "    if reminder == 0:\n",
    "        # print(number, divisor, quotient, reminder)\n",
    "        return divisor\n",
    "    else:\n",
    "        # recursion\n",
    "        return gcd(divisor, reminder)\n",
    "\n",
    "# find the greatest common divisor\n",
    "print(gcd(max(a,b), min(a,b)))\n"
   ]
  },
  {
   "cell_type": "code",
   "execution_count": 38,
   "metadata": {},
   "outputs": [
    {
     "name": "stdout",
     "output_type": "stream",
     "text": [
      "20\n"
     ]
    }
   ],
   "source": [
    "# D27 - Q8: Write a program for a given integer x and a list ls to return the first multiple of x that occurs in the list, and if there isn’t any multiple of x in the list then return -1.\n",
    "\n",
    "def first_multiple(ls,x):\n",
    "    ans = -1\n",
    "    ''' input:ls-List of elements and x-indicates the integer\n",
    "        output:Return ans from the list that is divisible by x '''\n",
    "    \n",
    "    # YOUR CODE GOES HERE\n",
    "    multiples = []\n",
    "    for i in ls:\n",
    "        if i % x == 0:\n",
    "            multiples.append(i)\n",
    "    \n",
    "    if len(multiples) > 0:\n",
    "        multiples.sort()\n",
    "        ans = multiples[0]\n",
    "\n",
    "    return ans\n",
    "\n",
    "# EXECUTION\n",
    "print(first_multiple([424,50,5,20,45,25,4], 10))"
   ]
  },
  {
   "cell_type": "code",
   "execution_count": 40,
   "metadata": {},
   "outputs": [
    {
     "name": "stdout",
     "output_type": "stream",
     "text": [
      "7\n"
     ]
    }
   ],
   "source": [
    "# D27 - Q10: Write a program to find out the total number of palindromic integers within the given range [l, r] inclusive of both l and r.\n",
    "\n",
    "# l, r = map(int, input().split(\" \"))\n",
    "l, r = 5, 25\n",
    "#l and r represents the upper and lower boundary for the range\n",
    "#print the total number of palindromic integers\n",
    "\n",
    "ans = 0\n",
    "\n",
    "#YOUR CODE GOES HERE\n",
    "for i in range(l, r+1):\n",
    "    if str(i) == str(i)[::-1]:\n",
    "        ans += 1\n",
    "\n",
    "print(ans)"
   ]
  },
  {
   "cell_type": "code",
   "execution_count": 41,
   "metadata": {},
   "outputs": [
    {
     "name": "stdout",
     "output_type": "stream",
     "text": [
      "3\n"
     ]
    }
   ],
   "source": [
    "# D27 - Q11: What is the output of the following code:\n",
    "\n",
    "a = 1\n",
    "b = 2\n",
    "c = 3\n",
    "if a > b:\n",
    "    if a > c:\n",
    "        print(a)\n",
    "    else:\n",
    "        print(c)\n",
    "else:\n",
    "    if b > c:\n",
    "        print(b)\n",
    "    else:\n",
    "        print(c)"
   ]
  },
  {
   "cell_type": "code",
   "execution_count": 42,
   "metadata": {},
   "outputs": [
    {
     "name": "stdout",
     "output_type": "stream",
     "text": [
      "ML is fun\n",
      "I love DS\n"
     ]
    }
   ],
   "source": [
    "# D27 - Q12: What would be the output of the following code:\n",
    "\n",
    "a = 1\n",
    "b = 0\n",
    "c = 1\n",
    "if (a and b):\n",
    "    print(\"Scaler is awesome\")\n",
    "elif (a and c):\n",
    "    print(\"ML is fun\")\n",
    "if (a and b and c):\n",
    "    print(\"Python is amazing\")\n",
    "if (a or b or c):\n",
    "    print(\"I love DS\")"
   ]
  },
  {
   "cell_type": "code",
   "execution_count": 51,
   "metadata": {},
   "outputs": [
    {
     "name": "stdout",
     "output_type": "stream",
     "text": [
      "2\n"
     ]
    }
   ],
   "source": [
    "# D27 - Q13: Complete the following code snippet in order to find the exponent, i.e. the number of times base should be multiplied by itself to get num.\n",
    "\n",
    "num=16\n",
    "base=4\n",
    "cnt=0\n",
    "while(num>1):\n",
    "    num /= base\n",
    "    cnt+=1\n",
    "print(cnt)\n",
    "\n",
    "# Which of the options can be used in place of blank(?????) in order to get the power value?\n",
    "# An image to illustrate what exponent and base number mean:\n",
    "# Note - Assume that we can always get num by multiplying a base by 1 positive number of times."
   ]
  },
  {
   "cell_type": "code",
   "execution_count": 55,
   "metadata": {},
   "outputs": [
    {
     "name": "stdout",
     "output_type": "stream",
     "text": [
      "55\n"
     ]
    }
   ],
   "source": [
    "# D27 - Q14: A list “a” is defined. The code is designed for the summation of numbers of the list until the sum is less than or equal to a particular number(in this case the number is 50).\n",
    "# What will be the output of the print statement?\n",
    "\n",
    "a = list(range(0, 20))\n",
    "sum = 0\n",
    "i = 0\n",
    "\n",
    "while True:\n",
    "    if sum <= 50:\n",
    "        sum += a[i]\n",
    "        i += 1\n",
    "    else:\n",
    "        break\n",
    "\n",
    "print(sum)"
   ]
  },
  {
   "cell_type": "code",
   "execution_count": 67,
   "metadata": {},
   "outputs": [
    {
     "name": "stdout",
     "output_type": "stream",
     "text": [
      "120\n"
     ]
    }
   ],
   "source": [
    "# D28 - Q15: The given program is supposed to calculate the factorial of a number. Find the correct line of code to put in the missing places (Choose Block).\n",
    "\n",
    "from ast import Pass\n",
    "\n",
    "n = int(input())\n",
    "ans = 1\n",
    "while n:\n",
    "    if not n:\n",
    "        break\n",
    "    ans *= n\n",
    "    n -= 1\n",
    "\n",
    "print(ans)\n",
    "\n",
    "\n",
    "# #Block A\n",
    "# 1 : pass\n",
    "# 2 : ans = ans*n\n",
    "# 3 : n=n-1\n",
    "\n",
    "# #Block B\n",
    "# 1 : continue\n",
    "# 2 : ans = ans*(n-1)\n",
    "# 3 : n=n-1\n",
    "\n",
    "# #Block C\n",
    "# 1 : No code\n",
    "# 2 : ans+=n-1\n",
    "# 3 : n=n+1\n",
    "\n",
    "# #Block D\n",
    "# 1 : No code\n",
    "# 2 : ans *= n\n",
    "# 3 : n-=1"
   ]
  },
  {
   "cell_type": "code",
   "execution_count": 1,
   "metadata": {},
   "outputs": [
    {
     "data": {
      "text/plain": [
       "['Scaler',\n",
       " 'is',\n",
       " 'Awesome',\n",
       " 'Python',\n",
       " 'for',\n",
       " 'Data',\n",
       " 'Science',\n",
       " 'Machine',\n",
       " 'Learning']"
      ]
     },
     "execution_count": 1,
     "metadata": {},
     "output_type": "execute_result"
    }
   ],
   "source": [
    "# D28 - Q1: Given a nested list that consists of different length sublists, write a program to return the elements in a flattened list from the given nested list.\n",
    "\n",
    "def flatten(lst):\n",
    "    ''' input:lst-nested list of sublists of strings\n",
    "        output:return the flattened list of strings'''\n",
    "    \n",
    "    flatten_list=[]\n",
    "    # YOUR CODE GOES HERE\n",
    "    for lis in lst:\n",
    "        flatten_list.extend(lis)\n",
    "    \n",
    "    return flatten_list\n",
    "\n",
    "ls = [[\"Scaler\", \"is\", \"Awesome\"], [\"Python\", \"for\", \"Data\", \"Science\"], [\"Machine\", \"Learning\"]]\n",
    "\n",
    "flatten(ls)"
   ]
  },
  {
   "cell_type": "code",
   "execution_count": 1,
   "metadata": {},
   "outputs": [
    {
     "name": "stdout",
     "output_type": "stream",
     "text": [
      "[1, 3, 4, 5]\n",
      "[2, 8, 7, 6]\n"
     ]
    }
   ],
   "source": [
    "# D29 - Q2: Write a program to print the rows/sublists of the transpose of the given matrix/nested list.\n",
    "# Note: The transpose of a matrix is obtained by interchanging its rows into columns or columns into rows. (AT or A')\n",
    "\n",
    "def transpose(m):\n",
    "    ''' input:m-nested list\n",
    "        output:print the rows of the transpose of the matrix m'''\n",
    "    \n",
    "    # YOUR CODE GOES HERE\n",
    "    # print(m[0])\n",
    "    for i in range(len(m[0])):\n",
    "        transpose = []\n",
    "        for elem in m:\n",
    "            transpose.append(elem[i])\n",
    "        print(transpose)\n",
    "\n",
    "\n",
    "ls = [[1, 2], [3, 8], [4, 7], [5, 6]]\n",
    "transpose(ls)\n"
   ]
  },
  {
   "cell_type": "code",
   "execution_count": 5,
   "metadata": {},
   "outputs": [
    {
     "data": {
      "text/plain": [
       "['NLP', 'DL', 'ML', 'AI', 'SQL']"
      ]
     },
     "execution_count": 5,
     "metadata": {},
     "output_type": "execute_result"
    }
   ],
   "source": [
    "# D28 - Q3: Given a nested list that consists of different types of courses. Write a program using list comprehension that returns the courses names that have lengths of less than 5 in a flattened list.\n",
    "\n",
    "def course_5(courses):\n",
    "    ''' input:courses-nested list\n",
    "        output:return the flattened list of courses where length of each course name should be less than 5'''\n",
    "    \n",
    "    course=[]\n",
    "    # YOUR CODE GOES HERE\n",
    "    # print(courses)\n",
    "    for row in courses:\n",
    "      for col in row:\n",
    "        if len(col) < 5:\n",
    "          course.append(col)\n",
    "\n",
    "    return course\n",
    "\n",
    "\n",
    "ls = [[\"python\", \"NLP\", \"DL\"], [\"Statistics\", \"Tableau\", \"ML\"], [\"AI\", \"Analytics\", \"SQL\", \"BigData\"]]\n",
    "course_5(ls)"
   ]
  },
  {
   "cell_type": "code",
   "execution_count": 8,
   "metadata": {},
   "outputs": [
    {
     "name": "stdout",
     "output_type": "stream",
     "text": [
      "    *\n",
      "   ***\n",
      "  *****\n",
      " *******\n",
      "*********\n"
     ]
    }
   ],
   "source": [
    "# D28 - Q4: Write a function to print the pattern shown in the sample using n given as a parameter, where n defines the number of rows.\n",
    "# Note: There isn't any space between consecutive stars.\n",
    "\n",
    "def star_pattern(n):\n",
    "    ''' input: n = An Integer value defines number of rows\n",
    "        output: print triangle star pattern'''\n",
    "    # YOUR CODE GOES HERE\n",
    "    for i in range(n):\n",
    "        spaces = n - i - 1\n",
    "        for j in range(((2 * n) - 1) - spaces):\n",
    "            if j >= spaces:\n",
    "                print(\"*\", end=\"\")\n",
    "            else:\n",
    "                print(\" \", end=\"\")\n",
    "        print(\"\")\n",
    "\n",
    "star_pattern(5)"
   ]
  },
  {
   "cell_type": "code",
   "execution_count": 9,
   "metadata": {},
   "outputs": [
    {
     "name": "stdout",
     "output_type": "stream",
     "text": [
      "Mohan 25 "
     ]
    }
   ],
   "source": [
    "# D28 - Q5: What is the output of the following display_person() function call?\n",
    "\n",
    "def display_person(*demos):\n",
    "  for i in demos:\n",
    "    print(i, end= \" \")\n",
    "\n",
    "display_person(\"Mohan\", \"25\")"
   ]
  },
  {
   "cell_type": "code",
   "execution_count": 12,
   "metadata": {},
   "outputs": [
    {
     "data": {
      "text/plain": [
       "3"
      ]
     },
     "execution_count": 12,
     "metadata": {},
     "output_type": "execute_result"
    }
   ],
   "source": [
    "# D28 - Q6: Which code snippet(s) from the following can be used in the place of [???] in the above code snippet, to find the number of words that have only unique characters in it(i.e. no single character is repeated) and length greater than 3.\n",
    "\n",
    "def count_unique_words(inp):\n",
    "    ans = 0\n",
    "    arr = list(inp.split())\n",
    "    for word in arr:\n",
    "        arr2=[]\n",
    "        if len(tuple(word)) == len(word) and len(word) > 3:\n",
    "            ans += 1\n",
    "    return ans\n",
    "\n",
    "#A\n",
    "# if len(set(word)) == len(word) and len(word) > 3:\n",
    "#     ans += 1\n",
    "\n",
    "#B\n",
    "# for i in range(0,len(word)):\n",
    "#     if word[i] not in arr2:\n",
    "#         arr2.append(word[i])\n",
    "# if len(arr2) == len(word) and len(word)>3:\n",
    "#     ans += 1\n",
    "\n",
    "#C\n",
    "# if len(tuple(word)) == len(word) and len(word) > 3:\n",
    "#     ans += 1\n",
    "\n",
    "s = \"Unique character in words\"\n",
    "count_unique_words(s)\n",
    "\n",
    "# ANS: A, B"
   ]
  },
  {
   "cell_type": "code",
   "execution_count": 15,
   "metadata": {},
   "outputs": [
    {
     "name": "stdout",
     "output_type": "stream",
     "text": [
      "[['Data', 10, 'Science'], ['Python', 12, 'Data']]\n"
     ]
    }
   ],
   "source": [
    "# D28 - Q7: In the given code snippet, the code returns each sublist in the output only if the element \"Data\" is present in the sublist. What will be the appropriate code block from the options to complete the function get_sublist() such that it returns the output as expected.\n",
    "\n",
    "lists = [[\"Data\", 10, \"Science\"],[\"Python\", 12, \"Data\"],[\"Machine\", 60, \"Learning\"],[\"Python\", 5, \"machine\"]]\n",
    "\n",
    "def get_sublist(lists, keyword):\n",
    "\n",
    "    sublists = []\n",
    "\n",
    "    for lst in lists:\n",
    "      if keyword in lst:\n",
    "        sublists.append(lst)\n",
    "\n",
    "    return sublists\n",
    "\n",
    "lists = get_sublist(lists, 'Data')\n",
    "print(lists)\n",
    "\n",
    "# a)for lst in lists:\n",
    "#        for i in lst:\n",
    "#             sublists.append(i)\n",
    "# b)for lst in lists:\n",
    "#        for i in lst:\n",
    "#             sublists.append(lst)\n",
    "# c)for lst in lists:\n",
    "#         if keyword in lst:\n",
    "#             sublists.append(lst)\n",
    "# d)for lst in lists:\n",
    "#         if keyword in lst:\n",
    "#             sublists.append(keyword)"
   ]
  },
  {
   "cell_type": "code",
   "execution_count": 16,
   "metadata": {},
   "outputs": [
    {
     "name": "stdout",
     "output_type": "stream",
     "text": [
      "n\n"
     ]
    }
   ],
   "source": [
    "# D28 - Q8: Which option can be used to access the element \"n\" in the given nested_list?\n",
    "\n",
    "nested_list = [\"d\",\"a\", \"t\",[ \"a\",\" s\", [\"c\", \"i\",\"e\",\"n\",[\"c\",\"e\"]]]]\n",
    "\n",
    "print(nested_list[3][2][3])"
   ]
  },
  {
   "cell_type": "code",
   "execution_count": 44,
   "metadata": {},
   "outputs": [
    {
     "name": "stdout",
     "output_type": "stream",
     "text": [
      "********\n",
      "*     *\n",
      "*    *\n",
      "*   *\n",
      "*  *\n",
      "* *\n",
      "**\n",
      "*\n"
     ]
    }
   ],
   "source": [
    "# D28 - Q9: Write a function to print a similar pattern as shown in the sample using n, where n defines the number of rows.\n",
    "# Note: There isn't any space between stars in the first row.\n",
    "\n",
    "def star(n):\n",
    "    ''' input: n = An Integer value defines number of rows\n",
    "        output: print the star pattern'''\n",
    "    # YOUR CODE GOES HERE\n",
    "    spaces = 0\n",
    "    for i in range(n):\n",
    "      for j in range(n - spaces, 0, -1):\n",
    "        if i == 0 or j == 1 or j == (n - spaces):\n",
    "          print(\"*\", end = \"\")\n",
    "        else:\n",
    "          print(\" \", end = \"\")\n",
    "      print(\"\")\n",
    "      spaces += 1\n",
    "\n",
    "star(8)"
   ]
  },
  {
   "cell_type": "code",
   "execution_count": 48,
   "metadata": {},
   "outputs": [
    {
     "data": {
      "text/plain": [
       "'c'"
      ]
     },
     "execution_count": 48,
     "metadata": {},
     "output_type": "execute_result"
    }
   ],
   "source": [
    "# D28 - Q10: Which of the following codes can be used in place of [???] in the above code snippet, so that it returns the most frequent element present in the list?\n",
    "\n",
    "def most_frequent(List):\n",
    "    total=0\n",
    "    result= List[0]\n",
    "    for i in List:\n",
    "        curr_frequency = List.count(i)\n",
    "        if (curr_frequency > total):\n",
    "            total =curr_frequency\n",
    "            result = i\n",
    "    return(result)\n",
    "\n",
    "#A\n",
    "# dict= {}\n",
    "# count, result = 0, \" \"\n",
    "# for item in reversed(List):\n",
    "#   dict[item] = dict.get(item,0) + 1\n",
    "#   if dict[item] >= count:\n",
    "#     count, result = dict[item] , item\n",
    "\n",
    "#B\n",
    "# result = max(set(List), keys= List.count())\n",
    "\n",
    "#C\n",
    "# total=0\n",
    "# result= List[0]\n",
    "# for i in List:\n",
    "#   curr_frequency = List.count(i)\n",
    "#   if (curr_frequency > total):\n",
    "#     total =curr_frequency\n",
    "#     result = i\n",
    "\n",
    "\n",
    "s = \"character\"\n",
    "most_frequent(s)\n",
    "\n",
    "# ANS: A, C"
   ]
  },
  {
   "cell_type": "code",
   "execution_count": 2,
   "metadata": {},
   "outputs": [
    {
     "name": "stdout",
     "output_type": "stream",
     "text": [
      "1\n"
     ]
    }
   ],
   "source": [
    "# D2 - Q5: Write a function to check whether a given number n as an input to the function is a perfect number or not. If the given integer is a perfect number return 1 else return 0.\n",
    "\n",
    "# Note: In number theory, a perfect number is a positive integer that is equal to the sum of its proper positive divisors, that is, the sum of its positive divisors excluding the number itself (also known as its aliquot sum). Equivalently, a perfect number is a number that is half the sum of all of its positive divisors (including itself).\n",
    "\n",
    "# Example: Given number is 6. 1, 2, and 3 are its proper positive divisors, and 1 + 2 + 3 = 6. Equivalently, the number 6 is equal to half the sum of all its positive divisors: ( 1 + 2 + 3 + 6 ) / 2 = 6. Hence 6 is a perfect number.\n",
    "\n",
    "def perfect_number(n):\n",
    "    '''input: n = An Integer value \n",
    "        output: return 1 if it is perfect number else 0'''\n",
    "    # YOUR CODE GOES HERE\n",
    "    sum_positive_divisors = 0\n",
    "    for i in range(1, n+1):\n",
    "        if n % i == 0:\n",
    "            sum_positive_divisors += i\n",
    "\n",
    "    if (sum_positive_divisors / 2) == n:\n",
    "        return 1\n",
    "    \n",
    "    return 0\n",
    "\n",
    "print(perfect_number(6))"
   ]
  },
  {
   "cell_type": "code",
   "execution_count": 6,
   "metadata": {},
   "outputs": [
    {
     "name": "stdout",
     "output_type": "stream",
     "text": [
      "['i', 'u']\n"
     ]
    }
   ],
   "source": [
    "# D2 - Q6: Write a program using list comprehension to return the list of all the occurrences of vowels present in the given string.\n",
    "\n",
    "def check_vowels(str):\n",
    "    vowels_list=[]\n",
    "    '''Input: str takes the string as input\n",
    "       Output: Store the vowels in vowels_list and return it.'''\n",
    "    # YOUR CODE GOES HERE\n",
    "    vowels = 'aeiou'\n",
    "\n",
    "    for c in str:\n",
    "      if (vowels.find(c.lower()) != -1):\n",
    "        vowels_list.append(c)\n",
    "\n",
    "    return vowels_list\n",
    "\n",
    "print(check_vowels('input'))"
   ]
  },
  {
   "cell_type": "code",
   "execution_count": null,
   "metadata": {},
   "outputs": [],
   "source": []
  }
 ],
 "metadata": {
  "kernelspec": {
   "display_name": "Python 3.8.9 64-bit",
   "language": "python",
   "name": "python3"
  },
  "language_info": {
   "codemirror_mode": {
    "name": "ipython",
    "version": 3
   },
   "file_extension": ".py",
   "mimetype": "text/x-python",
   "name": "python",
   "nbconvert_exporter": "python",
   "pygments_lexer": "ipython3",
   "version": "3.9.6"
  },
  "orig_nbformat": 4,
  "vscode": {
   "interpreter": {
    "hash": "31f2aee4e71d21fbe5cf8b01ff0e069b9275f58929596ceb00d14d90e3e16cd6"
   }
  }
 },
 "nbformat": 4,
 "nbformat_minor": 2
}
