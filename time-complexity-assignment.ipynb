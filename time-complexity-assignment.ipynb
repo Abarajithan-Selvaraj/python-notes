{
 "cells": [
  {
   "cell_type": "code",
   "execution_count": 5,
   "metadata": {},
   "outputs": [
    {
     "name": "stdout",
     "output_type": "stream",
     "text": [
      "(10, 20, 30, 40, 50)\n"
     ]
    }
   ],
   "source": [
    "# D30 - Q3: Which of the options are correct in order to delete the last entry of the given tuple tup?\n",
    "\n",
    "tup = (10, 20, 30, 40, 50, 'string')\n",
    "\n",
    "# A) tup.remove(‘string’)\n",
    "\n",
    "# B) del tup[-1]\n",
    "\n",
    "# C) temp_tup = tup[:-1]\n",
    "#   tup = temp_tup\n",
    "\n",
    "# D) a, b, c, d, e, f, = tup\n",
    "#   tup = (a, b, c, d, e)\n",
    "\n",
    "\n",
    "# ANS: C & D\n",
    "\n"
   ]
  },
  {
   "cell_type": "code",
   "execution_count": null,
   "metadata": {},
   "outputs": [],
   "source": []
  }
 ],
 "metadata": {
  "kernelspec": {
   "display_name": "Python 3.9.6 64-bit",
   "language": "python",
   "name": "python3"
  },
  "language_info": {
   "codemirror_mode": {
    "name": "ipython",
    "version": 3
   },
   "file_extension": ".py",
   "mimetype": "text/x-python",
   "name": "python",
   "nbconvert_exporter": "python",
   "pygments_lexer": "ipython3",
   "version": "3.9.6"
  },
  "orig_nbformat": 4,
  "vscode": {
   "interpreter": {
    "hash": "31f2aee4e71d21fbe5cf8b01ff0e069b9275f58929596ceb00d14d90e3e16cd6"
   }
  }
 },
 "nbformat": 4,
 "nbformat_minor": 2
}
