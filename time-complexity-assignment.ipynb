{
 "cells": [
  {
   "cell_type": "code",
   "execution_count": 5,
   "metadata": {},
   "outputs": [
    {
     "name": "stdout",
     "output_type": "stream",
     "text": [
      "(10, 20, 30, 40, 50)\n"
     ]
    }
   ],
   "source": [
    "# D30 - Q3: Which of the options are correct in order to delete the last entry of the given tuple tup?\n",
    "\n",
    "tup = (10, 20, 30, 40, 50, 'string')\n",
    "\n",
    "# A) tup.remove(‘string’)\n",
    "\n",
    "# B) del tup[-1]\n",
    "\n",
    "# C) temp_tup = tup[:-1]\n",
    "#   tup = temp_tup\n",
    "\n",
    "# D) a, b, c, d, e, f, = tup\n",
    "#   tup = (a, b, c, d, e)\n",
    "\n",
    "\n",
    "# ANS: C & D\n",
    "\n"
   ]
  },
  {
   "cell_type": "code",
   "execution_count": 4,
   "metadata": {},
   "outputs": [
    {
     "name": "stdout",
     "output_type": "stream",
     "text": [
      "x \n",
      "x x \n",
      "x x x \n",
      "x x x x \n",
      "x x x x x \n",
      "x x x x x x \n",
      "x x x x x x x \n",
      "x x x x x x x x \n",
      "x x x x x x x x x \n"
     ]
    }
   ],
   "source": [
    "# D3 - Q3: What is the time complexity of the following code snippet?\n",
    "n = 10\n",
    "for i in range(1,n):\n",
    "  for j in range(i):\n",
    "    print(\"x\",end=\" \")\n",
    "  print()\n",
    "\n",
    "# ANS: O(n^2)"
   ]
  },
  {
   "cell_type": "code",
   "execution_count": 6,
   "metadata": {},
   "outputs": [],
   "source": [
    "# D4 - Q4: What is the time complexity of the following code snippet?\n",
    "\n",
    "for i in range(n):\n",
    "  j=i\n",
    "  while j!=0:\n",
    "    # print(j)\n",
    "    j=j//2\n",
    "\n",
    "# ANS: O(n.log(n))"
   ]
  },
  {
   "cell_type": "code",
   "execution_count": 7,
   "metadata": {},
   "outputs": [],
   "source": [
    "# D4 - Q2: What is the time complexity of the following code snippet?\n",
    "\n",
    "for i in range(n):\n",
    "  j=i\n",
    "  while j<i:        # doesn't run the loop since this condition is always false\n",
    "    # print(j)\n",
    "    j=j+1\n",
    "\n",
    "# ANS: O(n)"
   ]
  },
  {
   "cell_type": "code",
   "execution_count": null,
   "metadata": {},
   "outputs": [],
   "source": [
    "# D4 - Q1: What is the time complexity of the following code snippet?\n",
    "\n",
    "n=50\n",
    "a = 0\n",
    "i = n\n",
    "while (i > 1):\n",
    "  a += i\n",
    "  i //= 2\n",
    "\n",
    "# ANS: O(log(n))"
   ]
  }
 ],
 "metadata": {
  "kernelspec": {
   "display_name": "Python 3.9.6 64-bit",
   "language": "python",
   "name": "python3"
  },
  "language_info": {
   "codemirror_mode": {
    "name": "ipython",
    "version": 3
   },
   "file_extension": ".py",
   "mimetype": "text/x-python",
   "name": "python",
   "nbconvert_exporter": "python",
   "pygments_lexer": "ipython3",
   "version": "3.9.6"
  },
  "orig_nbformat": 4,
  "vscode": {
   "interpreter": {
    "hash": "31f2aee4e71d21fbe5cf8b01ff0e069b9275f58929596ceb00d14d90e3e16cd6"
   }
  }
 },
 "nbformat": 4,
 "nbformat_minor": 2
}
