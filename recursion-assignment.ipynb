{
 "cells": [
  {
   "cell_type": "code",
   "execution_count": 1,
   "metadata": {},
   "outputs": [
    {
     "data": {
      "text/plain": [
       "120"
      ]
     },
     "execution_count": 1,
     "metadata": {},
     "output_type": "execute_result"
    }
   ],
   "source": [
    "# D7 - Q1: Fill the line of code for calculating the factorial of a number.\n",
    "def fact(num):\n",
    "    if num == 0: \n",
    "        return 1\n",
    "    else:\n",
    "        return num*fact(num-1)\n",
    "\n",
    "fact(5)"
   ]
  },
  {
   "cell_type": "code",
   "execution_count": 3,
   "metadata": {},
   "outputs": [
    {
     "data": {
      "text/plain": [
       "12"
      ]
     },
     "execution_count": 3,
     "metadata": {},
     "output_type": "execute_result"
    }
   ],
   "source": [
    "# D7 - Q2: What will fun(4,8) return if fun() is defined as the following:\n",
    "\n",
    "def fun(i,j):\n",
    "    if(i==0):\n",
    "        return j\n",
    "    else:\n",
    "        return fun(i-1,j+1)\n",
    "\n",
    "fun(4, 8)"
   ]
  },
  {
   "cell_type": "code",
   "execution_count": 9,
   "metadata": {},
   "outputs": [
    {
     "name": "stdout",
     "output_type": "stream",
     "text": [
      "*\n",
      "*\n",
      "*\n",
      "*\n",
      "*\n",
      "*\n",
      "*\n",
      "*\n",
      "#\n",
      "#\n",
      "#\n"
     ]
    }
   ],
   "source": [
    "# D7 - Q3: According to the following code snippet, how many times will the print(\"*\") statement be executed if we call the function count_freq(256, 4)?\n",
    "\n",
    "def count_freq(x, y):\n",
    "    if (y != 1):\n",
    "        if (x != 1):\n",
    "            print(\"*\")\n",
    "            count_freq(x/2, y)\n",
    "        else:\n",
    "            print(\"#\")\n",
    "            y = y-1\n",
    "            count_freq(x, y)\n",
    "\n",
    "count_freq(256, 4)\n",
    "\n",
    "# ANS: 8"
   ]
  },
  {
   "cell_type": "code",
   "execution_count": 10,
   "metadata": {},
   "outputs": [
    {
     "name": "stdout",
     "output_type": "stream",
     "text": [
      "-7\n"
     ]
    }
   ],
   "source": [
    "# D7 - Q5: Predict the output of the following code snippet:-\n",
    "\n",
    "def fun(i,j):\n",
    "  if(i==0):\n",
    "    return j\n",
    "  else:\n",
    "    return fun(j,i-5)\n",
    "\n",
    "print(fun(15,8))"
   ]
  },
  {
   "cell_type": "code",
   "execution_count": 16,
   "metadata": {},
   "outputs": [
    {
     "name": "stdout",
     "output_type": "stream",
     "text": [
      "2\n"
     ]
    }
   ],
   "source": [
    "# D7 - Q4: Write a recursive function that returns the number of occurrences of \"hi\" in the string passed as a parameter to the function.\n",
    "\n",
    "def countHi(s, index=0, count = 0):\n",
    "    ''' s-indicates the string,\n",
    "        output:Return the count of occurrences of \"hi\" in s'''\n",
    "    \n",
    "    # YOUR CODE GOES HERE\n",
    "    if index == len(s)-1:\n",
    "        print(count)\n",
    "        return\n",
    "\n",
    "    if s[index:index+2] == \"hi\":\n",
    "        count += 1\n",
    "    \n",
    "    countHi(s, index+1, count)\n",
    "\n",
    "countHi('hishisha')\n"
   ]
  },
  {
   "cell_type": "code",
   "execution_count": 40,
   "metadata": {},
   "outputs": [
    {
     "name": "stdout",
     "output_type": "stream",
     "text": [
      "0 1 1 2 3 5 8 13 21 34 "
     ]
    }
   ],
   "source": [
    "# nth term of Fibanocci Series\n",
    "def fib(n):\n",
    "  if n == 0:\n",
    "    return 0\n",
    "  if n == 1 or n == 2:\n",
    "    return 1\n",
    "  \n",
    "  return fib(n-2) + fib(n-1)\n",
    "\n",
    "\n",
    "# fibanocci series upto n-terms\n",
    "for i in range(10):\n",
    "  print(fib(i), end=\" \")\n",
    "\n",
    "\n",
    "# Time Complexity: O(2^n)\n",
    "# Space Complexity: O(n)"
   ]
  },
  {
   "cell_type": "code",
   "execution_count": 47,
   "metadata": {},
   "outputs": [
    {
     "name": "stdout",
     "output_type": "stream",
     "text": [
      "101"
     ]
    }
   ],
   "source": [
    "# Base-10 to Binary conversion\n",
    "def b10tobin(n):\n",
    "  if n == 1:\n",
    "    print(1, end=\"\")\n",
    "    return\n",
    "\n",
    "  b10tobin(n//2)\n",
    "  print(n%2, end=\"\")\n",
    "\n",
    "b10tobin(5)"
   ]
  },
  {
   "cell_type": "code",
   "execution_count": 49,
   "metadata": {},
   "outputs": [
    {
     "data": {
      "text/plain": [
       "120"
      ]
     },
     "execution_count": 49,
     "metadata": {},
     "output_type": "execute_result"
    }
   ],
   "source": [
    "# factorial\n",
    "def factorial(n):\n",
    "  if n == 0 or n == 1:\n",
    "    return 1\n",
    "\n",
    "  return(n * factorial(n-1))\n",
    "\n",
    "factorial(5)"
   ]
  },
  {
   "cell_type": "code",
   "execution_count": 52,
   "metadata": {},
   "outputs": [
    {
     "data": {
      "text/plain": [
       "512"
      ]
     },
     "execution_count": 52,
     "metadata": {},
     "output_type": "execute_result"
    }
   ],
   "source": [
    "# power\n",
    "def power(n ,r):\n",
    "  if r == 1:\n",
    "    return n\n",
    "  \n",
    "  return n * power(n, r-1)\n",
    "\n",
    "power(2, 9)"
   ]
  },
  {
   "cell_type": "code",
   "execution_count": 1,
   "metadata": {},
   "outputs": [
    {
     "name": "stdout",
     "output_type": "stream",
     "text": [
      "110"
     ]
    }
   ],
   "source": [
    "# D10 - Q3: What is the output of the following piece of code?\n",
    "\n",
    "l = [ ]\n",
    "def convert(b):\n",
    "  if(b==0):\n",
    "    return l\n",
    "  digit=b%2\n",
    "  l.append(digit)\n",
    "  convert(b//2)\n",
    "\n",
    "convert(6)\n",
    "l.reverse()\n",
    "for i in l:\n",
    "  print(i,end=\"\")"
   ]
  },
  {
   "cell_type": "code",
   "execution_count": 4,
   "metadata": {},
   "outputs": [
    {
     "name": "stdout",
     "output_type": "stream",
     "text": [
      "46\n"
     ]
    }
   ],
   "source": [
    "# D10 - HOMEWORK Q1: What is the output of the following piece of code?\n",
    "\n",
    "def fun(n):\n",
    "  if (n > 50):\n",
    "    return n - 5\n",
    "  return fun(fun(n+11))\n",
    "print(fun(45))"
   ]
  },
  {
   "cell_type": "code",
   "execution_count": 6,
   "metadata": {},
   "outputs": [
    {
     "name": "stdout",
     "output_type": "stream",
     "text": [
      "0.333\n"
     ]
    }
   ],
   "source": [
    "# D10 - Q4: Write a program to calculate the sum of the positive integers of the series n + (n-2) + (n-4)..... (until n-x ≥ 0).\n",
    "\n",
    "def sum_series(n, i=0):\n",
    "    '''n = Input in integer format\n",
    "       output:return sum of the series'''\n",
    "    # YOUR CODE GOES HERE\n",
    "    s = n-i\n",
    "    if s <= 0:\n",
    "        return 0\n",
    "\n",
    "    return s + sum_series(n, i+2)"
   ]
  },
  {
   "cell_type": "code",
   "execution_count": 7,
   "metadata": {},
   "outputs": [],
   "source": [
    "# D10 - Q5: Write a recursive function to return the reverse of a given number passed as an argument.\n",
    "\n",
    "def rev(n, temp=''):\n",
    "    ''' n-indicates the number to be reversed,\n",
    "         output:Return the number in reversed order in the string format'''\n",
    "    \n",
    "    # YOUR CODE GOES HERE\n",
    "    if n == 0:\n",
    "        return temp\n",
    "\n",
    "    dig = n % 10\n",
    "    n = n // 10\n",
    "    # print(n, dig)\n",
    "    temp += str(dig)\n",
    "\n",
    "    return rev(n, temp)"
   ]
  },
  {
   "cell_type": "code",
   "execution_count": 1,
   "metadata": {},
   "outputs": [],
   "source": [
    "# D10 - HOMEWORK Q2: Write a recursive program to calculate the harmonic sum of the first n numbers. (1 + 1/2 + 1/3 + 1/4 + ... + 1/n)\n",
    "# The harmonic sum is the sum of reciprocals of the positive integers. (Round the sum to 3 decimal places)\n",
    "\n",
    "def harmonic_sum(n, s=0):\n",
    "    '''n = Input in integer format\n",
    "       output:return harmonic sum'''\n",
    "    # YOUR CODE GOES HERE\n",
    "    if n == 0:\n",
    "        return round(s, 3)\n",
    "    \n",
    "    s += 1/n\n",
    "    return(harmonic_sum(n-1, s))"
   ]
  },
  {
   "cell_type": "code",
   "execution_count": 5,
   "metadata": {},
   "outputs": [
    {
     "data": {
      "text/plain": [
       "20805472"
      ]
     },
     "execution_count": 5,
     "metadata": {},
     "output_type": "execute_result"
    }
   ],
   "source": [
    "# D12 - Q2: Implement pow(A, B) % C. In other words, given A, B and C, Find (A^B % C).\n",
    "\n",
    "class Solution:\n",
    "    # @param A : integer\n",
    "    # @param B : integer\n",
    "    # @param C : integer\n",
    "    # @return an integer\n",
    "    def pow(self, A, B, C):\n",
    "        return (pow(A, B, C))\n",
    "\n",
    "sol = Solution()\n",
    "sol.pow(71045970, 41535484, 64735492)"
   ]
  },
  {
   "cell_type": "code",
   "execution_count": 11,
   "metadata": {},
   "outputs": [
    {
     "name": "stdout",
     "output_type": "stream",
     "text": [
      "1\n",
      "0\n"
     ]
    }
   ],
   "source": [
    "# D12 - Q3: Given a number A, check if it is a magic number or not.\n",
    "# A number is said to be a magic number if the sum of its digits is calculated till a single digit recursively by adding the sum of the digits after every addition. If the single digit comes out to be 1, then the number is a magic number.\n",
    "# Explanation-1: Sum of digits of (83557) = 28, Sum of digits of (28) = 10, Sum of digits of (10) = 1. , Single digit is 1, so it's a magic number. Return 1.\n",
    "# Explanation-2: Sum of digits of (1291) = 13, Sum of digits of (13) = 4, Single digit is not 1, so it's not a magic number. Return 0.\n",
    "\n",
    "class Solution:\n",
    "    # @param A : integer\n",
    "    # @return an integer\n",
    "    def solve(self, A):\n",
    "        if A == 1:\n",
    "            return 1\n",
    "        \n",
    "        if A != 1 and len(str(A)) == 1:\n",
    "            return 0\n",
    "\n",
    "        li = list(map(int, str(A).strip()))\n",
    "        return(Solution.solve(self, sum(li)))\n",
    "\n",
    "sol = Solution()\n",
    "print(sol.solve(83557))     # is a magic number\n",
    "print(sol.solve(1291))      # is a non-magic number"
   ]
  },
  {
   "cell_type": "code",
   "execution_count": null,
   "metadata": {},
   "outputs": [],
   "source": []
  }
 ],
 "metadata": {
  "kernelspec": {
   "display_name": "Python 3.11.0 64-bit",
   "language": "python",
   "name": "python3"
  },
  "language_info": {
   "codemirror_mode": {
    "name": "ipython",
    "version": 3
   },
   "file_extension": ".py",
   "mimetype": "text/x-python",
   "name": "python",
   "nbconvert_exporter": "python",
   "pygments_lexer": "ipython3",
   "version": "3.11.0"
  },
  "orig_nbformat": 4,
  "vscode": {
   "interpreter": {
    "hash": "d3473b8a734f5b264c53dfb893613d7cf3e13a63cfbdd22e0f1f304ae96ce3da"
   }
  }
 },
 "nbformat": 4,
 "nbformat_minor": 2
}
