{
 "cells": [
  {
   "cell_type": "code",
   "execution_count": 1,
   "metadata": {},
   "outputs": [
    {
     "data": {
      "text/plain": [
       "120"
      ]
     },
     "execution_count": 1,
     "metadata": {},
     "output_type": "execute_result"
    }
   ],
   "source": [
    "# D7 - Q1: Fill the line of code for calculating the factorial of a number.\n",
    "def fact(num):\n",
    "    if num == 0: \n",
    "        return 1\n",
    "    else:\n",
    "        return num*fact(num-1)\n",
    "\n",
    "fact(5)"
   ]
  },
  {
   "cell_type": "code",
   "execution_count": 3,
   "metadata": {},
   "outputs": [
    {
     "data": {
      "text/plain": [
       "12"
      ]
     },
     "execution_count": 3,
     "metadata": {},
     "output_type": "execute_result"
    }
   ],
   "source": [
    "# D7 - Q2: What will fun(4,8) return if fun() is defined as the following:\n",
    "\n",
    "def fun(i,j):\n",
    "    if(i==0):\n",
    "        return j\n",
    "    else:\n",
    "        return fun(i-1,j+1)\n",
    "\n",
    "fun(4, 8)"
   ]
  },
  {
   "cell_type": "code",
   "execution_count": 9,
   "metadata": {},
   "outputs": [
    {
     "name": "stdout",
     "output_type": "stream",
     "text": [
      "*\n",
      "*\n",
      "*\n",
      "*\n",
      "*\n",
      "*\n",
      "*\n",
      "*\n",
      "#\n",
      "#\n",
      "#\n"
     ]
    }
   ],
   "source": [
    "# D7 - Q3: According to the following code snippet, how many times will the print(\"*\") statement be executed if we call the function count_freq(256, 4)?\n",
    "\n",
    "def count_freq(x, y):\n",
    "    if (y != 1):\n",
    "        if (x != 1):\n",
    "            print(\"*\")\n",
    "            count_freq(x/2, y)\n",
    "        else:\n",
    "            print(\"#\")\n",
    "            y = y-1\n",
    "            count_freq(x, y)\n",
    "\n",
    "count_freq(256, 4)\n",
    "\n",
    "# ANS: 8"
   ]
  },
  {
   "cell_type": "code",
   "execution_count": 10,
   "metadata": {},
   "outputs": [
    {
     "name": "stdout",
     "output_type": "stream",
     "text": [
      "-7\n"
     ]
    }
   ],
   "source": [
    "# D7 - Q5: Predict the output of the following code snippet:-\n",
    "\n",
    "def fun(i,j):\n",
    "  if(i==0):\n",
    "    return j\n",
    "  else:\n",
    "    return fun(j,i-5)\n",
    "\n",
    "print(fun(15,8))"
   ]
  },
  {
   "cell_type": "code",
   "execution_count": 16,
   "metadata": {},
   "outputs": [
    {
     "name": "stdout",
     "output_type": "stream",
     "text": [
      "2\n"
     ]
    }
   ],
   "source": [
    "# D7 - Q4: Write a recursive function that returns the number of occurrences of \"hi\" in the string passed as a parameter to the function.\n",
    "\n",
    "def countHi(s, index=0, count = 0):\n",
    "    ''' s-indicates the string,\n",
    "        output:Return the count of occurrences of \"hi\" in s'''\n",
    "    \n",
    "    # YOUR CODE GOES HERE\n",
    "    if index == len(s)-1:\n",
    "        print(count)\n",
    "        return\n",
    "\n",
    "    if s[index:index+2] == \"hi\":\n",
    "        count += 1\n",
    "    \n",
    "    countHi(s, index+1, count)\n",
    "\n",
    "countHi('hishisha')\n"
   ]
  },
  {
   "cell_type": "code",
   "execution_count": 40,
   "metadata": {},
   "outputs": [
    {
     "name": "stdout",
     "output_type": "stream",
     "text": [
      "0 1 1 2 3 5 8 13 21 34 "
     ]
    }
   ],
   "source": [
    "# nth term of Fibanocci Series\n",
    "def fib(n):\n",
    "  if n == 0:\n",
    "    return 0\n",
    "  if n == 1 or n == 2:\n",
    "    return 1\n",
    "  \n",
    "  return fib(n-2) + fib(n-1)\n",
    "\n",
    "\n",
    "# fibanocci series upto n-terms\n",
    "for i in range(10):\n",
    "  print(fib(i), end=\" \")"
   ]
  },
  {
   "cell_type": "code",
   "execution_count": 47,
   "metadata": {},
   "outputs": [
    {
     "name": "stdout",
     "output_type": "stream",
     "text": [
      "101"
     ]
    }
   ],
   "source": [
    "# Base-10 to Binary conversion\n",
    "def b10tobin(n):\n",
    "  if n == 1:\n",
    "    print(1, end=\"\")\n",
    "    return\n",
    "\n",
    "  b10tobin(n//2)\n",
    "  print(n%2, end=\"\")\n",
    "\n",
    "b10tobin(5)"
   ]
  },
  {
   "cell_type": "code",
   "execution_count": 49,
   "metadata": {},
   "outputs": [
    {
     "data": {
      "text/plain": [
       "120"
      ]
     },
     "execution_count": 49,
     "metadata": {},
     "output_type": "execute_result"
    }
   ],
   "source": [
    "# factorial\n",
    "def factorial(n):\n",
    "  if n == 0 or n == 1:\n",
    "    return 1\n",
    "\n",
    "  return(n * factorial(n-1))\n",
    "\n",
    "factorial(5)"
   ]
  },
  {
   "cell_type": "code",
   "execution_count": 52,
   "metadata": {},
   "outputs": [
    {
     "data": {
      "text/plain": [
       "512"
      ]
     },
     "execution_count": 52,
     "metadata": {},
     "output_type": "execute_result"
    }
   ],
   "source": [
    "# power\n",
    "def power(n ,r):\n",
    "  if r == 1:\n",
    "    return n\n",
    "  \n",
    "  return n * power(n, r-1)\n",
    "\n",
    "power(2, 9)"
   ]
  },
  {
   "cell_type": "code",
   "execution_count": null,
   "metadata": {},
   "outputs": [],
   "source": []
  }
 ],
 "metadata": {
  "kernelspec": {
   "display_name": "Python 3.9.6 64-bit",
   "language": "python",
   "name": "python3"
  },
  "language_info": {
   "codemirror_mode": {
    "name": "ipython",
    "version": 3
   },
   "file_extension": ".py",
   "mimetype": "text/x-python",
   "name": "python",
   "nbconvert_exporter": "python",
   "pygments_lexer": "ipython3",
   "version": "3.9.6"
  },
  "orig_nbformat": 4,
  "vscode": {
   "interpreter": {
    "hash": "31f2aee4e71d21fbe5cf8b01ff0e069b9275f58929596ceb00d14d90e3e16cd6"
   }
  }
 },
 "nbformat": 4,
 "nbformat_minor": 2
}
