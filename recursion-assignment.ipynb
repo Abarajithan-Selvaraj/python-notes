{
 "cells": [
  {
   "cell_type": "code",
   "execution_count": 1,
   "metadata": {},
   "outputs": [
    {
     "data": {
      "text/plain": [
       "120"
      ]
     },
     "execution_count": 1,
     "metadata": {},
     "output_type": "execute_result"
    }
   ],
   "source": [
    "# D7 - Q1: Fill the line of code for calculating the factorial of a number.\n",
    "def fact(num):\n",
    "    if num == 0: \n",
    "        return 1\n",
    "    else:\n",
    "        return num*fact(num-1)\n",
    "\n",
    "fact(5)"
   ]
  },
  {
   "cell_type": "code",
   "execution_count": 3,
   "metadata": {},
   "outputs": [
    {
     "data": {
      "text/plain": [
       "12"
      ]
     },
     "execution_count": 3,
     "metadata": {},
     "output_type": "execute_result"
    }
   ],
   "source": [
    "# D7 - Q2: What will fun(4,8) return if fun() is defined as the following:\n",
    "\n",
    "def fun(i,j):\n",
    "    if(i==0):\n",
    "        return j\n",
    "    else:\n",
    "        return fun(i-1,j+1)\n",
    "\n",
    "fun(4, 8)"
   ]
  },
  {
   "cell_type": "code",
   "execution_count": 9,
   "metadata": {},
   "outputs": [
    {
     "name": "stdout",
     "output_type": "stream",
     "text": [
      "*\n",
      "*\n",
      "*\n",
      "*\n",
      "*\n",
      "*\n",
      "*\n",
      "*\n",
      "#\n",
      "#\n",
      "#\n"
     ]
    }
   ],
   "source": [
    "# D7 - Q3: According to the following code snippet, how many times will the print(\"*\") statement be executed if we call the function count_freq(256, 4)?\n",
    "\n",
    "def count_freq(x, y):\n",
    "    if (y != 1):\n",
    "        if (x != 1):\n",
    "            print(\"*\")\n",
    "            count_freq(x/2, y)\n",
    "        else:\n",
    "            print(\"#\")\n",
    "            y = y-1\n",
    "            count_freq(x, y)\n",
    "\n",
    "count_freq(256, 4)\n",
    "\n",
    "# ANS: 8"
   ]
  },
  {
   "cell_type": "code",
   "execution_count": 10,
   "metadata": {},
   "outputs": [
    {
     "name": "stdout",
     "output_type": "stream",
     "text": [
      "-7\n"
     ]
    }
   ],
   "source": [
    "# D7 - Q5: Predict the output of the following code snippet:-\n",
    "\n",
    "def fun(i,j):\n",
    "  if(i==0):\n",
    "    return j\n",
    "  else:\n",
    "    return fun(j,i-5)\n",
    "\n",
    "print(fun(15,8))"
   ]
  },
  {
   "cell_type": "code",
   "execution_count": 16,
   "metadata": {},
   "outputs": [
    {
     "name": "stdout",
     "output_type": "stream",
     "text": [
      "2\n"
     ]
    }
   ],
   "source": [
    "# D7 - Q4: Write a recursive function that returns the number of occurrences of \"hi\" in the string passed as a parameter to the function.\n",
    "\n",
    "def countHi(s, index=0, count = 0):\n",
    "    ''' s-indicates the string,\n",
    "        output:Return the count of occurrences of \"hi\" in s'''\n",
    "    \n",
    "    # YOUR CODE GOES HERE\n",
    "    if index == len(s)-1:\n",
    "        print(count)\n",
    "        return\n",
    "\n",
    "    if s[index:index+2] == \"hi\":\n",
    "        count += 1\n",
    "    \n",
    "    countHi(s, index+1, count)\n",
    "\n",
    "countHi('hishisha')\n"
   ]
  },
  {
   "cell_type": "code",
   "execution_count": null,
   "metadata": {},
   "outputs": [],
   "source": []
  }
 ],
 "metadata": {
  "kernelspec": {
   "display_name": "Python 3.8.5 64-bit",
   "language": "python",
   "name": "python3"
  },
  "language_info": {
   "codemirror_mode": {
    "name": "ipython",
    "version": 3
   },
   "file_extension": ".py",
   "mimetype": "text/x-python",
   "name": "python",
   "nbconvert_exporter": "python",
   "pygments_lexer": "ipython3",
   "version": "3.8.5"
  },
  "orig_nbformat": 4,
  "vscode": {
   "interpreter": {
    "hash": "41ce847c0450e3d9f9b6f567fffc9e578ec90f5cdc87fe409eee8932f62d0364"
   }
  }
 },
 "nbformat": 4,
 "nbformat_minor": 2
}
